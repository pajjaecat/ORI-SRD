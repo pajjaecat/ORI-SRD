{
 "cells": [
  {
   "cell_type": "markdown",
   "id": "a3acb371-7fea-4ba8-98a7-09511891a7d8",
   "metadata": {},
   "source": [
    "#### Using a power flow, compute the maximum voltage rise on the on lower network from Jan-01-2020 to  June-01-2022.\n",
    "\n",
    "\n",
    "The computed Voltage rise (Vrise) is converted into its binary counterpart.\n",
    "\n",
    "See: \n",
    "- [VoltageRiseNum_Train](VoltageRiseNum_Train.ipynb) and [VoltageRiseNum_Pred](VoltageRiseNum_Pred.ipynb) for training and testing to predict numerical Voltage rise.\n",
    "- [VoltageRiseBin_Train](voltageRiseBin_Train.ipynb) and [VoltageRiseBin_Pred](voltageRiseBin_Pred.ipynb) for training and testing to predict binary Voltage rise.\n"
   ]
  },
  {
   "cell_type": "markdown",
   "id": "ca937977-6e82-47ef-a245-34fb518a536e",
   "metadata": {},
   "source": [
    "---"
   ]
  },
  {
   "cell_type": "markdown",
   "id": "df5ee728-7a55-4a71-8dd7-689ee421cfd7",
   "metadata": {},
   "source": [
    "#### Import modules"
   ]
  },
  {
   "cell_type": "code",
   "execution_count": 8,
   "id": "ff68767a-87d2-4ba2-986d-4e3f4c9fcf8f",
   "metadata": {},
   "outputs": [],
   "source": [
    "import pandas as pd\n",
    "import pandapower as pp\n",
    "import matplotlib.pyplot as plt\n",
    "import ipyparallel as ipp\n",
    "from tqdm import tqdm # Profiling \n",
    "import pickle \n",
    "import sys\n",
    "import os\n",
    "from pickle import load\n",
    "import checker\n",
    "import tensorflow as tf\n",
    "import joblib"
   ]
  },
  {
   "cell_type": "code",
   "execution_count": 21,
   "id": "b946a5ab-90cd-469d-9cee-e3ba6c72422e",
   "metadata": {},
   "outputs": [],
   "source": [
    "function_folder = '../Modules/' \n",
    "# Add function folder to path if it is not already\n",
    "if function_folder not in sys.path: sys.path.append(function_folder)\n",
    "\n",
    "import oriFunctions as oriFc\n",
    "import oriClass as oriCs\n",
    "from fnfrnb import NotebookLoader\n",
    "from oriVariables import (network_folder, \n",
    "                          testSet_end, \n",
    "                          trainVal_split_date, \n",
    "                          defAuth_hvBus_vRiseMax, \n",
    "                          defAuth_hvBus_vRiseMin,\n",
    "                          testSet_end,\n",
    "                          h_start_end2,\n",
    "                          lowerNet_file_loc, \n",
    "                          upperNet_file_loc, \n",
    "                          simResult_folder, \n",
    "                          ctrld_HvProd_name, \n",
    "                          default_ctrld_hvProd_max )\n",
    "\n",
    "from fnfrnb import NotebookLoader"
   ]
  },
  {
   "cell_type": "code",
   "execution_count": 22,
   "id": "4faff462-0626-4ab0-a698-f13bd76c14d4",
   "metadata": {},
   "outputs": [
    {
     "name": "stdout",
     "output_type": "stream",
     "text": [
      "importing Jupyter notebook from parFn.ipynb\n"
     ]
    }
   ],
   "source": [
    "oriPar = NotebookLoader().load_module('parFn')"
   ]
  },
  {
   "cell_type": "markdown",
   "id": "d9bd8272-7495-4bdb-b74a-5f40510ea90e",
   "metadata": {},
   "source": [
    "#### Import Networks\n"
   ]
  },
  {
   "cell_type": "code",
   "execution_count": 4,
   "id": "33c60960-28a1-4d74-a205-e9d0f4d18450",
   "metadata": {},
   "outputs": [],
   "source": [
    "lowerNet=pp.from_pickle(lowerNet_file_loc)    # Import the Lower Network\n",
    "upperNet=pp.from_pickle(upperNet_file_loc)    # Import the upper Network\n",
    "\n",
    "# Load networks\n",
    "networks = oriCs.InitNetworks(upperNet, lowerNet)\n",
    "\n",
    "# To use later in functions \n",
    "sum_max_main_network = networks.get_upperNet_sum_max_lvProdLoad()\n",
    "\n",
    "# Extract the total of BT prod and Load on St Laurent\n",
    "sum_max_p_mw_StLaurent_prodBT = sum_max_main_network[0]\n",
    "sum_max_p_mw_StLaurent_load = sum_max_main_network[1]"
   ]
  },
  {
   "cell_type": "markdown",
   "id": "9447dca5-7c54-464d-8293-477e083d08a4",
   "metadata": {
    "tags": []
   },
   "source": [
    "#### Import Cleaned data files for component of the network"
   ]
  },
  {
   "cell_type": "code",
   "execution_count": 9,
   "id": "fe87ef8e-1c5a-4b69-b8c4-3dd1e2cd797f",
   "metadata": {},
   "outputs": [],
   "source": [
    "df_data = joblib.load(simResult_folder+'StLaurent_cleanedData.pkl')\n",
    "\n",
    "# Extract only dailight period i.e. from 07am to 7PM\n",
    "per_index = df_data.index\n",
    "per_daylight = ( pd.Series(index=per_index.to_timestamp(), dtype=object)\n",
    "                .between_time(*h_start_end2) ).index.to_period('10T')\n",
    "day_tot_per = len(per_daylight[(per_daylight.year==2020)&(per_daylight.month==1)&(per_daylight.day==1)])\n",
    "\n",
    "\n",
    "# Put all the data in a unique pandas.DataFrame\n",
    "df_data = df_data.loc[per_daylight]\n",
    "\n",
    "# # Extract only the relavant testing set since the training set covers the first part of the data\n",
    "df_final = df_data[df_data.index < testSet_end]\n",
    "per_index = df_final.index\n",
    "per_index2 = ( pd.Series(index=per_index.to_timestamp(), dtype=object\n",
    "                           ).between_time(*h_start_end2) ).index.to_period('10T')\n",
    "\n",
    "\n",
    "# Check whether the input dataframe columns are in the expected order\n",
    "checker.check_networkDataDf_columnsOrder(df_final)"
   ]
  },
  {
   "cell_type": "markdown",
   "id": "8a272c8a-31c2-4973-b223-f3f281cd17a0",
   "metadata": {},
   "source": [
    "#### Data extraction on the network"
   ]
  },
  {
   "cell_type": "code",
   "execution_count": 10,
   "id": "c7cb50ba-ec7e-4baa-8455-0c83e95c2f5a",
   "metadata": {},
   "outputs": [],
   "source": [
    "lowerNet_hv_bus = networks.get_lowerNet_hv_bus_df() # Extract HV bus in the network\n",
    "\n",
    "pp.runpp(lowerNet) # Run network \n",
    "\n",
    "# Get the index of all the activated bus in the network\n",
    "activated_bus_index = list(lowerNet.res_bus.vm_pu[lowerNet.res_bus.vm_pu.notna()].index)\n",
    "\n",
    "# Extract the HV bus from the list of activated bus \n",
    "lowerNet_hv_activated_bus = [i for i in activated_bus_index \n",
    "                               if i in lowerNet_hv_bus.index]\n",
    "\n",
    "# redefine data given final pandas.DataFrame\n",
    "df_prodHT = df_final.iloc[:,2:]\n",
    "df_prod_bt_total = df_final.iloc[:,[1]]\n",
    "df_cons_total = df_final.iloc[:,[0]]\n",
    "\n",
    "# Define a dict \n",
    "dict_df_sgenLoad = dict({'df_prodHT':df_prodHT, \n",
    "                         'df_prod_bt_total':df_prod_bt_total, \n",
    "                         'df_cons_total':df_cons_total } )"
   ]
  },
  {
   "cell_type": "markdown",
   "id": "5e3557da-25a0-48fe-bb7b-2b174d9eff1d",
   "metadata": {},
   "source": [
    "#### Start Parallel engines"
   ]
  },
  {
   "cell_type": "code",
   "execution_count": 11,
   "id": "28d4a2af-6a71-4a80-b9ea-81bed557faa8",
   "metadata": {},
   "outputs": [
    {
     "name": "stdout",
     "output_type": "stream",
     "text": [
      "Starting 7 engines with <class 'ipyparallel.cluster.launcher.LocalEngineSetLauncher'>\n"
     ]
    },
    {
     "data": {
      "application/vnd.jupyter.widget-view+json": {
       "model_id": "ab488693fa5a44cb800d728e2c42de84",
       "version_major": 2,
       "version_minor": 0
      },
      "text/plain": [
       "  0%|          | 0/7 [00:00<?, ?engine/s]"
      ]
     },
     "metadata": {},
     "output_type": "display_data"
    }
   ],
   "source": [
    "n_engines = os.cpu_count() - 1  # Define total number of parallel engines to use. \n",
    "# Make sure it is lower than the total number of cores in the computer otherwise \n",
    "# no ressources is available to work when the simulation is running. \n",
    "parEngines = oriCs.CreateParEngines(n_engines)\n",
    "                   "
   ]
  },
  {
   "cell_type": "markdown",
   "id": "1f3ce050-4829-4040-9da7-019725b2026e",
   "metadata": {},
   "source": [
    "#### Load network"
   ]
  },
  {
   "cell_type": "code",
   "execution_count": 14,
   "id": "fb190c11-4a3a-4cf6-b589-16abbfac8286",
   "metadata": {},
   "outputs": [],
   "source": [
    "# Add a controllable line to the static generators\n",
    "lowerNet.sgen['controllable'] = False \n",
    "\n",
    "# Set the producer P0100 as a controllable load\n",
    "lowerNet.sgen['controllable'][lowerNet.sgen.name==ctrld_HvProd_name] = True\n",
    "\n",
    "# Add Missing columns to be able to un an opf \n",
    "lowerNet.sgen[['min_p_mw', 'min_q_mvar', 'max_q_mvar']]=0.\n",
    "\n",
    "# Rename data in bus network because the names do not correspond to the parameters in pandapower \n",
    "lowerNet.bus.rename({'max_vw_pu':'max_vm_pu',}, axis=1, inplace=True)\n",
    "\n",
    "lowerNet.bus.drop(['max_vm', 'min_vm'], axis=1, inplace=True)    # Delete useless parameters\n",
    "lowerNet_hv_bus = list(lowerNet.bus.groupby('vn_kv'))[1][1]   # Extract HV bus in the network\n",
    "\n",
    "pp.runpp(lowerNet) # Run network \n",
    "\n",
    "# Get the index of all the activated bus in the network\n",
    "activated_bus_index2 = list(lowerNet.res_bus.vm_pu[lowerNet.res_bus.vm_pu.notna()].index)\n",
    "\n",
    "# Extract the HV bus from the list of activated bus \n",
    "lowerNet_hv_activated_bus = [i for i in activated_bus_index2 \n",
    "                               if i in lowerNet_hv_bus.index]"
   ]
  },
  {
   "cell_type": "markdown",
   "id": "81bc2e35-3ebf-4ad2-abc3-c0eadaf8e54f",
   "metadata": {
    "tags": []
   },
   "source": [
    "#### Add maximum voltage constraints on the Buses in the network "
   ]
  },
  {
   "cell_type": "code",
   "execution_count": 15,
   "id": "f3a4943a-ed3a-4edd-9f09-9fc73508c579",
   "metadata": {
    "tags": []
   },
   "outputs": [],
   "source": [
    "vm_mu_max, vm_mu_min = defAuth_hvBus_vRiseMax, defAuth_hvBus_vRiseMin  \n",
    "lowerNet.bus.max_vm_pu[lowerNet_hv_activated_bus] = vm_mu_max\n",
    "lowerNet.bus.min_vm_pu[lowerNet_hv_activated_bus] = vm_mu_min"
   ]
  },
  {
   "cell_type": "markdown",
   "id": "909d6f5d-1a4b-4d5c-9ed6-a7ace8de6a3b",
   "metadata": {},
   "source": [
    "#### Define Cost "
   ]
  },
  {
   "cell_type": "code",
   "execution_count": 16,
   "id": "ac18f8b3-89b5-46cd-925a-716f4624fe0c",
   "metadata": {},
   "outputs": [
    {
     "data": {
      "text/html": [
       "<div>\n",
       "<style scoped>\n",
       "    .dataframe tbody tr th:only-of-type {\n",
       "        vertical-align: middle;\n",
       "    }\n",
       "\n",
       "    .dataframe tbody tr th {\n",
       "        vertical-align: top;\n",
       "    }\n",
       "\n",
       "    .dataframe thead th {\n",
       "        text-align: right;\n",
       "    }\n",
       "</style>\n",
       "<table border=\"1\" class=\"dataframe\">\n",
       "  <thead>\n",
       "    <tr style=\"text-align: right;\">\n",
       "      <th></th>\n",
       "      <th>element</th>\n",
       "      <th>et</th>\n",
       "      <th>cp0_eur</th>\n",
       "      <th>cp1_eur_per_mw</th>\n",
       "      <th>cp2_eur_per_mw2</th>\n",
       "      <th>cq0_eur</th>\n",
       "      <th>cq1_eur_per_mvar</th>\n",
       "      <th>cq2_eur_per_mvar2</th>\n",
       "    </tr>\n",
       "  </thead>\n",
       "  <tbody>\n",
       "    <tr>\n",
       "      <th>0</th>\n",
       "      <td>23</td>\n",
       "      <td>sgen</td>\n",
       "      <td>0.0</td>\n",
       "      <td>-1.0</td>\n",
       "      <td>0.0</td>\n",
       "      <td>0.0</td>\n",
       "      <td>0.0</td>\n",
       "      <td>0.0</td>\n",
       "    </tr>\n",
       "  </tbody>\n",
       "</table>\n",
       "</div>"
      ],
      "text/plain": [
       "   element    et  cp0_eur  cp1_eur_per_mw  cp2_eur_per_mw2  cq0_eur  \\\n",
       "0       23  sgen      0.0            -1.0              0.0      0.0   \n",
       "\n",
       "   cq1_eur_per_mvar  cq2_eur_per_mvar2  \n",
       "0               0.0                0.0  "
      ]
     },
     "execution_count": 16,
     "metadata": {},
     "output_type": "execute_result"
    }
   ],
   "source": [
    "# get the index of the controlled HV prod in SGEN table\n",
    "ctrld_hvProd_index = lowerNet.sgen.query('name==@ctrld_HvProd_name').index\n",
    "\n",
    "# Add negative cost to usability of sgen P0100 so its usage can be maximised while respecting the constraints on the network\n",
    "cost_sgen_p0100 = pp.create_poly_cost(lowerNet, ctrld_hvProd_index,'sgen', cp1_eur_per_mw=-1)\n",
    "\n",
    "lowerNet.poly_cost"
   ]
  },
  {
   "cell_type": "markdown",
   "id": "f3f5d3c9-eb37-4f7b-80ba-50b5bd5edc8e",
   "metadata": {},
   "source": [
    "#### Send data into local space of each engine"
   ]
  },
  {
   "cell_type": "code",
   "execution_count": 20,
   "id": "3828afc5-0a93-4531-a928-2a48e098b5f4",
   "metadata": {},
   "outputs": [
    {
     "name": "stdout",
     "output_type": "stream",
     "text": [
      "importing numpy on engine(s)\n",
      "importing pandapower on engine(s)\n",
      "importing pandas on engine(s)\n",
      "importing sys on engine(s)\n",
      "importing oriFunctions on engine(s)\n"
     ]
    }
   ],
   "source": [
    "opf_status = False\n",
    "\n",
    "# Create a dictionnary containing all the varible that will be used by each client or engine\n",
    "pred_model = None\n",
    "\n",
    "parameters_dict = dict({'lowerNet':lowerNet, \n",
    "                        'lowerNet_hv_activated_bus':lowerNet_hv_activated_bus, \n",
    "                        'sum_max_main_network':sum_max_main_network, \n",
    "                        'vm_mu_max':vm_mu_max,\n",
    "                        'pred_model':pred_model\n",
    "                         })\n",
    "\n",
    "# Declare variables\n",
    "hvProd_upscaling_coef = default_ctrld_hvProd_max \n",
    "P0100_max = default_ctrld_hvProd_max\n",
    "\n",
    "# Create dictionnary of main variable i.e. Prod BT, HT, Cons to used in parallel engines \n",
    "dict_df_sgenLoad = oriFc.createDict_prodHtBt_Load(df_final,\n",
    "                                                  networks, \n",
    "                                                  hvProd_upscaling_coef,\n",
    "                                                  P0100_max )\n",
    "\n",
    "df_prodHT = dict_df_sgenLoad['df_prodHT']\n",
    "\n",
    "\n",
    "# Send all the created variables into local spaces of each engine.\n",
    "parEngines.sendVar_to_localSpace(df_prodHT.index, opf_status, dict_df_sgenLoad, parameters_dict, True )\n"
   ]
  },
  {
   "cell_type": "markdown",
   "id": "31af9990-9fef-42b6-bbb2-9ebae521a6cd",
   "metadata": {},
   "source": [
    "#### Run Optimal /power flow  in each local engine\n",
    "**<span style='color:red'> -----------------  BLOC  PF/OPF -------------------  </span>**"
   ]
  },
  {
   "cell_type": "code",
   "execution_count": 23,
   "id": "c47a7037-ddea-4065-b081-f76b69e10c29",
   "metadata": {},
   "outputs": [
    {
     "data": {
      "application/vnd.jupyter.widget-view+json": {
       "model_id": "ec2eeacd016e4b519b51428fa5ec666d",
       "version_major": 2,
       "version_minor": 0
      },
      "text/plain": [
       "%px:   0%|          | 0/7 [00:00<?, ?tasks/s]"
      ]
     },
     "metadata": {},
     "output_type": "display_data"
    }
   ],
   "source": [
    "pf_opf_block_result = oriPar.par_block_pfOpf(parEngines, pred_model)    \n"
   ]
  },
  {
   "cell_type": "markdown",
   "id": "2f13f7f6-341c-450c-9168-354af18ed6e2",
   "metadata": {},
   "source": [
    "#### Binarize voltage rise on the Network"
   ]
  },
  {
   "cell_type": "code",
   "execution_count": 26,
   "id": "a09ddb0b-4049-4f31-9674-22aac56aa281",
   "metadata": {
    "tags": []
   },
   "outputs": [],
   "source": [
    "max_vm_pu_df = pf_opf_block_result\n",
    "\n",
    "# Binarize : 0 ==>  v_rise < vm_mu_max\n",
    "# Binarize : 0 ==>  v_rise >= vm_mu_max\n",
    "bin_voltage_rise = [1 if cur_elm == True \n",
    "                    else 0 \n",
    "                    for cur_elm in (max_vm_pu_df.max_vm_pu_pf > vm_mu_max).values ]\n",
    "\n",
    "# Add new the binary V_rise column to max_vm_pu_df\n",
    "max_vm_pu_df['Volt_Rise_Bin'] = bin_voltage_rise"
   ]
  },
  {
   "cell_type": "markdown",
   "id": "672dd8c8-22f1-40db-afe0-cc2bdd98ee1c",
   "metadata": {},
   "source": [
    "#### Plot"
   ]
  },
  {
   "cell_type": "code",
   "execution_count": 27,
   "id": "182a6fcc-7dec-4ba4-a1ce-acd42df0bca4",
   "metadata": {},
   "outputs": [
    {
     "data": {
      "text/plain": [
       "<matplotlib.lines.Line2D at 0x1c1ff474908>"
      ]
     },
     "execution_count": 27,
     "metadata": {},
     "output_type": "execute_result"
    },
    {
     "data": {
      "image/png": "[encoded data removed]",
      "text/plain": [
       "<Figure size 1800x600 with 1 Axes>"
      ]
     },
     "metadata": {},
     "output_type": "display_data"
    }
   ],
   "source": [
    "fig, axx = plt.subplots(figsize=(15,5), dpi=120)\n",
    "max_vm_pu_df.plot(ax=axx)\n",
    "plt.ylim((0.98,1.035))\n",
    "plt.axhline(vm_mu_max, color='red', lw=0.5)"
   ]
  },
  {
   "cell_type": "markdown",
   "id": "e44c91ee-834d-4b32-8da5-7710c6b8794a",
   "metadata": {},
   "source": [
    "#### Save Variables\n",
    "*<span style='color:green'>Run the following cell only one </span>*"
   ]
  },
  {
   "cell_type": "code",
   "execution_count": 41,
   "id": "f4fb9b9a-6757-43ed-9122-5670616382aa",
   "metadata": {},
   "outputs": [
    {
     "data": {
      "text/plain": [
       "['../Pickle_files/simulationResults/Binary_Voltage_Rise.pkl']"
      ]
     },
     "execution_count": 41,
     "metadata": {},
     "output_type": "execute_result"
    }
   ],
   "source": [
    "max_vm_pu_df.rename(columns={'vm_pu_max_pf':'known'}, inplace=True)# Rename columns\n",
    "joblib.dump(max_vm_pu_df, f'{simResult_folder}Binary_Voltage_Rise.pkl')"
   ]
  }
 ],
 "metadata": {
  "kernelspec": {
   "display_name": "Python 3 (ipykernel)",
   "language": "python",
   "name": "python3"
  },
  "language_info": {
   "codemirror_mode": {
    "name": "ipython",
    "version": 3
   },
   "file_extension": ".py",
   "mimetype": "text/x-python",
   "name": "python",
   "nbconvert_exporter": "python",
   "pygments_lexer": "ipython3",
   "version": "3.7.15"
  },
  "widgets": {
   "application/vnd.jupyter.widget-state+json": {
    "state": {
     "07ab2d7c0478449fa079eb14901649c3": {
      "model_module": "@jupyter-widgets/controls",
      "model_module_version": "2.0.0",
      "model_name": "HTMLStyleModel",
      "state": {
       "description_width": "",
       "font_size": null,
       "text_color": null
      }
     },
     "142c4f80adfa48259a740613921388bd": {
      "model_module": "@jupyter-widgets/controls",
      "model_module_version": "2.0.0",
      "model_name": "HTMLModel",
      "state": {
       "layout": "IPY_MODEL_7c62a1cf7e134e8191f0eafdbc1a8f35",
       "style": "IPY_MODEL_6e5cabefc7d94aa8b893eee71c5c61fa",
       "value": " 7/7 [05:58&lt;00:00,  2.64tasks/s]"
      }
     },
     "43a277a7b73a4478ba9ae02b22a6d95b": {
      "model_module": "@jupyter-widgets/controls",
      "model_module_version": "2.0.0",
      "model_name": "HTMLStyleModel",
      "state": {
       "description_width": "",
       "font_size": null,
       "text_color": null
      }
     },
     "450340d35e6145f78f6fea4ea20ff47b": {
      "model_module": "@jupyter-widgets/base",
      "model_module_version": "2.0.0",
      "model_name": "LayoutModel",
      "state": {}
     },
     "6e5cabefc7d94aa8b893eee71c5c61fa": {
      "model_module": "@jupyter-widgets/controls",
      "model_module_version": "2.0.0",
      "model_name": "HTMLStyleModel",
      "state": {
       "description_width": "",
       "font_size": null,
       "text_color": null
      }
     },
     "767fd6973e764eeea11559c6c9dfc6be": {
      "model_module": "@jupyter-widgets/controls",
      "model_module_version": "2.0.0",
      "model_name": "FloatProgressModel",
      "state": {
       "bar_style": "success",
       "layout": "IPY_MODEL_e7a5e7dce7c34adb9ca6552184957724",
       "max": 7,
       "style": "IPY_MODEL_862a5dbb3a9241e88e365ababd2bab2a",
       "value": 7
      }
     },
     "7b593cf81435461ab0448b70d53f51d6": {
      "model_module": "@jupyter-widgets/controls",
      "model_module_version": "2.0.0",
      "model_name": "FloatProgressModel",
      "state": {
       "bar_style": "success",
       "layout": "IPY_MODEL_f91ecaf41c634c99a060bb6f6d230d90",
       "max": 7,
       "style": "IPY_MODEL_fe4cfedb232b4c64a7e2068598ba04c3",
       "value": 7
      }
     },
     "7c62a1cf7e134e8191f0eafdbc1a8f35": {
      "model_module": "@jupyter-widgets/base",
      "model_module_version": "2.0.0",
      "model_name": "LayoutModel",
      "state": {}
     },
     "83eb24367edd402d8a0fa1966b884b7d": {
      "model_module": "@jupyter-widgets/controls",
      "model_module_version": "2.0.0",
      "model_name": "HTMLStyleModel",
      "state": {
       "description_width": "",
       "font_size": null,
       "text_color": null
      }
     },
     "862a5dbb3a9241e88e365ababd2bab2a": {
      "model_module": "@jupyter-widgets/controls",
      "model_module_version": "2.0.0",
      "model_name": "ProgressStyleModel",
      "state": {
       "description_width": ""
      }
     },
     "87cce70e0ae54fae8edce32758d57319": {
      "model_module": "@jupyter-widgets/base",
      "model_module_version": "2.0.0",
      "model_name": "LayoutModel",
      "state": {}
     },
     "ab488693fa5a44cb800d728e2c42de84": {
      "model_module": "@jupyter-widgets/controls",
      "model_module_version": "2.0.0",
      "model_name": "HBoxModel",
      "state": {
       "children": [
        "IPY_MODEL_b4370b0f30ef4dbcbc2697bef84b1837",
        "IPY_MODEL_767fd6973e764eeea11559c6c9dfc6be",
        "IPY_MODEL_e7ff72832b79442bbb2650855d47636f"
       ],
       "layout": "IPY_MODEL_dc4ebb85abfb431bb1e65041fc4cf647"
      }
     },
     "b4370b0f30ef4dbcbc2697bef84b1837": {
      "model_module": "@jupyter-widgets/controls",
      "model_module_version": "2.0.0",
      "model_name": "HTMLModel",
      "state": {
       "layout": "IPY_MODEL_b50420b7f3494cffb67ea987e5962123",
       "style": "IPY_MODEL_43a277a7b73a4478ba9ae02b22a6d95b",
       "value": "100%"
      }
     },
     "b50420b7f3494cffb67ea987e5962123": {
      "model_module": "@jupyter-widgets/base",
      "model_module_version": "2.0.0",
      "model_name": "LayoutModel",
      "state": {}
     },
     "c8d415f280f74d91971d4dfa010a4287": {
      "model_module": "@jupyter-widgets/base",
      "model_module_version": "2.0.0",
      "model_name": "LayoutModel",
      "state": {}
     },
     "dc4ebb85abfb431bb1e65041fc4cf647": {
      "model_module": "@jupyter-widgets/base",
      "model_module_version": "2.0.0",
      "model_name": "LayoutModel",
      "state": {}
     },
     "def18660f9fb4bed8f1a02474a459cda": {
      "model_module": "@jupyter-widgets/controls",
      "model_module_version": "2.0.0",
      "model_name": "HTMLModel",
      "state": {
       "layout": "IPY_MODEL_87cce70e0ae54fae8edce32758d57319",
       "style": "IPY_MODEL_07ab2d7c0478449fa079eb14901649c3",
       "value": "%px: 100%"
      }
     },
     "e7a5e7dce7c34adb9ca6552184957724": {
      "model_module": "@jupyter-widgets/base",
      "model_module_version": "2.0.0",
      "model_name": "LayoutModel",
      "state": {}
     },
     "e7ff72832b79442bbb2650855d47636f": {
      "model_module": "@jupyter-widgets/controls",
      "model_module_version": "2.0.0",
      "model_name": "HTMLModel",
      "state": {
       "layout": "IPY_MODEL_c8d415f280f74d91971d4dfa010a4287",
       "style": "IPY_MODEL_83eb24367edd402d8a0fa1966b884b7d",
       "value": " 7/7 [00:06&lt;00:00,  6.34s/engine]"
      }
     },
     "ec2eeacd016e4b519b51428fa5ec666d": {
      "model_module": "@jupyter-widgets/controls",
      "model_module_version": "2.0.0",
      "model_name": "HBoxModel",
      "state": {
       "children": [
        "IPY_MODEL_def18660f9fb4bed8f1a02474a459cda",
        "IPY_MODEL_7b593cf81435461ab0448b70d53f51d6",
        "IPY_MODEL_142c4f80adfa48259a740613921388bd"
       ],
       "layout": "IPY_MODEL_450340d35e6145f78f6fea4ea20ff47b"
      }
     },
     "f91ecaf41c634c99a060bb6f6d230d90": {
      "model_module": "@jupyter-widgets/base",
      "model_module_version": "2.0.0",
      "model_name": "LayoutModel",
      "state": {}
     },
     "fe4cfedb232b4c64a7e2068598ba04c3": {
      "model_module": "@jupyter-widgets/controls",
      "model_module_version": "2.0.0",
      "model_name": "ProgressStyleModel",
      "state": {
       "description_width": ""
      }
     }
    },
    "version_major": 2,
    "version_minor": 0
   }
  }
 },
 "nbformat": 4,
 "nbformat_minor": 5
}
