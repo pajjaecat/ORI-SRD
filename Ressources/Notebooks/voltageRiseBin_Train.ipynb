{
 "cells": [
  {
   "cell_type": "markdown",
   "id": "57c865aa-ebd5-4944-a381-ca3a5f49c6ed",
   "metadata": {},
   "source": [
    "### Define and Train a RNN \n",
    "to Predict a binary variable (1 or 0), whether a voltage rise (above a predefined threshold i.e. 1.0250 ) will occur or not in the next period\n",
    "\n",
    "Prediction using the created RNN is done here [voltageRiseBin_Pred](voltageRiseBin_Pred.ipynb)"
   ]
  },
  {
   "cell_type": "markdown",
   "id": "4ff44841-10f2-4728-baba-ae19c2c94033",
   "metadata": {},
   "source": [
    "---"
   ]
  },
  {
   "cell_type": "markdown",
   "id": "6269c2ae-4edb-4edc-b9e6-5e8fc8a519e5",
   "metadata": {
    "tags": []
   },
   "source": [
    "#### Import modules to be used"
   ]
  },
  {
   "cell_type": "code",
   "execution_count": 2,
   "id": "7d03799f-9341-49e9-aa88-949421832c6a",
   "metadata": {},
   "outputs": [],
   "source": [
    "#Import Modules \n",
    "import pandas as pd\n",
    "import pandapower as pp\n",
    "import matplotlib.pyplot as plt\n",
    "import numpy as np\n",
    "from tqdm import tqdm # Profiling \n",
    "import seaborn as sbn\n",
    "import pickle, sys, importlib,  time\n",
    "import os\n",
    "from pickle import load\n",
    "import tensorflow as tf\n",
    "import joblib"
   ]
  },
  {
   "cell_type": "markdown",
   "id": "1d347d27-fe03-477d-99fa-7aacb227bdc3",
   "metadata": {},
   "source": [
    "#### Import Module for ML"
   ]
  },
  {
   "cell_type": "code",
   "execution_count": 3,
   "id": "43792d1d-65aa-49b5-9bbd-12f6a4b4cc10",
   "metadata": {},
   "outputs": [],
   "source": [
    "# import pakages forML\n",
    "from sklearn.preprocessing import MinMaxScaler\n",
    "from tensorflow.keras.preprocessing.sequence import TimeseriesGenerator\n",
    "from tensorflow.keras.models import Sequential\n",
    "from tensorflow.keras.layers import Dense, LSTM\n",
    "from tensorflow.keras.callbacks import EarlyStopping"
   ]
  },
  {
   "cell_type": "markdown",
   "id": "27f0de16-0ff9-4e01-b390-588b05658960",
   "metadata": {},
   "source": [
    "#### Import my own modules"
   ]
  },
  {
   "cell_type": "code",
   "execution_count": 4,
   "id": "eff66d5f-be91-4067-8bf6-20fd790ee8ac",
   "metadata": {},
   "outputs": [],
   "source": [
    "# import psutil\n",
    "function_folder = '../Modules/' \n",
    "# Add function folder to path if it is not already\n",
    "if function_folder not in sys.path: sys.path.append(function_folder)\n",
    "\n",
    "import oriFunctions as oriFc\n",
    "from oriVariables import (network_folder, \n",
    "                          defAuth_hvBus_vRiseMax, \n",
    "                          defAuth_hvBus_vRiseMin, \n",
    "                          excel_folder, train_split_date)"
   ]
  },
  {
   "cell_type": "markdown",
   "id": "f82c7071-c8eb-444a-be4d-86970a3293ea",
   "metadata": {
    "tags": []
   },
   "source": [
    "#### Import data Cleaned file for training the RNN"
   ]
  },
  {
   "cell_type": "code",
   "execution_count": 9,
   "id": "e8dec459-20b8-4b23-b882-802a4b1e16f0",
   "metadata": {},
   "outputs": [],
   "source": [
    "df_data = joblib.load(network_folder+'simulationResults/cleanedData.pkl')\n",
    "\n",
    "# Extract only a part of data to be used as \n",
    "df_data = df_data[df_data.index<='2021 12 31']"
   ]
  },
  {
   "cell_type": "code",
   "execution_count": 10,
   "id": "653a1053-52a4-42e7-896b-a7b72268f8f7",
   "metadata": {},
   "outputs": [],
   "source": [
    "# # Extract only the relavant testing set since the training set covers the first part of the data\n",
    "df_final = df_data[df_data.index < train_split_date]\n",
    "\n",
    "# Extract only dailight period i.e. from 07am to 7PM\n",
    "# The daylight period is considered to be defined betwenn 07am and 7Pm excluded. \n",
    "h_start_end = ('06:50','18:50') # for the persistance model, the previous period i.e. 06:50 \n",
    "                                # is needed to compute the first instant i.e. 07:00\n",
    "per_index = df_final.index\n",
    "per_daylight = (pd.Series(index=per_index.to_timestamp(), dtype=object)\n",
    "                .between_time(*h_start_end) ).index.to_period('10T')\n",
    "\n",
    "# Extract only daylight hours \n",
    "df_final = df_final.loc[per_daylight]\n",
    "\n",
    "\n",
    "per_index = df_final.index\n",
    "per_index2 = ( pd.Series(index=per_index.to_timestamp(), dtype=object\n",
    "                           ).between_time('07:00','18:50') ).index.to_period('10T')\n",
    "\n",
    "# defined Vrise\n",
    "vm_mu_max, vm_mu_min = defAuth_hvBus_vRiseMax, defAuth_hvBus_vRiseMin  "
   ]
  },
  {
   "cell_type": "markdown",
   "id": "34489214-f7ac-4c72-8928-539e9ac10c97",
   "metadata": {},
   "source": [
    "#### Import the voltage rise from [VoltageRiseBinaryUpdated](VoltageRiseBinaryUpdated.ipynb)\n"
   ]
  },
  {
   "cell_type": "code",
   "execution_count": 18,
   "id": "540395a2-3954-48d9-add1-e89efde8afa8",
   "metadata": {},
   "outputs": [],
   "source": [
    "# Import the voltage rise from \n",
    "numAndBin_vRise = joblib.load(network_folder+'simulationResults/Binary_Voltage_Rise.pkl')\n",
    "df_final['Volt_Rise_bin'] = numAndBin_vRise['Volt_Rise_Bin']"
   ]
  },
  {
   "cell_type": "markdown",
   "id": "5a403b96-6ced-4600-b3ed-fe227df6e962",
   "metadata": {
    "tags": []
   },
   "source": [
    "### Set variables For binary voltage rise prediction"
   ]
  },
  {
   "cell_type": "code",
   "execution_count": 19,
   "id": "b9d8756e-d0bc-469c-b9bd-05cb40fe42f6",
   "metadata": {},
   "outputs": [],
   "source": [
    "# # # Separate training and testing set \n",
    "# df_train = df_final[df_final.index<'2021 03 15']\n",
    "# df_test = df_final[(df_final.index>='2021 03 15') & (df_final.index <train_split_date)]\n",
    "\n",
    "\n",
    "# I'm using all the dataset to train the RNN to improve the performance since ive already\n",
    "# tried with the testing set and get an accuraccy of 94%\n",
    "# # Separate training and testing set \n",
    "df_train = df_final[df_final.index<train_split_date]\n",
    "\n",
    "# Define scaler\n",
    "numerical_scaler = MinMaxScaler()\n",
    "numerical_scaler.fit(df_train);\n",
    "\n",
    "# train_scaled, test_scaled= map(numerical_scaler.transform, [df_train, df_test])\n",
    "train_scaled = numerical_scaler.transform(df_train)"
   ]
  },
  {
   "cell_type": "markdown",
   "id": "df889986-285b-4029-8766-22a1099ef88e",
   "metadata": {},
   "source": [
    "##### Define Timeseries  generators\n"
   ]
  },
  {
   "cell_type": "code",
   "execution_count": 20,
   "id": "9549e704-a7eb-4503-969b-d933d3160bf4",
   "metadata": {},
   "outputs": [],
   "source": [
    "gen_length = 6 # 1 hour\n",
    "\n",
    "batchSize = (gen_length//6)*24*7; #  (gen_length//6)  To convert in hour *24 hour * 7 days\n",
    "\n",
    "train_generator = TimeseriesGenerator(train_scaled, train_scaled[:,-1], \n",
    "                                      length = gen_length, \n",
    "                                      batch_size= batchSize)\n",
    "\n",
    "# test_genarator = TimeseriesGenerator(test_scaled, test_scaled[:,-1], \n",
    "#                                      length = gen_length, \n",
    "#                                      batch_size= batchSize)\n",
    "\n",
    "n_features = train_generator[0][0][0].shape[1]  # Define total number of features"
   ]
  },
  {
   "cell_type": "markdown",
   "id": "39e8638a-2c2d-4d73-bd7e-3ca775958c82",
   "metadata": {},
   "source": [
    "#### Define RNN"
   ]
  },
  {
   "cell_type": "code",
   "execution_count": 21,
   "id": "d0db6469-b23d-4715-8575-854071188b88",
   "metadata": {},
   "outputs": [],
   "source": [
    "bin_vRise_RNN = Sequential()\n",
    "\n",
    "bin_vRise_RNN.add( LSTM(units=128, activation='tanh', input_shape=(gen_length,n_features), return_sequences=True) )\n",
    "bin_vRise_RNN.add( LSTM(units=128, activation='relu') )\n",
    "bin_vRise_RNN.add(Dense(units=1, activation='sigmoid'))\n",
    "\n",
    "bin_vRise_RNN.compile(optimizer='adam',loss='binary_crossentropy', metrics=['accuracy'])"
   ]
  },
  {
   "cell_type": "markdown",
   "id": "35ba5e3a-2903-447e-970c-56a8fbbd3a3a",
   "metadata": {},
   "source": [
    "##### Define early stopping mechanism"
   ]
  },
  {
   "cell_type": "code",
   "execution_count": 22,
   "id": "b3d9cbf7-f04d-4a28-bb24-30eab8a8fab1",
   "metadata": {},
   "outputs": [],
   "source": [
    "# early_stop = EarlyStopping(monitor= 'val_loss',patience=30, mode='min')"
   ]
  },
  {
   "cell_type": "markdown",
   "id": "8d3e82fe-c6b4-49c3-8f90-4bee5d53d593",
   "metadata": {},
   "source": [
    "#### Train RNN"
   ]
  },
  {
   "cell_type": "code",
   "execution_count": 23,
   "id": "273c5cea-c453-4ab8-b9bd-7322df5125b3",
   "metadata": {
    "scrolled": true,
    "tags": []
   },
   "outputs": [
    {
     "name": "stdout",
     "output_type": "stream",
     "text": [
      "Epoch 1/80\n",
      "225/225 [==============================] - 5s 15ms/step - loss: 0.1896 - accuracy: 0.9355\n",
      "Epoch 2/80\n",
      "225/225 [==============================] - 3s 14ms/step - loss: 0.0958 - accuracy: 0.9645\n",
      "Epoch 3/80\n",
      "225/225 [==============================] - 3s 15ms/step - loss: 0.0832 - accuracy: 0.9705\n",
      "Epoch 4/80\n",
      "225/225 [==============================] - 3s 15ms/step - loss: 0.0813 - accuracy: 0.9711\n",
      "Epoch 5/80\n",
      "225/225 [==============================] - 3s 14ms/step - loss: 0.0793 - accuracy: 0.9710\n",
      "Epoch 6/80\n",
      "225/225 [==============================] - 4s 17ms/step - loss: 0.0793 - accuracy: 0.9706\n",
      "Epoch 7/80\n",
      "225/225 [==============================] - 4s 20ms/step - loss: 0.0785 - accuracy: 0.9717\n",
      "Epoch 8/80\n",
      "225/225 [==============================] - 5s 20ms/step - loss: 0.0771 - accuracy: 0.9711\n",
      "Epoch 9/80\n",
      "225/225 [==============================] - 4s 19ms/step - loss: 0.0759 - accuracy: 0.9716\n",
      "Epoch 10/80\n",
      "225/225 [==============================] - 4s 18ms/step - loss: 0.0780 - accuracy: 0.9721\n",
      "Epoch 11/80\n",
      "225/225 [==============================] - 5s 20ms/step - loss: 0.0758 - accuracy: 0.9714\n",
      "Epoch 12/80\n",
      "225/225 [==============================] - 4s 18ms/step - loss: 0.0754 - accuracy: 0.9711\n",
      "Epoch 13/80\n",
      "225/225 [==============================] - 4s 19ms/step - loss: 0.0744 - accuracy: 0.9714\n",
      "Epoch 14/80\n",
      "225/225 [==============================] - 4s 18ms/step - loss: 0.0747 - accuracy: 0.9715\n",
      "Epoch 15/80\n",
      "225/225 [==============================] - 5s 21ms/step - loss: 0.0746 - accuracy: 0.9714\n",
      "Epoch 16/80\n",
      "225/225 [==============================] - 4s 18ms/step - loss: 0.0750 - accuracy: 0.9717\n",
      "Epoch 17/80\n",
      "225/225 [==============================] - 4s 18ms/step - loss: 0.0730 - accuracy: 0.9724\n",
      "Epoch 18/80\n",
      "225/225 [==============================] - 4s 20ms/step - loss: 0.0730 - accuracy: 0.9720\n",
      "Epoch 19/80\n",
      "225/225 [==============================] - 4s 19ms/step - loss: 0.0725 - accuracy: 0.9718\n",
      "Epoch 20/80\n",
      "225/225 [==============================] - 4s 19ms/step - loss: 0.0715 - accuracy: 0.9720\n",
      "Epoch 21/80\n",
      "225/225 [==============================] - 5s 22ms/step - loss: 0.0711 - accuracy: 0.9718\n",
      "Epoch 22/80\n",
      "225/225 [==============================] - 5s 22ms/step - loss: 0.0707 - accuracy: 0.9724\n",
      "Epoch 23/80\n",
      "225/225 [==============================] - 6s 28ms/step - loss: 0.0691 - accuracy: 0.9724\n",
      "Epoch 24/80\n",
      "225/225 [==============================] - 7s 32ms/step - loss: 0.0696 - accuracy: 0.9725\n",
      "Epoch 25/80\n",
      "225/225 [==============================] - 9s 39ms/step - loss: 0.0696 - accuracy: 0.9730\n",
      "Epoch 26/80\n",
      "225/225 [==============================] - 9s 39ms/step - loss: 0.0714 - accuracy: 0.9723\n",
      "Epoch 27/80\n",
      "225/225 [==============================] - 7s 32ms/step - loss: 0.0679 - accuracy: 0.9728\n",
      "Epoch 28/80\n",
      "225/225 [==============================] - 7s 32ms/step - loss: 0.0679 - accuracy: 0.9730\n",
      "Epoch 29/80\n",
      "225/225 [==============================] - 7s 33ms/step - loss: 0.0676 - accuracy: 0.9735\n",
      "Epoch 30/80\n",
      "225/225 [==============================] - 8s 34ms/step - loss: 0.0695 - accuracy: 0.9727\n",
      "Epoch 31/80\n",
      "225/225 [==============================] - 7s 31ms/step - loss: 0.0675 - accuracy: 0.9729\n",
      "Epoch 32/80\n",
      "225/225 [==============================] - 6s 26ms/step - loss: 0.0673 - accuracy: 0.9732\n",
      "Epoch 33/80\n",
      "225/225 [==============================] - 6s 27ms/step - loss: 0.0670 - accuracy: 0.9729\n",
      "Epoch 34/80\n",
      "225/225 [==============================] - 6s 26ms/step - loss: 0.0675 - accuracy: 0.9731\n",
      "Epoch 35/80\n",
      "225/225 [==============================] - 5s 23ms/step - loss: 0.0664 - accuracy: 0.9738\n",
      "Epoch 36/80\n",
      "225/225 [==============================] - 6s 26ms/step - loss: 0.0662 - accuracy: 0.9738\n",
      "Epoch 37/80\n",
      "225/225 [==============================] - 6s 24ms/step - loss: 0.0674 - accuracy: 0.9729\n",
      "Epoch 38/80\n",
      "225/225 [==============================] - 5s 24ms/step - loss: 0.0653 - accuracy: 0.9737\n",
      "Epoch 39/80\n",
      "225/225 [==============================] - 6s 27ms/step - loss: 0.0647 - accuracy: 0.9744\n",
      "Epoch 40/80\n",
      "225/225 [==============================] - 6s 26ms/step - loss: 0.0650 - accuracy: 0.9741\n",
      "Epoch 41/80\n",
      "225/225 [==============================] - 6s 25ms/step - loss: 0.0641 - accuracy: 0.9743\n",
      "Epoch 42/80\n",
      "225/225 [==============================] - 6s 25ms/step - loss: 0.0664 - accuracy: 0.9732\n",
      "Epoch 43/80\n",
      "225/225 [==============================] - 5s 23ms/step - loss: 0.0649 - accuracy: 0.9740\n",
      "Epoch 44/80\n",
      "225/225 [==============================] - 6s 25ms/step - loss: 0.0627 - accuracy: 0.9748\n",
      "Epoch 45/80\n",
      "225/225 [==============================] - 6s 25ms/step - loss: 0.0644 - accuracy: 0.9746\n",
      "Epoch 46/80\n",
      "225/225 [==============================] - 5s 24ms/step - loss: 0.0629 - accuracy: 0.9750\n",
      "Epoch 47/80\n",
      "225/225 [==============================] - 6s 26ms/step - loss: 0.0636 - accuracy: 0.9741\n",
      "Epoch 48/80\n",
      "225/225 [==============================] - 6s 25ms/step - loss: 0.0630 - accuracy: 0.9745\n",
      "Epoch 49/80\n",
      "225/225 [==============================] - 5s 24ms/step - loss: 0.0624 - accuracy: 0.9741\n",
      "Epoch 50/80\n",
      "225/225 [==============================] - 6s 25ms/step - loss: 0.0627 - accuracy: 0.9747\n",
      "Epoch 51/80\n",
      "225/225 [==============================] - 5s 23ms/step - loss: 0.0625 - accuracy: 0.9741\n",
      "Epoch 52/80\n",
      "225/225 [==============================] - 5s 23ms/step - loss: 0.0613 - accuracy: 0.9755\n",
      "Epoch 53/80\n",
      "225/225 [==============================] - 6s 25ms/step - loss: 0.0602 - accuracy: 0.9753\n",
      "Epoch 54/80\n",
      "225/225 [==============================] - 5s 24ms/step - loss: 0.0602 - accuracy: 0.9752\n",
      "Epoch 55/80\n",
      "225/225 [==============================] - 5s 23ms/step - loss: 0.0605 - accuracy: 0.9750\n",
      "Epoch 56/80\n",
      "225/225 [==============================] - 6s 25ms/step - loss: 0.0589 - accuracy: 0.9756\n",
      "Epoch 57/80\n",
      "225/225 [==============================] - 6s 24ms/step - loss: 0.0591 - accuracy: 0.9755\n",
      "Epoch 58/80\n",
      "225/225 [==============================] - 5s 24ms/step - loss: 0.0599 - accuracy: 0.9756\n",
      "Epoch 59/80\n",
      "225/225 [==============================] - 6s 26ms/step - loss: 0.0593 - accuracy: 0.9754\n",
      "Epoch 60/80\n",
      "225/225 [==============================] - 5s 24ms/step - loss: 0.0588 - accuracy: 0.9756\n",
      "Epoch 61/80\n",
      "225/225 [==============================] - 7s 30ms/step - loss: 0.0589 - accuracy: 0.9762\n",
      "Epoch 62/80\n",
      "225/225 [==============================] - 6s 26ms/step - loss: 0.0581 - accuracy: 0.9763\n",
      "Epoch 63/80\n",
      "225/225 [==============================] - 5s 24ms/step - loss: 0.0574 - accuracy: 0.9764\n",
      "Epoch 64/80\n",
      "225/225 [==============================] - 5s 23ms/step - loss: 0.0566 - accuracy: 0.9775\n",
      "Epoch 65/80\n",
      "225/225 [==============================] - 5s 23ms/step - loss: 0.0574 - accuracy: 0.9769\n",
      "Epoch 66/80\n",
      "225/225 [==============================] - 5s 23ms/step - loss: 0.0563 - accuracy: 0.9768\n",
      "Epoch 67/80\n",
      "225/225 [==============================] - 5s 24ms/step - loss: 0.0548 - accuracy: 0.9779\n",
      "Epoch 68/80\n",
      "225/225 [==============================] - 5s 23ms/step - loss: 0.0547 - accuracy: 0.9772\n",
      "Epoch 69/80\n",
      "225/225 [==============================] - 5s 22ms/step - loss: 0.0542 - accuracy: 0.9786\n",
      "Epoch 70/80\n",
      "225/225 [==============================] - 5s 24ms/step - loss: 0.0536 - accuracy: 0.9778\n",
      "Epoch 71/80\n",
      "225/225 [==============================] - 5s 24ms/step - loss: 0.0535 - accuracy: 0.9779\n",
      "Epoch 72/80\n",
      "225/225 [==============================] - 5s 22ms/step - loss: 0.0534 - accuracy: 0.9778\n",
      "Epoch 73/80\n",
      "225/225 [==============================] - 5s 23ms/step - loss: 0.0522 - accuracy: 0.9784\n",
      "Epoch 74/80\n",
      "225/225 [==============================] - 6s 25ms/step - loss: 0.0511 - accuracy: 0.9784\n",
      "Epoch 75/80\n",
      "225/225 [==============================] - 5s 22ms/step - loss: 0.0510 - accuracy: 0.9791\n",
      "Epoch 76/80\n",
      "225/225 [==============================] - 5s 22ms/step - loss: 0.0509 - accuracy: 0.9795\n",
      "Epoch 77/80\n",
      "225/225 [==============================] - 5s 23ms/step - loss: 0.0496 - accuracy: 0.9799\n",
      "Epoch 78/80\n",
      "225/225 [==============================] - 5s 21ms/step - loss: 0.0497 - accuracy: 0.9801\n",
      "Epoch 79/80\n",
      "225/225 [==============================] - 5s 21ms/step - loss: 0.0498 - accuracy: 0.9798\n",
      "Epoch 80/80\n",
      "225/225 [==============================] - 5s 24ms/step - loss: 0.0476 - accuracy: 0.9809\n"
     ]
    },
    {
     "data": {
      "text/plain": [
       "<keras.callbacks.History at 0x22dc62fe388>"
      ]
     },
     "execution_count": 23,
     "metadata": {},
     "output_type": "execute_result"
    }
   ],
   "source": [
    "bin_vRise_RNN.fit(train_generator, \n",
    "          epochs=80)"
   ]
  },
  {
   "cell_type": "code",
   "execution_count": 24,
   "id": "45d16f02-10d3-4e31-a0bd-d0f5e6b6007f",
   "metadata": {},
   "outputs": [
    {
     "name": "stderr",
     "output_type": "stream",
     "text": [
      "WARNING:absl:Found untraced functions such as lstm_cell_layer_call_fn, lstm_cell_layer_call_and_return_conditional_losses while saving (showing 2 of 2). These functions will not be directly callable after loading.\n"
     ]
    },
    {
     "name": "stdout",
     "output_type": "stream",
     "text": [
      "INFO:tensorflow:Assets written to: ../Pickle_files/RNN/StLaurent_bin_vRise_model\\assets\n"
     ]
    },
    {
     "name": "stderr",
     "output_type": "stream",
     "text": [
      "INFO:tensorflow:Assets written to: ../Pickle_files/RNN/StLaurent_bin_vRise_model\\assets\n"
     ]
    },
    {
     "data": {
      "text/plain": [
       "['../Pickle_files/RNN/StLaurent_bin_vRise_scaler.plk']"
      ]
     },
     "execution_count": 24,
     "metadata": {},
     "output_type": "execute_result"
    }
   ],
   "source": [
    "bin_vRise_RNN.save(f'{network_folder}RNN/StLaurent_bin_vRise_model')\n",
    "joblib.dump(numerical_scaler, f'{network_folder}RNN/StLaurent_bin_vRise_scaler.plk')"
   ]
  }
 ],
 "metadata": {
  "kernelspec": {
   "display_name": "Python 3 (ipykernel)",
   "language": "python",
   "name": "python3"
  },
  "language_info": {
   "codemirror_mode": {
    "name": "ipython",
    "version": 3
   },
   "file_extension": ".py",
   "mimetype": "text/x-python",
   "name": "python",
   "nbconvert_exporter": "python",
   "pygments_lexer": "ipython3",
   "version": "3.7.15"
  },
  "widgets": {
   "application/vnd.jupyter.widget-state+json": {
    "state": {},
    "version_major": 2,
    "version_minor": 0
   }
  }
 },
 "nbformat": 4,
 "nbformat_minor": 5
}
