{
 "cells": [
  {
   "cell_type": "markdown",
   "id": "480055a1-b0da-42e1-ae4b-5f56a3ba2540",
   "metadata": {},
   "source": [
    "### Predict whether a voltage rise will occur or not in the next period . \n",
    "\n",
    "See [VoltageRiseBinTrain](voltageRiseBin_Train.ipynb) for the training of the RNN"
   ]
  },
  {
   "cell_type": "markdown",
   "id": "615946a6-a0fb-42af-9b85-3f297b58dd66",
   "metadata": {},
   "source": [
    "---"
   ]
  },
  {
   "cell_type": "markdown",
   "id": "6269c2ae-4edb-4edc-b9e6-5e8fc8a519e5",
   "metadata": {
    "tags": []
   },
   "source": [
    "#### Import modules to be used"
   ]
  },
  {
   "cell_type": "code",
   "execution_count": 1,
   "id": "7d03799f-9341-49e9-aa88-949421832c6a",
   "metadata": {},
   "outputs": [],
   "source": [
    "#Import Modules \n",
    "import pandas as pd\n",
    "import pandapower as pp\n",
    "import matplotlib.pyplot as plt\n",
    "import numpy as np\n",
    "from tqdm import tqdm # Profiling \n",
    "import seaborn as sbn\n",
    "import pickle, sys, importlib,  time\n",
    "import os\n",
    "from pickle import load\n",
    "import tensorflow as tf\n",
    "import joblib"
   ]
  },
  {
   "cell_type": "markdown",
   "id": "27f0de16-0ff9-4e01-b390-588b05658960",
   "metadata": {},
   "source": [
    "#### Import my own modules"
   ]
  },
  {
   "cell_type": "code",
   "execution_count": 2,
   "id": "7d1a46c0-1d9b-4b15-aa73-15495b57f2de",
   "metadata": {},
   "outputs": [],
   "source": [
    "# import psutil\n",
    "function_folder = '../Modules/' \n",
    "# Add function folder to path if it is not already\n",
    "if function_folder not in sys.path: sys.path.append(function_folder)\n",
    "\n",
    "import oriFunctions as oriFc\n",
    "import checker\n",
    "import oriClass as oriCs\n",
    "from oriVariables import (network_folder,\n",
    "                          defAuth_hvBus_vRiseMax, \n",
    "                          defAuth_hvBus_vRiseMin, \n",
    "                          h_start_end,\n",
    "                          testSet_end,\n",
    "                          trainSet_end_M1\n",
    "                          )"
   ]
  },
  {
   "cell_type": "markdown",
   "id": "6a431f35-4dee-4019-8544-93c2be609a1a",
   "metadata": {
    "tags": []
   },
   "source": [
    "#### Import Cleaned data files for component of the network"
   ]
  },
  {
   "cell_type": "code",
   "execution_count": 3,
   "id": "a300bc4b-8f66-4e46-907b-8ecbfa52a782",
   "metadata": {
    "tags": []
   },
   "outputs": [],
   "source": [
    "df_data = joblib.load(simResult_folder+'StLaurent_cleanedData.pkl')\n",
    "\n",
    "# create daylight periods\n",
    "per_index = df_data.index\n",
    "per_daylight = ( pd.Series(index=per_index.to_timestamp(), dtype=object)\n",
    "                .between_time(*h_start_end) ).index.to_period(pd_Δt)\n",
    "\n",
    "# Extract daylight periods\n",
    "df_data = df_data.loc[per_daylight]\n",
    "\n",
    "# # Extract extract only testing set\n",
    "df_final = df_data[(df_data.index>= trainSet_end_M1) & (df_data.index<= testSet_end)]\n",
    "per_index = df_final.index\n",
    "\n",
    "# Defined Voltage rise threshold\n",
    "vm_mu_max, vm_mu_min = defAuth_hvBus_vRiseMax, defAuth_hvBus_vRiseMin  "
   ]
  },
  {
   "cell_type": "markdown",
   "id": "161fd0d0-71ad-4bff-bc6b-40fb55596a21",
   "metadata": {},
   "source": [
    "#### Import the voltage rise from [VoltageRiseBinaryUpdated](VoltageRiseBinaryUpdated.ipynb)\n"
   ]
  },
  {
   "cell_type": "code",
   "execution_count": 4,
   "id": "97c2302c-1bc4-46bc-860b-c7409c41d312",
   "metadata": {},
   "outputs": [],
   "source": [
    "numAndBin_vRise = joblib.load(simResult_folder+'Binary_Voltage_Rise.pkl')\n",
    "\n",
    "var_bin_df = numAndBin_vRise.loc[per_index,['Volt_Rise_Bin']]\n",
    "\n",
    "df_test_bin = pd.concat([df_test, var_bin_df], axis=1)"
   ]
  },
  {
   "cell_type": "markdown",
   "id": "3c351c6c-d559-4276-b3a2-39a6fd46475a",
   "metadata": {},
   "source": [
    "### Import RNN"
   ]
  },
  {
   "cell_type": "code",
   "execution_count": 6,
   "id": "9f3f5042-3bb3-4765-9839-720d69ccd331",
   "metadata": {},
   "outputs": [],
   "source": [
    "# Load scaler and RNN from file\n",
    "scaler = joblib.load(f'{network_folder}RNN/StLaurent_bin_vRise_scaler.plk')\n",
    "lstm_model = tf.keras.models.load_model(f'{network_folder}RNN/StLaurent_bin_vRise_model')"
   ]
  },
  {
   "cell_type": "markdown",
   "id": "f932cf74-6e88-4573-b900-033c09d7c858",
   "metadata": {
    "tags": []
   },
   "source": [
    "#### Define history"
   ]
  },
  {
   "cell_type": "code",
   "execution_count": 7,
   "id": "6ff954ae-1b69-4e8d-a259-9442479b5d7e",
   "metadata": {},
   "outputs": [],
   "source": [
    "df_test_bin.rename(columns={'Volt_Rise_Bin':'Volt_Rise_bin'}, inplace=True)# Rename column to avoid raising program warning\n",
    "histTot = df_test_bin.rolling(lstm_model.input_shape[1])                   # Create a rolling windows to get the history"
   ]
  },
  {
   "cell_type": "markdown",
   "id": "3d487c04-4a32-448d-addc-bccc850e49a7",
   "metadata": {},
   "source": [
    "#### Predict values"
   ]
  },
  {
   "cell_type": "code",
   "execution_count": 8,
   "id": "8d1b5971-e6fc-46ed-9807-5dfba7f6c60d",
   "metadata": {
    "tags": []
   },
   "outputs": [
    {
     "name": "stderr",
     "output_type": "stream",
     "text": [
      "100%|██████████| 26346/26346 [21:05<00:00, 20.81it/s]\n"
     ]
    }
   ],
   "source": [
    "hist_list = list(histTot)\n",
    "len_hist = len(hist_list)\n",
    "n0  = lstm_model.input_shape[1]                 # The first elem \n",
    "pred_per, pred = [],[]             \n",
    "                \n",
    "for hist_index in tqdm(range(n0, len_hist)):\n",
    "    cur_hist = hist_list[hist_index]          # current hystory\n",
    "    \n",
    "    # run prediction for each period \n",
    "    pred_var, pred_per_var = oriFc.predictionBin_bloc(rnn_model=lstm_model, \n",
    "                                                      fitting_scaler=scaler, \n",
    "                                                      history= cur_hist, \n",
    "                                                      sig_thresh=0.5 )\n",
    "    \n",
    "    pred_per.append(pred_per_var)\n",
    "    pred.append(pred_var)\n",
    "    \n"
   ]
  },
  {
   "cell_type": "markdown",
   "id": "631c22ae-aff2-4ed6-8972-5a2e65e102e0",
   "metadata": {},
   "source": [
    "#### Put predicted values in a pandas dataframe"
   ]
  },
  {
   "cell_type": "code",
   "execution_count": 9,
   "id": "91982e78-8d7a-482c-a5ef-622bca96b900",
   "metadata": {},
   "outputs": [],
   "source": [
    "predicted_values = pd.DataFrame(data = np.array(pred),\n",
    "                                index=pred_per, \n",
    "                                columns = ['V_rise_Pred'] )\n",
    "\n",
    "per_index3 = ( pd.Series(index=predicted_values.index.to_timestamp(), dtype=object\n",
    "                           ).between_time('08:10','18:50') ).index.to_period(pd_Δt)"
   ]
  },
  {
   "cell_type": "code",
   "execution_count": 10,
   "id": "295ac208-929c-4f87-a762-82f215689b6b",
   "metadata": {},
   "outputs": [],
   "source": [
    "from sklearn.metrics import classification_report, confusion_matrix"
   ]
  },
  {
   "cell_type": "code",
   "execution_count": 11,
   "id": "1ff7cf64-28ab-4529-be69-da19f40f6988",
   "metadata": {},
   "outputs": [
    {
     "name": "stdout",
     "output_type": "stream",
     "text": [
      "              precision    recall  f1-score   support\n",
      "\n",
      "           0       0.98      0.97      0.98     21241\n",
      "           1       0.79      0.86      0.82      2549\n",
      "\n",
      "    accuracy                           0.96     23790\n",
      "   macro avg       0.88      0.92      0.90     23790\n",
      "weighted avg       0.96      0.96      0.96     23790\n",
      "\n"
     ]
    }
   ],
   "source": [
    "print(classification_report(var_bin_df.loc[per_index3],predicted_values.loc[per_index3]))"
   ]
  },
  {
   "cell_type": "code",
   "execution_count": 12,
   "id": "36a9466a-8a9f-4ca8-926e-62031a817f21",
   "metadata": {},
   "outputs": [
    {
     "name": "stdout",
     "output_type": "stream",
     "text": [
      "[[20647   594]\n",
      " [  356  2193]]\n"
     ]
    }
   ],
   "source": [
    "print(confusion_matrix(var_bin_df.loc[per_index3],predicted_values.loc[per_index3]))"
   ]
  },
  {
   "cell_type": "code",
   "execution_count": 13,
   "id": "7d4824a2-d065-4017-9ab2-342259a0cdab",
   "metadata": {},
   "outputs": [
    {
     "data": {
      "text/plain": [
       "['../Pickle_files/simulationResults/Binary_Voltage_Rise_Predicted.pkl']"
      ]
     },
     "execution_count": 13,
     "metadata": {},
     "output_type": "execute_result"
    }
   ],
   "source": [
    "joblib.dump(predicted_values.loc[per_index3],f'{simResult_folder}/Binary_Voltage_Rise_Predicted.pkl')"
   ]
  }
 ],
 "metadata": {
  "kernelspec": {
   "display_name": "Python 3 (ipykernel)",
   "language": "python",
   "name": "python3"
  },
  "language_info": {
   "codemirror_mode": {
    "name": "ipython",
    "version": 3
   },
   "file_extension": ".py",
   "mimetype": "text/x-python",
   "name": "python",
   "nbconvert_exporter": "python",
   "pygments_lexer": "ipython3",
   "version": "3.7.15"
  },
  "widgets": {
   "application/vnd.jupyter.widget-state+json": {
    "state": {},
    "version_major": 2,
    "version_minor": 0
   }
  }
 },
 "nbformat": 4,
 "nbformat_minor": 5
}
