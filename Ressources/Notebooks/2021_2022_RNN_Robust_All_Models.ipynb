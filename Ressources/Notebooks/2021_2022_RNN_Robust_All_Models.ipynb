{
 "cells": [
  {
   "cell_type": "markdown",
   "id": "57c865aa-ebd5-4944-a381-ca3a5f49c6ed",
   "metadata": {},
   "source": [
    "### Combine predictions of 3 RNN models\n",
    "to evaluate whether a voltage rise will occur in next step\n",
    "- **Model1** : Compute power flow and get voltage rise based on Predicted $\\tilde{X(k)}$ and $\\tilde{Y(k)}$ \n",
    "- **Model2** : Predict binary voltage rise i.e. 0 or 1\n",
    "- **Model3** : Predict the numerical value of the voltage rise based on inputs \n",
    "\n",
    "\n",
    "V_rise threshold= 1.025\n",
    "\n",
    "The user with the help of  ``paramUser``  get to choose the combination or the unique model to use.\n",
    "\n",
    "Section 2.1 of [VRiseControlBlockScheme](../Docs/VRiseControlBlockScheme.pdf) describes the principle of functionning of the combined prediction. "
   ]
  },
  {
   "cell_type": "markdown",
   "id": "4ff44841-10f2-4728-baba-ae19c2c94033",
   "metadata": {},
   "source": [
    "---"
   ]
  },
  {
   "cell_type": "markdown",
   "id": "6269c2ae-4edb-4edc-b9e6-5e8fc8a519e5",
   "metadata": {
    "tags": []
   },
   "source": [
    "#### Import modules to be used"
   ]
  },
  {
   "cell_type": "code",
   "execution_count": 1,
   "id": "7d03799f-9341-49e9-aa88-949421832c6a",
   "metadata": {},
   "outputs": [],
   "source": [
    "#Import Modules \n",
    "import pandas as pd\n",
    "import pandapower as pp\n",
    "import matplotlib.pyplot as plt\n",
    "import numpy as np\n",
    "from tqdm import tqdm # Profiling   \n",
    "import seaborn as sbn\n",
    "import pickle, sys, importlib,  time\n",
    "import os\n",
    "from pickle import load\n",
    "import tensorflow as tf\n",
    "import joblib\n",
    "import ipyparallel as ipp\n"
   ]
  },
  {
   "cell_type": "markdown",
   "id": "16db7562-3193-4a71-989f-91eecbcb416f",
   "metadata": {
    "tags": []
   },
   "source": [
    "#### Import my own modules"
   ]
  },
  {
   "cell_type": "code",
   "execution_count": 2,
   "id": "a69c9bbb-3053-4406-93e0-ff2174ad91ca",
   "metadata": {},
   "outputs": [],
   "source": [
    "# import psutil\n",
    "function_folder = '../Modules/' \n",
    "# Add function folder to path if it is not already\n",
    "if function_folder not in sys.path: sys.path.append(function_folder)\n",
    "\n",
    "import oriFunctions as oriFc\n",
    "import checker\n",
    "import oriClass as oriCs\n",
    "from oriVariables import (simResult_folder,\n",
    "                          defAuth_hvBus_vRiseMax,\n",
    "                          default_hv_voltage,\n",
    "                          defAuth_hvBus_vRiseMin, \n",
    "                          ctrld_HvProd_name,\n",
    "                          h_start_end,\n",
    "                          testSet_end_M1,\n",
    "                          valSet_start_M2, \n",
    "                          valSet_start_M1,\n",
    "                          Δt, \n",
    "                          pd_Δt,\n",
    "                          lowerNet_file_loc, \n",
    "                          upperNet_file_loc,\n",
    "                          cleanedData_name\n",
    "                          )"
   ]
  },
  {
   "cell_type": "markdown",
   "id": "a6fa14f8-af71-4876-94d8-68fb784b301c",
   "metadata": {},
   "source": [
    "#### Import Networks\n"
   ]
  },
  {
   "cell_type": "code",
   "execution_count": 3,
   "id": "053e857a-1753-4fe3-807e-d78de0045445",
   "metadata": {},
   "outputs": [],
   "source": [
    "lowerNet=pp.from_pickle(lowerNet_file_loc)\n",
    "upperNet=pp.from_pickle(upperNet_file_loc)\n",
    "\n",
    "\n",
    "# Init an object of InitNetworks\n",
    "networks = oriCs.InitNetworks(upperNet, lowerNet)\n",
    "\n",
    "# To use later in functions \n",
    "sum_max_main_network = networks.get_upperNet_sum_max_lvProdLoad()\n",
    "\n",
    "# Extract the total of BT prod and Load on St Laurent the upper network\n",
    "sum_max_p_mw_StLaurent_prodBT = sum_max_main_network[0]\n",
    "sum_max_p_mw_StLaurent_load = sum_max_main_network[1]"
   ]
  },
  {
   "cell_type": "markdown",
   "id": "52301eb7-9a74-42b4-946e-086fe076f114",
   "metadata": {
    "tags": []
   },
   "source": [
    "#### Import Cleaned data files for component of the network"
   ]
  },
  {
   "cell_type": "code",
   "execution_count": 4,
   "id": "3a8f480e-ab61-49ef-850d-b54d8f05144f",
   "metadata": {
    "tags": []
   },
   "outputs": [],
   "source": [
    "df_data = joblib.load(f'{simResult_folder}{cleanedData_name}')\n",
    "\n",
    "# create daylight periods\n",
    "per_index = df_data.index\n",
    "per_daylight = ( pd.Series(index=per_index.to_timestamp(), dtype=object)\n",
    "                .between_time(*h_start_end) ).index.to_period(pd_Δt)\n",
    "\n",
    "# Extract daylight periods\n",
    "df_data = df_data.loc[per_daylight]\n",
    "\n",
    "# # Extract extract only testing set\n",
    "df_final = df_data[(df_data.index>= valSet_start_M2) & (df_data.index<= testSet_end_M1)]\n",
    "per_index = df_final.index\n",
    "\n",
    "# Defined Voltage rise threshold\n",
    "vm_mu_max, vm_mu_min = defAuth_hvBus_vRiseMax, defAuth_hvBus_vRiseMin  \n",
    "\n",
    "# Extract all the HV producer \n",
    "hvProdNames = {elm for elm in df_final.columns if elm[-4:].isdecimal()}\n",
    "non_ctrld_hvProdNames_list = list(hvProdNames.difference({ctrld_HvProd_name}))"
   ]
  },
  {
   "cell_type": "markdown",
   "id": "3dc26909-5a1b-4217-905e-ab50efdfce47",
   "metadata": {
    "tags": []
   },
   "source": [
    "#### Import Simulation results from [Model2](voltageRiseBin_Pred.ipynb) and [Model3](VoltageRiseNum_Pred.ipynb)"
   ]
  },
  {
   "cell_type": "code",
   "execution_count": 5,
   "id": "a0c24c0d-d2e7-42fe-b7f7-648c24610ae3",
   "metadata": {},
   "outputs": [],
   "source": [
    "pred_num_vRise = joblib.load(f'{simResult_folder}Numerical_Voltage_Rise_Predicted.pkl')\n",
    "pred_bin_vRise = joblib.load(f'{simResult_folder}Binary_Voltage_Rise_Predicted.pkl')"
   ]
  },
  {
   "cell_type": "markdown",
   "id": "8346feaf-69b6-4a34-a04b-f93f27c42853",
   "metadata": {
    "tags": []
   },
   "source": [
    "#### Create a mask for the period to work with "
   ]
  },
  {
   "cell_type": "code",
   "execution_count": 6,
   "id": "e9c454ad-3f18-4e6e-9587-0a0716669287",
   "metadata": {},
   "outputs": [],
   "source": [
    "mask_per2work = pred_bin_vRise[pred_bin_vRise.index>=valSet_start_M1].index # We select valSet_start_M2 + 1 day\n",
    "                                                                         # of testing set   since Model1  needs a \n",
    "                                                                         # whole day to predict the first period\n",
    "# Select the period of 09Am to 07Pm for all days considered\n",
    "mask_per2work = mask_per2work.to_timestamp().to_series().between_time('08:10','18:30').index.to_period(pd_Δt)"
   ]
  },
  {
   "cell_type": "markdown",
   "id": "39fd6943-7dad-4be7-b89d-946eb829b531",
   "metadata": {},
   "source": [
    "#### Load prediction file of model1 \n",
    "i.e. $\\tilde{X(k)}$ an  $\\tilde{Y(k)}$ predicted in [RNN_Sim_StLaurentDeJourdes](RNN_Sim_StLaurentDeJourdes.ipynb)"
   ]
  },
  {
   "cell_type": "code",
   "execution_count": 7,
   "id": "d4ec3451-b0fd-431a-be75-3fd564d6f8ab",
   "metadata": {},
   "outputs": [],
   "source": [
    "pred_Model1_df = joblib.load(f'{simResult_folder}RNN_pred.pkl')"
   ]
  },
  {
   "cell_type": "markdown",
   "id": "2723c48c-38e7-49c4-8115-983f260f5c05",
   "metadata": {
    "tags": []
   },
   "source": [
    "#### Start Parallel engines"
   ]
  },
  {
   "cell_type": "code",
   "execution_count": 8,
   "id": "040d0bcd-7492-44b3-b06d-13621017612b",
   "metadata": {},
   "outputs": [
    {
     "name": "stdout",
     "output_type": "stream",
     "text": [
      "Starting 7 engines with <class 'ipyparallel.cluster.launcher.LocalEngineSetLauncher'>\n"
     ]
    },
    {
     "data": {
      "application/vnd.jupyter.widget-view+json": {
       "model_id": "4d72ef184e25498397e143005ecc21b3",
       "version_major": 2,
       "version_minor": 0
      },
      "text/plain": [
       "  0%|          | 0/7 [00:00<?, ?engine/s]"
      ]
     },
     "metadata": {},
     "output_type": "display_data"
    }
   ],
   "source": [
    "n_engines = os.cpu_count()-1         # Total number of engines\n",
    "parEngines = oriCs.CreateParEngines(n_engines)"
   ]
  },
  {
   "cell_type": "markdown",
   "id": "2e3f2524-aa33-41b6-b6a0-52b3c6ee6b1c",
   "metadata": {
    "tags": []
   },
   "source": [
    "## OPF  RNN"
   ]
  },
  {
   "cell_type": "markdown",
   "id": "e7fd2a51-d61c-4f5e-a2f2-0fe966e1952d",
   "metadata": {},
   "source": [
    "#### Operation on network parameters"
   ]
  },
  {
   "cell_type": "code",
   "execution_count": 9,
   "id": "71f0630e-b8be-47fd-b219-62d7736d21fe",
   "metadata": {},
   "outputs": [],
   "source": [
    "# Inititialize the controllable hv prod in the network\n",
    "networks.init_controlled_hvProd(ctrld_HvProd_name)\n",
    "\n",
    "# Extract the HV bus from the list of activated bus \n",
    "lowerNet_hv_activated_bus = networks.get_lowerNet_hvActivatedBuses(lowerNet\n",
    "                                                                   .bus\n",
    "                                                                   .query('vn_kv==@default_hv_voltage').index)\n",
    "\n",
    "# Add maximum voltage constraints on the Hv Buses in the network \n",
    "networks.lowerNet_set_vrise_threshold(lowerNet_hv_activated_bus, vm_mu_min, vm_mu_max)"
   ]
  },
  {
   "cell_type": "markdown",
   "id": "499a22d2-0560-4f87-8337-12e92f10b57a",
   "metadata": {},
   "source": [
    "#### Controllable Generators costs"
   ]
  },
  {
   "cell_type": "code",
   "execution_count": 10,
   "id": "0f284b1b-430b-4215-b4b4-9050e723c5d8",
   "metadata": {},
   "outputs": [
    {
     "data": {
      "text/html": [
       "<div>\n",
       "<style scoped>\n",
       "    .dataframe tbody tr th:only-of-type {\n",
       "        vertical-align: middle;\n",
       "    }\n",
       "\n",
       "    .dataframe tbody tr th {\n",
       "        vertical-align: top;\n",
       "    }\n",
       "\n",
       "    .dataframe thead th {\n",
       "        text-align: right;\n",
       "    }\n",
       "</style>\n",
       "<table border=\"1\" class=\"dataframe\">\n",
       "  <thead>\n",
       "    <tr style=\"text-align: right;\">\n",
       "      <th></th>\n",
       "      <th>element</th>\n",
       "      <th>et</th>\n",
       "      <th>cp0_eur</th>\n",
       "      <th>cp1_eur_per_mw</th>\n",
       "      <th>cp2_eur_per_mw2</th>\n",
       "      <th>cq0_eur</th>\n",
       "      <th>cq1_eur_per_mvar</th>\n",
       "      <th>cq2_eur_per_mvar2</th>\n",
       "    </tr>\n",
       "  </thead>\n",
       "  <tbody>\n",
       "    <tr>\n",
       "      <th>0</th>\n",
       "      <td>23</td>\n",
       "      <td>sgen</td>\n",
       "      <td>0.0</td>\n",
       "      <td>-1.0</td>\n",
       "      <td>0.0</td>\n",
       "      <td>0.0</td>\n",
       "      <td>0.0</td>\n",
       "      <td>0.0</td>\n",
       "    </tr>\n",
       "  </tbody>\n",
       "</table>\n",
       "</div>"
      ],
      "text/plain": [
       "   element    et  cp0_eur  cp1_eur_per_mw  cp2_eur_per_mw2  cq0_eur  \\\n",
       "0       23  sgen      0.0            -1.0              0.0      0.0   \n",
       "\n",
       "   cq1_eur_per_mvar  cq2_eur_per_mvar2  \n",
       "0               0.0                0.0  "
      ]
     },
     "execution_count": 10,
     "metadata": {},
     "output_type": "execute_result"
    }
   ],
   "source": [
    "# get the index of the controlled HV prod in SGEN table\n",
    "ctrld_hvProd_index = lowerNet.sgen.query('name==@ctrld_HvProd_name').index\n",
    "\n",
    "# Add negative cost to usability of sgen ctrld_hvProd so its usage can be maximised while respecting the constraints on the network\n",
    "cost_sgen_ctrld_hvProd = pp.create_poly_cost(lowerNet, ctrld_hvProd_index,'sgen', cp1_eur_per_mw=-1)\n",
    "\n",
    "lowerNet.poly_cost"
   ]
  },
  {
   "cell_type": "markdown",
   "id": "4128a723-6d2b-4aad-980d-feefa3564eda",
   "metadata": {
    "tags": []
   },
   "source": [
    "#### Define Data to use in local space of parallel engines"
   ]
  },
  {
   "cell_type": "markdown",
   "id": "a1a9aae9-6130-4a00-b5b2-92e5cd81ab42",
   "metadata": {
    "tags": []
   },
   "source": [
    "##### Create a function to rename Columns name \n",
    "\n",
    "\n",
    "    Ex: from ==> ['P0013_RNN', 'P0018_RNN', 'P0100_RNN'] ==> to ['P0013', 'P0018', 'P0100']"
   ]
  },
  {
   "cell_type": "code",
   "execution_count": 11,
   "id": "6816fe1c-93e8-4153-9dc4-458459ecceaa",
   "metadata": {},
   "outputs": [],
   "source": [
    "rename_cols = lambda name_list : [name.split('_R')[0] for name in name_list]"
   ]
  },
  {
   "cell_type": "markdown",
   "id": "66a7d7b1-6f72-4bb8-a2a5-604ccc0bae20",
   "metadata": {},
   "source": [
    "##### Extract predicted values  from Model1 and rename it"
   ]
  },
  {
   "cell_type": "code",
   "execution_count": 12,
   "id": "bc92176d-256a-4fcc-9e7e-1e8a8ce2bbc1",
   "metadata": {},
   "outputs": [],
   "source": [
    "# Since the pred_Model1_df columns are in the right order that is ['Cons', 'Prod_BT', 'P0_n', ...., 'P0_z']\n",
    "df_cons_total_pred = pred_Model1_df.iloc[:,[0]]\n",
    "df_prod_bt_total_pred = pred_Model1_df.iloc[:,[1]]\n",
    "df_prodHT_pred = pred_Model1_df.iloc[:,2:]\n",
    "\n",
    "# Renaming\n",
    "df_prodHT_pred.columns = rename_cols(df_prodHT_pred.columns)\n",
    "df_prod_bt_total_pred.columns = rename_cols(df_prod_bt_total_pred.columns)\n",
    "df_cons_total_pred.columns = rename_cols(df_cons_total_pred.columns)\n",
    "\n",
    "# Create the predicted new final dataframe\n",
    "df_final_pred = pd.concat([df_cons_total_pred,\n",
    "                           df_prod_bt_total_pred,\n",
    "                           df_prodHT_pred], \n",
    "                          axis='columns')"
   ]
  },
  {
   "cell_type": "markdown",
   "id": "86ea37e6-39f8-4ce9-8e61-ab7f3acf4462",
   "metadata": {},
   "source": [
    "#### Send data into local space of each engine"
   ]
  },
  {
   "cell_type": "code",
   "execution_count": 13,
   "id": "a5247b50-13f5-46e8-93eb-f46efb075d6f",
   "metadata": {
    "tags": []
   },
   "outputs": [
    {
     "name": "stdout",
     "output_type": "stream",
     "text": [
      "importing numpy on engine(s)\n",
      "importing pandapower on engine(s)\n",
      "importing pandas on engine(s)\n",
      "importing sys on engine(s)\n",
      "importing oriFunctions on engine(s)\n"
     ]
    }
   ],
   "source": [
    "opf_status = \"Both\" # Define OPF status \n",
    "pred_model = None   # Define the prediction Model \n",
    "\n",
    "# Create a dictionnary containing all the variable that will be used by each client or engine\n",
    "parameters_dict = dict({'lowerNet':lowerNet, \n",
    "                        'lowerNet_hv_activated_bus':lowerNet_hv_activated_bus, \n",
    "                        'sum_max_main_network':sum_max_main_network, \n",
    "                        'vm_mu_max':vm_mu_max,\n",
    "                        'pred_model':pred_model\n",
    "                         })\n",
    "\n",
    "dict_df_sgenLoad = oriFc.createDict_prodHtBt_Load(df_final_pred,\n",
    "                                                  networks \n",
    "                                                 )\n",
    "\n",
    "df_prodHT = dict_df_sgenLoad['df_prodHT']\n",
    "\n",
    "\n",
    "# Send all the created variables into local spaces of each engine.\n",
    "parEngines.sendVar_to_localSpace(df_prodHT.index, opf_status, dict_df_sgenLoad, parameters_dict, True )\n"
   ]
  },
  {
   "cell_type": "markdown",
   "id": "6fb0825a-c710-421a-804b-13f0ffd54e33",
   "metadata": {},
   "source": [
    "#### Run Optimal /power flow  in each local engine\n",
    "**<span style='color:red'> -----------------  BLOC  PF Model1 -------------------  </span>**"
   ]
  },
  {
   "cell_type": "code",
   "execution_count": 14,
   "id": "a92969d4-c6d8-43ad-93ab-7b3f15d04e9a",
   "metadata": {},
   "outputs": [
    {
     "data": {
      "application/vnd.jupyter.widget-view+json": {
       "model_id": "d7bf9a8eb80444d09bc978c2ddabce4b",
       "version_major": 2,
       "version_minor": 0
      },
      "text/plain": [
       "%px:   0%|          | 0/7 [00:00<?, ?tasks/s]"
      ]
     },
     "metadata": {},
     "output_type": "display_data"
    }
   ],
   "source": [
    "%%px \n",
    "resulting = [oriFunctions.run_powerflow_at(lowerNet, cur_period, lowerNet_hv_activated_bus, \n",
    "                                              sum_max_main_network,  dict_df_sgenLoad, vm_mu_max, \n",
    "                                              opf_status) for cur_period in period_part]"
   ]
  },
  {
   "cell_type": "markdown",
   "id": "0ec0cd93-e147-4a30-825b-81be3a8f52ba",
   "metadata": {
    "tags": []
   },
   "source": [
    "##### Extract results"
   ]
  },
  {
   "cell_type": "code",
   "execution_count": 15,
   "id": "f8cbace4-1348-4ccd-9c7b-1723ed453bc1",
   "metadata": {},
   "outputs": [],
   "source": [
    "# Gather the result of each engine in a single list\n",
    "results = parEngines.gather_results('resulting')\n",
    "time.sleep(1)\n",
    "\n",
    "# Extract results\n",
    "model1_pred_res = parEngines.get_results_asDf()\n",
    "\n",
    "# Get maximum volatage over the network \n",
    "max_vm_pu_df_RNN = model1_pred_res[['max_vm_pu_pf']]"
   ]
  },
  {
   "cell_type": "markdown",
   "id": "4dc2cc9f-406f-41bd-b0bf-6fb0782bacc1",
   "metadata": {},
   "source": [
    "#### Combined result of 3 models \n",
    "**<span style='color:red'> -----------------  BLOCk  Comb + Rob -------------------  </span>**"
   ]
  },
  {
   "cell_type": "code",
   "execution_count": 16,
   "id": "47f8e7da-71a6-47ec-b75b-7807dcf9c771",
   "metadata": {},
   "outputs": [],
   "source": [
    "# Apply period to work with to all three model output\n",
    "model1_Vrise, model2_Vrise, model3_Vrise = (max_vm_pu_df_RNN.loc[mask_per2work], \n",
    "                                            pred_bin_vRise.loc[mask_per2work],\n",
    "                                            pred_num_vRise.loc[mask_per2work]\n",
    "                                           )\n",
    "\n",
    "# create a dictionnary to save modelVrise\n",
    "v_rise_dict = {name: model for name, model in zip( ['Model'+str(i) for i in range(1,4)], \n",
    "                                                  [model1_Vrise, model2_Vrise, model3_Vrise] ) }\n",
    "\n",
    "paramUser = 'Model1'  # The user might choose here the combination of model to use. Here we worked \n",
    "                      # with 'Model1'. See the Doc of oriFc.combineRnnPred for possible choice\n",
    "\n",
    "# Extract ctrld_hvProd based on robust prediction of threshold\n",
    "ctrld_HvProd_opt, binThresh_df = oriFc.combineRnnPred(v_rise_dict, \n",
    "                                                       model1_pred_res[[ctrld_HvProd_name]], \n",
    "                                                       vm_mu_max,\n",
    "                                                       paramUser)\n",
    "\n",
    "# Implement robustness\n",
    "oriFc.robustness(ctrld_HvProd_opt, \n",
    "                 df_final[[ctrld_HvProd_name]], \n",
    "                 combRnn_param=(binThresh_df,paramUser)\n",
    "                   )"
   ]
  },
  {
   "cell_type": "markdown",
   "id": "62d04402-b704-431f-beeb-2ef1eef2c5b9",
   "metadata": {},
   "source": [
    "### Reality check\n",
    "\n",
    "**<span style='color:red'> -------------------  BLOC PROD  ---------------------</span>**"
   ]
  },
  {
   "cell_type": "code",
   "execution_count": 17,
   "id": "9b627e4c-3776-49cb-bf7e-0a2ca8881285",
   "metadata": {},
   "outputs": [],
   "source": [
    "oriFc.block_prod(ctrld_HvProd_opt, df_final[[ctrld_HvProd_name]])"
   ]
  },
  {
   "cell_type": "markdown",
   "id": "132d8405-ef35-47de-b7d1-00c22b3af48c",
   "metadata": {},
   "source": [
    " <span style='color:red'> **-------------------------------------------------------**  </span>"
   ]
  },
  {
   "cell_type": "markdown",
   "id": "fe7996ac-f8a4-4af9-81b5-a3aa48126cdd",
   "metadata": {},
   "source": [
    "#### Update Values for the dict to use for power flow\n"
   ]
  },
  {
   "cell_type": "code",
   "execution_count": 18,
   "id": "d3c8bcb0-2a4a-48db-b678-d1760e03eafd",
   "metadata": {},
   "outputs": [],
   "source": [
    "# create a new dataframe based on the updated ctrld_HvProd_opt and the non controlled HV producer\n",
    "prod_hv_df = pd.concat([df_final.loc[mask_per2work, non_ctrld_hvProdNames_list],\n",
    "                        ctrld_HvProd_opt], \n",
    "                       axis='columns')\n",
    "\n",
    "# Create new dataframe of Interest variables based on the previously created prod_hv_df \n",
    "df_final2 =pd.concat([df_final.loc[mask_per2work].iloc[:,[0]],\n",
    "                       df_final.loc[mask_per2work].iloc[:,[1]],\n",
    "                       prod_hv_df], axis='columns')"
   ]
  },
  {
   "cell_type": "markdown",
   "id": "33c15ae4-eb76-416d-ae72-b486ee9d1655",
   "metadata": {},
   "source": [
    "#### Send data into local space of each engine"
   ]
  },
  {
   "cell_type": "code",
   "execution_count": 19,
   "id": "6a197f4a-f37a-4242-89fd-d468f947687f",
   "metadata": {},
   "outputs": [
    {
     "name": "stdout",
     "output_type": "stream",
     "text": [
      "importing numpy on engine(s)\n",
      "importing pandapower on engine(s)\n",
      "importing pandas on engine(s)\n",
      "importing sys on engine(s)\n",
      "importing oriFunctions on engine(s)\n"
     ]
    }
   ],
   "source": [
    "opf_status = False # Define OPF status \n",
    "pred_model = None   # Define the prediction Model \n",
    "\n",
    "# Create a dictionnary containing all the variable that will be used by each client or engine\n",
    "parameters_dict = dict({'lowerNet':lowerNet, \n",
    "                        'lowerNet_hv_activated_bus':lowerNet_hv_activated_bus, \n",
    "                        'sum_max_main_network':sum_max_main_network, \n",
    "                        'vm_mu_max':vm_mu_max,\n",
    "                        'pred_model':pred_model\n",
    "                         })\n",
    "\n",
    "dict_df_sgenLoad = oriFc.createDict_prodHtBt_Load(df_final2,\n",
    "                                                  networks )\n",
    "\n",
    "df_prodHT = dict_df_sgenLoad['df_prodHT']\n",
    "\n",
    "\n",
    "# Send all the created variables into local spaces of each engine.\n",
    "parEngines.sendVar_to_localSpace(df_prodHT.index, opf_status, dict_df_sgenLoad, parameters_dict, True )\n"
   ]
  },
  {
   "cell_type": "markdown",
   "id": "d42ec65a-66be-4cf1-84f9-1644874c1ff2",
   "metadata": {},
   "source": [
    "#### Run power flow in each local engine\n",
    "**<span style='color:red'> ------------------------ BLOC  PF  -----------------------  </span>**"
   ]
  },
  {
   "cell_type": "code",
   "execution_count": 20,
   "id": "8cc8ded4-831b-45ab-b386-636df9176996",
   "metadata": {},
   "outputs": [
    {
     "data": {
      "application/vnd.jupyter.widget-view+json": {
       "model_id": "865d6994f18842ca97e70bc0b9a4b1fe",
       "version_major": 2,
       "version_minor": 0
      },
      "text/plain": [
       "%px:   0%|          | 0/7 [00:00<?, ?tasks/s]"
      ]
     },
     "metadata": {},
     "output_type": "display_data"
    }
   ],
   "source": [
    "%%px \n",
    "resulting2 = [oriFunctions.run_powerflow_at(lowerNet, cur_period, lowerNet_hv_activated_bus, \n",
    "                                              sum_max_main_network,  dict_df_sgenLoad, vm_mu_max, \n",
    "                                              opf_status) for cur_period in period_part]"
   ]
  },
  {
   "cell_type": "markdown",
   "id": "d2be4417-f2d8-4640-8004-78c62f468842",
   "metadata": {
    "tags": []
   },
   "source": [
    "#### Extract results"
   ]
  },
  {
   "cell_type": "code",
   "execution_count": 21,
   "id": "85e435e0-9167-4c0c-b3a7-dc36eb47b240",
   "metadata": {},
   "outputs": [],
   "source": [
    "# Gather the result of each engine in a single list\n",
    "parResults = parEngines.gather_results('resulting2')\n",
    "time.sleep(1)\n",
    "\n",
    "# Extract results\n",
    "model1_pred_res = parEngines.get_results_asDf()\n",
    "\n",
    "# # Put data in datafrae\n",
    "max_vm_pu_rnn_df = model1_pred_res.rename({'max_vm_pu_pf':paramUser}, axis='columns')"
   ]
  },
  {
   "cell_type": "markdown",
   "id": "2dce538e-2c82-44fd-9080-7e799c1f52ec",
   "metadata": {},
   "source": [
    " <span style='color:red'> **-------------------------------------------------------**  </span>"
   ]
  },
  {
   "cell_type": "markdown",
   "id": "9e3aebfc-7bec-4a11-8f0f-2ba227769471",
   "metadata": {},
   "source": [
    "#### Plot created Dataframe"
   ]
  },
  {
   "cell_type": "code",
   "execution_count": null,
   "id": "f00593c6-195f-4724-8ee9-b6cb0558cd2f",
   "metadata": {},
   "outputs": [],
   "source": [
    "fig, axx = plt.subplots(figsize=(15,6), dpi=100)\n",
    "plt.axhline(vm_mu_max,color='r', lw=0.5)\n",
    "\n",
    "max_vm_pu_rnn_df.plot(style = ['b^'],markersize=0.5, ax=axx)\n",
    "plt.legend( fontsize=13, markerscale=10)\n",
    "plt.title(\"Maximum voltage on network\", fontsize=15);"
   ]
  },
  {
   "cell_type": "markdown",
   "id": "c2e8c9f7-ee88-4784-850c-2f6e696f8cf2",
   "metadata": {},
   "source": [
    "#### Show Energy"
   ]
  },
  {
   "cell_type": "code",
   "execution_count": 23,
   "id": "493e94bd-f683-479f-80a5-e988be058a47",
   "metadata": {},
   "outputs": [
    {
     "name": "stdout",
     "output_type": "stream",
     "text": [
      "P0100 prod, No Control : 5060.71 MWh\n",
      "P0100 prod, Model2     : 5060.71 MWh |  Perc = 100.00%\n"
     ]
    }
   ],
   "source": [
    "# Create new dataFrame based on the actual output of block Prod and rename it \n",
    "# following the model that has been used.\n",
    "df_ctrldHvProd_rnn = ctrld_HvProd_opt.copy(deep=True)\n",
    "df_ctrldHvProd_rnn.rename({ctrld_HvProd_name:'RNN_' + paramUser}, axis='columns')\n",
    "\n",
    "\n",
    "# Concat created df and ctrld HV prod with no control\n",
    "ctrld_hvProd_concat_df = pd.concat([df_final.loc[df_ctrldHvProd_rnn.index, [ctrld_HvProd_name]],\n",
    "                             df_ctrldHvProd_rnn], axis='columns')\n",
    "\n",
    "# # Rename\n",
    "ctrld_hvProd_concat_df.rename(columns=({ctrld_HvProd_name:'No_Control'}), inplace=True);\n",
    "\n",
    "# Compute Energy\n",
    "var_no_control, var_rnn = ctrld_hvProd_concat_df.sum()*Δt\n",
    "\n",
    "print(f'{ctrld_HvProd_name} prod, No Control : {var_no_control:.2f} MWh')\n",
    "print(f'{ctrld_HvProd_name} prod, {paramUser}     : {var_rnn:.2f} MWh |  Perc = {var_rnn*100/var_no_control:.2f}%')\n"
   ]
  },
  {
   "cell_type": "markdown",
   "id": "ceec4716-605a-4524-a784-d1b6ddd70fba",
   "metadata": {},
   "source": [
    "##### Save Variables\n",
    "*<span style='color:green'>Run the following cell only one </span>*"
   ]
  },
  {
   "cell_type": "code",
   "execution_count": 27,
   "id": "48cf06a6-0834-494d-a31f-6255fb23823a",
   "metadata": {
    "tags": []
   },
   "outputs": [
    {
     "data": {
      "text/plain": [
       "['../Pickle_files/simulationResults/RNN_pred_res_Model1.pkl']"
      ]
     },
     "execution_count": 27,
     "metadata": {},
     "output_type": "execute_result"
    }
   ],
   "source": [
    "var_to_save = dict({f'{ctrld_HvProd_name}_concat_df':ctrld_hvProd_concat_df.loc[mask_per2work],\n",
    "                    'voltage_rise_df':max_vm_pu_rnn_df.loc[mask_per2work], \n",
    "                    'Out_blocProd': model1_pred_res.loc[mask_per2work]# Where out bloc prod is the result \n",
    "                                                                      # of the prediction using the RNN model \n",
    "                                                                      # and the corresponding OPF voltage rise\n",
    "                   })\n",
    "\n",
    "joblib.dump(var_to_save,f'{simResult_folder}RNN_pred_res_{paramUser}.pkl')\n",
    "# Simulation with all others value of ``paramUser is done and saved \n",
    "# in ../Pickle_files/simulationResults/ under the name RNN_pred_res_Model'x' where x in {1,2,3} for model1,2,3 \n",
    "# and for a combination of at least 1, 2 or all 3 models under the name  \n",
    "# RNN_pred_res_AtLeast'x'Model where x in {1,2,3} "
   ]
  }
 ],
 "metadata": {
  "kernelspec": {
   "display_name": "Python 3 (ipykernel)",
   "language": "python",
   "name": "python3"
  },
  "language_info": {
   "codemirror_mode": {
    "name": "ipython",
    "version": 3
   },
   "file_extension": ".py",
   "mimetype": "text/x-python",
   "name": "python",
   "nbconvert_exporter": "python",
   "pygments_lexer": "ipython3",
   "version": "3.7.15"
  },
  "widgets": {
   "application/vnd.jupyter.widget-state+json": {
    "state": {},
    "version_major": 2,
    "version_minor": 0
   }
  }
 },
 "nbformat": 4,
 "nbformat_minor": 5
}
