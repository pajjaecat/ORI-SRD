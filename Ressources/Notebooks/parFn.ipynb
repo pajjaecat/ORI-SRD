{
 "cells": [
  {
   "cell_type": "code",
   "execution_count": 1,
   "id": "619c52f6-a6bc-45e1-b147-2a5767b2e4eb",
   "metadata": {},
   "outputs": [],
   "source": [
    "import time"
   ]
  },
  {
   "cell_type": "code",
   "execution_count": 2,
   "id": "dee08f27-0cd2-4634-b568-a93279e203f1",
   "metadata": {},
   "outputs": [],
   "source": [
    "def par_block_pfOpf(par_engines,\n",
    "                    pred_model_f=None\n",
    "                   ):\n",
    "    \"\"\" Block PF/OPF using parallels engines.\n",
    "\n",
    "    Execute a power flow, an optimal power flow, or both depending on ``opf_status``\n",
    "    extracted from the parallel engine object ``par_engines``. If ``opf_status`` is\n",
    "    \"Both\", the function is used as the block PF/OPF. If ``opf_status`` is  ``False``,\n",
    "    the function is used as the block PF..\n",
    "\n",
    "    Parameters\n",
    "    ----------\n",
    "    par_engines:  ipyparallel.cluster\n",
    "        Parallel engines object,, Instance of  :py:class:`oriClass.CreateParEngines`.\n",
    "    pred_model_f: str, Optional, Default =  None\n",
    "        'Pers' ==> Using persistence model.\n",
    "\n",
    "    Returns\n",
    "    -------\n",
    "    pandas.DataFrame\n",
    "        Output of the function :py:func:`oriClass.CreateParEngines.get_results_asDf`.\n",
    "        \n",
    "    Warnings\n",
    "    ---------\n",
    "    DO NOT CALL this function from the module :py:mod:`oriFunctions`. \n",
    "    Given that the function makes use of the magic ``%%px`` implemented by ipyparallel,\n",
    "    it has to be call through a conversion of a jupyter notebook into a module. See \n",
    "    Examples or `SensAnalysisP0100 <https://github.com/pajjaecat/ORI-SRD/blob/main/Ressources/Notebooks/SensAnalysisP0100.ipynb>`_\n",
    "    for usage.\n",
    "    \n",
    "    Examples\n",
    "    --------\n",
    "    >>> from fnfrnb import NotebookLoader               # Import NotebookLoader from module\n",
    "    ...                                                 # fnfrnb i.e. Function From Notebook\n",
    "    ...\n",
    "    ... oriPar = NotebookLoader().load_module('parFn')  # Create the module oriPar based on \n",
    "    ...                                                 # the content of `parFn.ipynb`\n",
    "    Importing parFn.ipynb content as a module\n",
    "    \n",
    "    >>> oriPar.par_block_pfOpf(par_engines, pred_model) # Call the parallel block PF/OPF\n",
    "    \n",
    "    \"\"\"\n",
    "\n",
    "    # Note that all the variables used in the parallel running MUST be  already sent to the local space of each engine\n",
    "    if pred_model_f == 'Pers':\n",
    "        # Run problem in parallel\n",
    "        %px par_run_Results = [oriFunctions.run_powerflow_at(lowerNet, cur_period+1, lowerNet_hv_activated_bus, sum_max_main_network,  dict_df_sgenLoad, vm_mu_max, opf_status, pred_model) for cur_period in period_part]\n",
    "    else:\n",
    "        %px par_run_Results = [oriFunctions.run_powerflow_at(lowerNet, cur_period, lowerNet_hv_activated_bus, sum_max_main_network,  dict_df_sgenLoad, vm_mu_max, opf_status) for cur_period in period_part]\n",
    "\n",
    "    # Gather the results of all the engines in a unique variable.\n",
    "    results = par_engines.gather_results('par_run_Results')\n",
    "    \n",
    "    # Wait 2seconds time for gathering the results of parralel computing.\n",
    "    # This waiting time could be reduce when using more powerful machines.\n",
    "    time.sleep(2)\n",
    "\n",
    "    # Extract results\n",
    "    extracted_results = par_engines.get_results_asDf() \n",
    "\n",
    "    # Return Extacted results \n",
    "    return extracted_results"
   ]
  }
 ],
 "metadata": {
  "kernelspec": {
   "display_name": "Python 3 (ipykernel)",
   "language": "python",
   "name": "python3"
  },
  "language_info": {
   "codemirror_mode": {
    "name": "ipython",
    "version": 3
   },
   "file_extension": ".py",
   "mimetype": "text/x-python",
   "name": "python",
   "nbconvert_exporter": "python",
   "pygments_lexer": "ipython3",
   "version": "3.7.15"
  },
  "widgets": {
   "application/vnd.jupyter.widget-state+json": {
    "state": {},
    "version_major": 2,
    "version_minor": 0
   }
  }
 },
 "nbformat": 4,
 "nbformat_minor": 5
}
