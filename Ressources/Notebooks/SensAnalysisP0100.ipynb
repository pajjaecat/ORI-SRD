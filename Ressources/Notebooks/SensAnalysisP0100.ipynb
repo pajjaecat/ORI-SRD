{
 "cells": [
  {
   "cell_type": "markdown",
   "id": "20b19448-c448-4130-a879-ec0455818ae2",
   "metadata": {},
   "source": [
    "#### Sensitivity Analysis \n",
    "Simulation of the effect of Energy Producer Maximum outPut on the Voltage Rise Detected "
   ]
  },
  {
   "cell_type": "markdown",
   "id": "fc065a87-7dbd-47b1-babf-3e39a2cb365d",
   "metadata": {
    "tags": []
   },
   "source": [
    "Simulation based on  : \n",
    "* Prediction block RNN trained in [RNN_Train_StLaurentDeJourdes](RNN_Train_StLaurentDeJourdes.ipynb) \n",
    "    * To predict $X(k)$ and $Y(k)$  as respectively  $\\tilde{X(k)}$ an  $\\tilde{Y(k)}$ (Predictions on testing set are done in [RNN_Sim_StLaurentDeJourdes](RNN_Sim_StLaurentDeJourdes.ipynb))\n",
    "* Robust Combined RNN To predict $X(k)$ and $Y(k)$  as respectively  $\\tilde{X(k)}$ an  $\\tilde{Y(k)}$ based on robust Model1 and Model 3 [2021_2022_RNN_Robust_All_Models](2021_2022_RNN_Robust_All_Models.ipynb))\n",
    "* Prediction Block Future Known [2021_2022_KnownFuture](2021_2022_KnownFuture.ipynb)\n",
    "* Persistence Model [2021_2022_Persistence](2021_2022_Persistence.ipynb)\n",
    "\n",
    "\n",
    "Maximum voltage rise $vm_{pu}^{max} = 1.0250 $"
   ]
  },
  {
   "cell_type": "markdown",
   "id": "96c067fd-725f-4694-a4e0-d0f55adcae39",
   "metadata": {},
   "source": [
    "---"
   ]
  },
  {
   "cell_type": "markdown",
   "id": "1c558622-b368-41de-8e6d-7df7f2c1dcf6",
   "metadata": {
    "tags": []
   },
   "source": [
    "#### Define the parallel block PF/OPF"
   ]
  },
  {
   "cell_type": "markdown",
   "id": "16cf0dd9-6d42-4120-b539-b29c337fbdef",
   "metadata": {
    "tags": []
   },
   "source": [
    "#### Import Modules \n"
   ]
  },
  {
   "cell_type": "code",
   "execution_count": 1,
   "id": "2346d4b8-6911-477a-84a3-c8eb55f5e446",
   "metadata": {},
   "outputs": [],
   "source": [
    "import pandas as pd\n",
    "import pandapower as pp\n",
    "import matplotlib.pyplot as plt\n",
    "import numpy as np\n",
    "from tqdm import tqdm # Profiling \n",
    "import seaborn as sbn\n",
    "import pickle, sys, importlib,  time\n",
    "import os\n",
    "from pickle import load\n",
    "import joblib"
   ]
  },
  {
   "cell_type": "code",
   "execution_count": 64,
   "id": "221fcb98-4ddc-4d75-b03d-379c3778d93d",
   "metadata": {},
   "outputs": [],
   "source": [
    "# import psutil\n",
    "function_folder = '../Modules/' \n",
    "# Add modules folder to path if it is not present\n",
    "if function_folder not in sys.path: sys.path.append(function_folder)\n",
    "\n",
    "import oriFunctions as oriFc\n",
    "import checker\n",
    "import oriClass as oriCs\n",
    "from oriVariables import (simResult_folder, \n",
    "                          defAuth_hvBus_vRiseMax,\n",
    "                          default_hv_voltage,\n",
    "                          defAuth_hvBus_vRiseMin, \n",
    "                          hp10_start_end,\n",
    "                          h_start_end,\n",
    "                          testSet_end,\n",
    "                          valSet_start_M2,\n",
    "                          valSet_start_M1,\n",
    "                          default_ctrld_hvProd_max,\n",
    "                          ctrld_HvProd_name,\n",
    "                          lowerNet_file_loc,\n",
    "                          upperNet_file_loc,\n",
    "                          pd_Δt\n",
    "                          )\n"
   ]
  },
  {
   "cell_type": "markdown",
   "id": "411bd058-edc5-44d3-8a3a-76ce2362ef14",
   "metadata": {},
   "source": [
    "##### Import parallel block PF/OPF modules"
   ]
  },
  {
   "cell_type": "code",
   "execution_count": 18,
   "id": "222b71a9-50cb-4198-86b6-5ce3c6a5a413",
   "metadata": {
    "tags": []
   },
   "outputs": [
    {
     "name": "stdout",
     "output_type": "stream",
     "text": [
      "Importing parFn.ipynb content as a module\n"
     ]
    }
   ],
   "source": [
    "import fnfrnb as funcFromNotebook\n",
    "oriPar = funcFromNotebook.NotebookLoader().load_module('parFn')"
   ]
  },
  {
   "cell_type": "markdown",
   "id": "9a5cdb31-5597-496a-af2b-b5b40a2b3b4a",
   "metadata": {
    "tags": []
   },
   "source": [
    "#### Import Cleaned data files for component of the network"
   ]
  },
  {
   "cell_type": "code",
   "execution_count": 19,
   "id": "a11df2ae-0072-4bb0-b339-c695f0eac786",
   "metadata": {},
   "outputs": [],
   "source": [
    "df_data = joblib.load(f'{simResult_folder}StLaurent_cleanedData.pkl')\n",
    "\n",
    "# create daylight periods\n",
    "per_index = df_data.index\n",
    "per_daylight = ( pd.Series(index=per_index.to_timestamp(), dtype=object)\n",
    "                .between_time(*h_start_end) ).index.to_period(pd_Δt)\n",
    "\n",
    "# From the daylight periods extract for the first element the firsts year, month and day.\n",
    "starting_year = per_daylight[0].year \n",
    "starting_month = per_daylight[0].month \n",
    "starting_day = per_daylight[0].day \n",
    "\n",
    "# Extract the total number of period during daylight time of a day \n",
    "day_tot_per = len(per_daylight[(per_daylight.year == starting_year)\n",
    "                               &(per_daylight.month == starting_month)\n",
    "                               &(per_daylight.day == starting_day) ] )\n",
    "\n",
    "# Extract daylight periods\n",
    "df_data = df_data.loc[per_daylight]\n",
    "\n",
    "\n",
    "# # Extract only the relavant testing set\n",
    "df_final = df_data[(df_data.index>= valSet_start_M2) & (df_data.index<= testSet_end)]\n",
    "\n",
    "# Create period index 1 and 2 \n",
    "per_index = df_final.index\n",
    "per_index2 = ( pd.Series(index=per_index.to_timestamp(), dtype=object\n",
    "                        ).between_time(*hp10_start_end) ).index.to_period(pd_Δt)"
   ]
  },
  {
   "cell_type": "markdown",
   "id": "90343bf0-685f-4db0-a4e7-3f80ae833358",
   "metadata": {
    "tags": []
   },
   "source": [
    "#### Define Controlled HV's name and extract Non controlled HV names"
   ]
  },
  {
   "cell_type": "code",
   "execution_count": 23,
   "id": "4cf827b8-e6c9-42be-8933-91a7aba4b935",
   "metadata": {},
   "outputs": [],
   "source": [
    "# Extract all the HV producer and get the name of Non - controlled HV Prod\n",
    "hvProdNames = {elm for elm in df_final.columns if elm[-4:].isdecimal()}\n",
    "non_ctrld_HvProd_names_list = list(hvProdNames.difference({ctrld_HvProd_name}))"
   ]
  },
  {
   "cell_type": "markdown",
   "id": "410d560a-61c5-4e88-bd4e-60209ee8ea96",
   "metadata": {
    "tags": []
   },
   "source": [
    "#### Load prediction file of model1 \n",
    "i.e. $\\tilde{X(k)}$ an  $\\tilde{Y(k)}$ predicted in [RNN_Sim_StLaurentDeJourdes](RNN_Sim_StLaurentDeJourdes.ipynb)"
   ]
  },
  {
   "cell_type": "code",
   "execution_count": 24,
   "id": "cabc433d-d018-4e84-907d-0246a827ae79",
   "metadata": {},
   "outputs": [],
   "source": [
    "rnnPred_df = joblib.load(f'{simResult_folder}RNN_pred.pkl')"
   ]
  },
  {
   "cell_type": "markdown",
   "id": "0a84e1b4-8451-4b5d-bc00-8cbff8d082db",
   "metadata": {
    "tags": []
   },
   "source": [
    "#### Start Parallel engines"
   ]
  },
  {
   "cell_type": "code",
   "execution_count": 25,
   "id": "353f9f8a-e1f7-4389-8c90-734e2b70ec80",
   "metadata": {},
   "outputs": [
    {
     "name": "stdout",
     "output_type": "stream",
     "text": [
      "Starting 7 engines with <class 'ipyparallel.cluster.launcher.LocalEngineSetLauncher'>\n"
     ]
    },
    {
     "data": {
      "application/vnd.jupyter.widget-view+json": {
       "model_id": "6540b36df3ac4c5abb137c8b5d7b4beb",
       "version_major": 2,
       "version_minor": 0
      },
      "text/plain": [
       "  0%|          | 0/7 [00:00<?, ?engine/s]"
      ]
     },
     "metadata": {},
     "output_type": "display_data"
    }
   ],
   "source": [
    "n_engines = os.cpu_count()-1         # Total number of engines\n",
    "parEngines = oriCs.CreateParEngines(n_engines)"
   ]
  },
  {
   "cell_type": "markdown",
   "id": "b3759163-838d-4976-90ee-df2d91ff523f",
   "metadata": {
    "tags": []
   },
   "source": [
    "### Import Networks\n"
   ]
  },
  {
   "cell_type": "code",
   "execution_count": 28,
   "id": "984342d1-0910-4cc7-b4a1-9d7070995f0c",
   "metadata": {},
   "outputs": [],
   "source": [
    "lowerNet=pp.from_pickle(lowerNet_file_loc)\n",
    "upperNet=pp.pp.from_pickle(upperNet_file_loc)\n",
    "\n",
    "# Init an object of InitNetworks\n",
    "networks = oriCs.InitNetworks(upperNet, lowerNet)"
   ]
  },
  {
   "cell_type": "markdown",
   "id": "96ec1a4c-eeaa-44ec-bd2a-855a5755527a",
   "metadata": {
    "tags": []
   },
   "source": [
    "### Operation on network parameters"
   ]
  },
  {
   "cell_type": "code",
   "execution_count": 29,
   "id": "c7373bd0-5270-4aa3-a7a8-4d2e9ae974b8",
   "metadata": {},
   "outputs": [],
   "source": [
    "# Defined Voltage rise threshold\n",
    "vm_mu_max, vm_mu_min = defAuth_hvBus_vRiseMax, defAuth_hvBus_vRiseMin  \n",
    "\n",
    "# Inititialize the controllable hv prod in the network\n",
    "networks.init_controlled_hvProd(ctrld_HvProd_name)\n",
    "\n",
    "# Extract the HV bus from the list of activated bus \n",
    "lowerNet_hv_activated_bus = networks.get_lowerNet_hvActivatedBuses(lowerNet\n",
    "                                                                   .bus\n",
    "                                                                   .query('vn_kv==@default_hv_voltage').index)\n",
    "# Add maximum voltage constraints on the Hv Buses in the network \n",
    "networks.lowerNet_set_vrise_threshold(lowerNet_hv_activated_bus, vm_mu_min, vm_mu_max)"
   ]
  },
  {
   "cell_type": "markdown",
   "id": "12427a71-748c-419a-bb52-9ce644ff49e2",
   "metadata": {
    "tags": []
   },
   "source": [
    "### Controllable Generators costs"
   ]
  },
  {
   "cell_type": "code",
   "execution_count": 30,
   "id": "b60831a5-e50f-43f9-b0d4-bd8966315b39",
   "metadata": {},
   "outputs": [
    {
     "data": {
      "text/html": [
       "<div>\n",
       "<style scoped>\n",
       "    .dataframe tbody tr th:only-of-type {\n",
       "        vertical-align: middle;\n",
       "    }\n",
       "\n",
       "    .dataframe tbody tr th {\n",
       "        vertical-align: top;\n",
       "    }\n",
       "\n",
       "    .dataframe thead th {\n",
       "        text-align: right;\n",
       "    }\n",
       "</style>\n",
       "<table border=\"1\" class=\"dataframe\">\n",
       "  <thead>\n",
       "    <tr style=\"text-align: right;\">\n",
       "      <th></th>\n",
       "      <th>element</th>\n",
       "      <th>et</th>\n",
       "      <th>cp0_eur</th>\n",
       "      <th>cp1_eur_per_mw</th>\n",
       "      <th>cp2_eur_per_mw2</th>\n",
       "      <th>cq0_eur</th>\n",
       "      <th>cq1_eur_per_mvar</th>\n",
       "      <th>cq2_eur_per_mvar2</th>\n",
       "    </tr>\n",
       "  </thead>\n",
       "  <tbody>\n",
       "    <tr>\n",
       "      <th>0</th>\n",
       "      <td>23</td>\n",
       "      <td>sgen</td>\n",
       "      <td>0.0</td>\n",
       "      <td>-1.0</td>\n",
       "      <td>0.0</td>\n",
       "      <td>0.0</td>\n",
       "      <td>0.0</td>\n",
       "      <td>0.0</td>\n",
       "    </tr>\n",
       "  </tbody>\n",
       "</table>\n",
       "</div>"
      ],
      "text/plain": [
       "   element    et  cp0_eur  cp1_eur_per_mw  cp2_eur_per_mw2  cq0_eur  \\\n",
       "0       23  sgen      0.0            -1.0              0.0      0.0   \n",
       "\n",
       "   cq1_eur_per_mvar  cq2_eur_per_mvar2  \n",
       "0               0.0                0.0  "
      ]
     },
     "execution_count": 30,
     "metadata": {},
     "output_type": "execute_result"
    }
   ],
   "source": [
    "# get the index of the controlled HV prod in SGEN table\n",
    "ctrld_hvProd_index = lowerNet.sgen.query('name==@ctrld_HvProd_name').index\n",
    "\n",
    "# Add negative cost to usability of sgen P0100 so its usage can be maximised while respecting the constraints on the network\n",
    "pp.create_poly_cost(lowerNet, ctrld_hvProd_index,'sgen', cp1_eur_per_mw=-1)\n",
    "\n",
    "lowerNet.poly_cost"
   ]
  },
  {
   "cell_type": "markdown",
   "id": "90626953-634c-4b59-b932-9025f34cd27f",
   "metadata": {
    "tags": []
   },
   "source": [
    "### Simulations"
   ]
  },
  {
   "cell_type": "markdown",
   "id": "022ebed3-4751-45f9-82f6-3d892a9e7a34",
   "metadata": {
    "tags": []
   },
   "source": [
    "#### Define Data to use in local space of engines"
   ]
  },
  {
   "cell_type": "code",
   "execution_count": 31,
   "id": "24dd7871-f29a-48cf-a321-eb529d07bd4c",
   "metadata": {
    "tags": []
   },
   "outputs": [],
   "source": [
    "pred_model = 'Pers'   # Define the prediction Model \n",
    "\n",
    "# Create a dictionnary containing all the variable that will be used by each client or engine\n",
    "parameters_dict = dict({'lowerNet':lowerNet, \n",
    "                        'lowerNet_hv_activated_bus':lowerNet_hv_activated_bus, \n",
    "                        'sum_max_main_network':networks.get_upperNet_sum_max_lvProdLoad(), \n",
    "                        'vm_mu_max':vm_mu_max,\n",
    "                        'pred_model':pred_model\n",
    "                         })"
   ]
  },
  {
   "cell_type": "markdown",
   "id": "f8b242e9-1267-43bc-9a9e-61b263278f08",
   "metadata": {},
   "source": [
    "---"
   ]
  },
  {
   "cell_type": "markdown",
   "id": "6a9702a9-b848-4830-9c4d-20770f42a7be",
   "metadata": {
    "tags": []
   },
   "source": [
    "#### Robust Persistence"
   ]
  },
  {
   "cell_type": "markdown",
   "id": "c91c3560-9364-42ac-901f-d33e1037c3f2",
   "metadata": {},
   "source": [
    "**<span style='color:Orange'>  The results of the Robust Persistence simulation using the default networks (Civaux and St Laurent) is availaible in</span>** [SensAnalysisP0100_PersRob](../Pickle_files/simulationResults/SensAnalysisP0100_PersRob.pkl). "
   ]
  },
  {
   "cell_type": "markdown",
   "id": "80150c44-85b1-43dd-9eb1-343785d4e254",
   "metadata": {},
   "source": [
    "##### Define Range of variation for the maximum power output of the controlled HV Prod i.e. P0100 "
   ]
  },
  {
   "cell_type": "code",
   "execution_count": 32,
   "id": "ab1ce734-c724-4dc7-b259-f43603b819d8",
   "metadata": {},
   "outputs": [],
   "source": [
    "ctrldHvProd_output_var_step = 0.2   # (MW) Controlled HV Prod output variation step \n",
    "ctrld_hvProd_max_range = np.arange(0, default_ctrld_hvProd_max+0.1 ,ctrldHvProd_output_var_step)"
   ]
  },
  {
   "cell_type": "markdown",
   "id": "f83c9609-1b9c-48d2-9b95-d15a93bc6820",
   "metadata": {},
   "source": [
    "##### For each element in ctrld_hvProd_max_range, run a simulation and save the results "
   ]
  },
  {
   "cell_type": "code",
   "execution_count": null,
   "id": "35917903-ace9-4988-8c17-7448b6f2c9bc",
   "metadata": {
    "scrolled": true,
    "tags": []
   },
   "outputs": [
    {
     "name": "stdout",
     "output_type": "stream",
     "text": [
      "***************************       Simulation 2/21      ****************\n",
      "                           ------- Bloc PF/OPF ---------         \n",
      "importing numpy on engine(s)\n",
      "importing pandapower on engine(s)\n",
      "importing pandas on engine(s)\n",
      "importing sys on engine(s)\n",
      "importing oriFunctions on engine(s)\n"
     ]
    },
    {
     "data": {
      "application/vnd.jupyter.widget-view+json": {
       "model_id": "5a066e202d9e4b6ca83c22a54dcff936",
       "version_major": 2,
       "version_minor": 0
      },
      "text/plain": [
       "%px:   0%|          | 0/7 [00:00<?, ?tasks/s]"
      ]
     },
     "metadata": {},
     "output_type": "display_data"
    },
    {
     "name": "stdout",
     "output_type": "stream",
     "text": [
      "                            ------- Bloc PF/OPF ---------         \n"
     ]
    },
    {
     "data": {
      "application/vnd.jupyter.widget-view+json": {
       "model_id": "13f093dc1a49498da7c652a28df0e48c",
       "version_major": 2,
       "version_minor": 0
      },
      "text/plain": [
       "%px:   0%|          | 0/7 [00:00<?, ?tasks/s]"
      ]
     },
     "metadata": {},
     "output_type": "display_data"
    }
   ],
   "source": [
    "sim_res_Dict = {}  # Dictionnary to save variables\n",
    "\n",
    "for cur_index in range(len(ctrld_hvProd_max_range)):\n",
    "    \n",
    "    # Define the upsacaled output of the controlled HV prod based on the current index\n",
    "    upscaled_ctrld_hvProd_max = ctrld_hvProd_max_range[cur_index]  \n",
    "\n",
    "    # Initialize variables for parallel engines\n",
    "    dict_df_sgenLoad = oriFc.createDict_prodHtBt_Load(df_final,\n",
    "                                                      networks, \n",
    "                                                      cur_hvProd_max = upscaled_ctrld_hvProd_max )\n",
    "\n",
    "    print(f'***************************       Simulation {cur_index+1}/{len(ctrld_hvProd_max_range)}      ****************')\n",
    "    print(\"                           ------- Bloc PF/OPF ---------         \")\n",
    "    ##          ---------------------------  BLOCK PF/OPF  ------------------------         ##\n",
    "    # Initialize the parallel engine parameters i.e. send variable into each local space\n",
    "    opf_status = 'Both'\n",
    "    df_prodHT_index = dict_df_sgenLoad['df_prodHT'].index # Extract  index of periods.\n",
    "    \n",
    "    # Send all the created variables into local spaces of each engine.\n",
    "    parEngines.sendVar_to_localSpace(df_prodHT_index, \n",
    "                                     opf_status, \n",
    "                                     dict_df_sgenLoad, \n",
    "                                     parameters_dict, \n",
    "                                     clean=True )\n",
    "    # cALL Block pf/op\n",
    "    ctrld_HvProd_opt = oriPar.par_block_pfOpf(parEngines, pred_model)    \n",
    "\n",
    "    # ---------------------- Implement Robust Persistence ------------------------------------\n",
    "    oriFc.robustness(ctrld_HvProd_opt, \n",
    "                     df_final[[ctrld_HvProd_name]], \n",
    "                     cur_hvProd_max = upscaled_ctrld_hvProd_max )\n",
    "    \n",
    "    ##           ---------------------------  BLOCK PROD  ------------------------         ##\n",
    "    oriFc.block_prod(ctrld_HvProd_opt, \n",
    "                     df_final[[ctrld_HvProd_name]], \n",
    "                     cur_hvProd_max = upscaled_ctrld_hvProd_max )\n",
    "    #            ------------------------------------------------------------------------  ##\n",
    "    \n",
    "    # Create mask\n",
    "    mask_per2work = per_index2[day_tot_per:]\n",
    "\n",
    "    # Update Values of the dataframe to use for final power flow bloc with Interest variables \n",
    "    # (Real load, real Prod of LV Prod, and Non-COntroled HV Prod, Injected power of Ctrl Prod\n",
    "    df_final2 =pd.concat([df_final.loc[mask_per2work].iloc[:,[0,1]],\n",
    "                          df_final.loc[mask_per2work, non_ctrld_HvProd_names_list],\n",
    "                          ctrld_HvProd_opt.loc[mask_per2work, [ctrld_HvProd_name]],\n",
    "                         ], axis='columns')\n",
    "\n",
    "    checker.check_networkDataDf_columnsOrder(df_final2)    # Check df_final2 columns order\n",
    "    \n",
    "    # Creat dict to send to par Engines based\n",
    "    dict_df_sgenLoad = oriFc.createDict_prodHtBt_Load(df_final2,\n",
    "                                                      networks )\n",
    "    ##             ---------------------------  BLOCK PF  ------------------------         ##\n",
    "    print(\"                          -------    Bloc PF   ---------         \")    \n",
    "\n",
    "    opf_status = False\n",
    "    df_prodHT_index = dict_df_sgenLoad['df_prodHT'].index # Extract  index of periods.\n",
    "    \n",
    "    # Send all the created variables into local spaces of each engine.\n",
    "    parEngines.sendVar_to_localSpace(df_prodHT_index, \n",
    "                                     opf_status, \n",
    "                                     dict_df_sgenLoad, \n",
    "                                     parameters_dict, \n",
    "                                     clean=False )\n",
    "    # Call block pf. It \n",
    "    max_vm_pu_pers_df = oriPar.par_block_pfOpf(parEngines)    \n",
    "\n",
    "    # TODO : Write a func to save results \n",
    "#  #####   Saving Results  --------------------------------------------------------------------------------------\n",
    "    ctrld_HvProd_df = df_final.loc[df_final2.index, [ctrld_HvProd_name]]\n",
    "    ctrld_HvProd_pers_df = pd.DataFrame(data=ctrld_HvProd_opt.loc[df_final2.index, ctrld_HvProd_name].values, \n",
    "                                        index=ctrld_HvProd_opt.loc[df_final2.index].index, \n",
    "                                        columns=['Pers_Rob Sim'+str(cur_index+1)] )\n",
    "    # Concat\n",
    "    ctrld_HvProd_concat_df = pd.concat([ctrld_hvProd_max_range[cur_index]*ctrld_HvProd_df/default_ctrld_hvProd_max,\n",
    "                                        ctrld_HvProd_pers_df], \n",
    "                                       axis='columns')\n",
    "    # Rename\n",
    "    ctrld_HvProd_concat_df.rename(columns=({ctrld_HvProd_name:'No_Control'}), inplace=True);\n",
    "\n",
    "    int_sim_res = {'maxV_rise_df':max_vm_pu_pers_df,            # Intermediate results\n",
    "                   'Power Sgen': ctrld_HvProd_concat_df}         \n",
    "    sim_res_Dict.update([('Sim'+str(cur_index+1),int_sim_res)]) # Final results"
   ]
  },
  {
   "cell_type": "markdown",
   "id": "19051890-856f-4ff1-93d7-520f2e2a8b6f",
   "metadata": {},
   "source": [
    "##### Save results of the previous simulation"
   ]
  },
  {
   "cell_type": "code",
   "execution_count": null,
   "id": "f6202fd1-b6b0-4b00-b3a4-e007901e275a",
   "metadata": {},
   "outputs": [],
   "source": [
    "joblib.dump(sim_res_Dict,f'{simResult_folder}SensAnalysis{ctrld_HvProd_name}_PersRob.pkl')"
   ]
  },
  {
   "cell_type": "markdown",
   "id": "05e8d887-7460-4ac9-9a03-6781fa2dfd17",
   "metadata": {},
   "source": [
    "-----"
   ]
  },
  {
   "cell_type": "markdown",
   "id": "e9e9f1af-78f6-4a21-b006-df0132942238",
   "metadata": {
    "tags": []
   },
   "source": [
    "#### FUTURE KNOWN"
   ]
  },
  {
   "cell_type": "markdown",
   "id": "442c23f0-238d-47e5-b5dd-6a300dcfc2e9",
   "metadata": {},
   "source": [
    "**<span style='color:Orange'>  The results of the Future Known simulation using the default networks (Civaux and St Laurent) is availaible in</span>** [SensAnalysisP0100_FutureKnown](../Pickle_files/simulationResults/SensAnalysisP0100_FutureKnown.pkl). "
   ]
  },
  {
   "cell_type": "code",
   "execution_count": 34,
   "id": "5aedf556-1d7e-4d37-b6b8-08e4b8373aaf",
   "metadata": {
    "scrolled": true,
    "tags": []
   },
   "outputs": [
    {
     "name": "stdout",
     "output_type": "stream",
     "text": [
      "***************************       Simulation 2/21      ****************\n",
      "                           ------- Bloc PF/OPF ---------         \n",
      "importing numpy on engine(s)\n",
      "importing pandapower on engine(s)\n",
      "importing pandas on engine(s)\n",
      "importing sys on engine(s)\n",
      "importing oriFunctions on engine(s)\n"
     ]
    },
    {
     "data": {
      "application/vnd.jupyter.widget-view+json": {
       "model_id": "800b172d89404f75b44bc9e1fe070af8",
       "version_major": 2,
       "version_minor": 0
      },
      "text/plain": [
       "%px:   0%|          | 0/7 [00:00<?, ?tasks/s]"
      ]
     },
     "metadata": {},
     "output_type": "display_data"
    }
   ],
   "source": [
    "sim_res_Dict = {}  # Dictionnary to save variables\n",
    "\n",
    "for cur_index in range(len(ctrld_hvProd_max_range)):\n",
    "\n",
    "    # Define the upsacaled output of the controlled HV prodf\n",
    "    upscaled_ctrld_hvProd_max = ctrld_hvProd_max_range[cur_index]  \n",
    "    \n",
    "    # Initialize variables for parallel engines\n",
    "    dict_df_sgenLoad = oriFc.createDict_prodHtBt_Load(df_final,\n",
    "                                                      networks, \n",
    "                                                      cur_hvProd_max = upscaled_ctrld_hvProd_max )\n",
    "    \n",
    "    print(f'***************************       Simulation {cur_index+1}/{len(ctrld_hvProd_max_range)}      ****************')\n",
    "    print(\"                           ------- Bloc PF/OPF ---------         \")\n",
    "    ##          ---------------------------  BLOCK PF/OPF  ------------------------         ##\n",
    "    # Initialize the parallel engine parameters i.e. send variable into each local space\n",
    "    opf_status = 'Both'\n",
    "    df_prodHT_index = dict_df_sgenLoad['df_prodHT'].index # Extract  index of periods.\n",
    "    \n",
    "    # Send all the created variables into local spaces of each engine.\n",
    "    parEngines.sendVar_to_localSpace(df_prodHT_index, \n",
    "                                     opf_status, \n",
    "                                     dict_df_sgenLoad, \n",
    "                                     parameters_dict, \n",
    "                                     clean=True )\n",
    "    # cALL Block pf/op\n",
    "    ctrld_HvProd_opt = oriPar.par_block_pfOpf(parEngines)    \n",
    "    \n",
    "    # Get maximum voltage over the network \n",
    "    max_vm_pu_df_known = ctrld_HvProd_opt[['max_vm_pu']]\n",
    "    max_vm_pu_df_known.rename(columns={'max_vm_pu':'Fut_Known'}, inplace=True)\n",
    "    max_vm_pu_pf_df = ctrld_HvProd_opt[['max_vm_pu_pf']] \n",
    "    \n",
    "    \n",
    "#  #####   Saving Results  --------------------------------------------------------------------------------------\n",
    "    mask = per_index2[day_tot_per:]\n",
    "    # Rename simulation result according to the simulation number.\n",
    "    ctrld_HvProd_known_df = ctrld_HvProd_opt.loc[mask, [ctrld_HvProd_name]]\n",
    "    ctrld_HvProd_known_df.rename(columns={ctrld_HvProd_name:'Fut_Known Sim'+str(cur_index+1)}, \n",
    "                                 inplace=True)\n",
    "    # Concat\n",
    "    ctrld_HvProd_df = df_final.loc[mask, [ctrld_HvProd_name]]\n",
    "    ctrld_HvProd_concat_df = pd.concat([ctrld_hvProd_max_range[cur_index]*ctrld_HvProd_df/default_ctrld_hvProd_max, \n",
    "                                        ctrld_HvProd_known_df], \n",
    "                                       axis='columns')\n",
    "    # Rename\n",
    "    ctrld_HvProd_concat_df.rename(columns=({ctrld_HvProd_name:'No_Control'}), inplace=True);\n",
    "\n",
    "\n",
    "    int_sim_res = {'maxV_rise_df':max_vm_pu_df_known,            # Intermediate results\n",
    "                   'Power Sgen': ctrld_HvProd_concat_df,\n",
    "                   'maxV_rise_pf_df':max_vm_pu_pf_df}         \n",
    "    sim_res_Dict.update([('Sim'+str(cur_index+1),int_sim_res)])   # Final results\n"
   ]
  },
  {
   "cell_type": "markdown",
   "id": "e77e2a45-1bb9-4143-85c4-41935abb284d",
   "metadata": {},
   "source": [
    "##### Save results of the previous simulation"
   ]
  },
  {
   "cell_type": "code",
   "execution_count": null,
   "id": "f3e64df8-9e97-4f3a-90d4-79699ce8fce1",
   "metadata": {},
   "outputs": [],
   "source": [
    "joblib.dump(sim_res_Dict,f'{simResult_folder}SensAnalysis{ctrld_HvProd_name}_FutureKnown.pkl')"
   ]
  },
  {
   "cell_type": "markdown",
   "id": "41a908e5-7e68-4fd0-bb4a-69343f586da6",
   "metadata": {},
   "source": [
    "---"
   ]
  },
  {
   "cell_type": "markdown",
   "id": "d56e04fa-aa83-4661-a203-7a25d34f3791",
   "metadata": {
    "tags": []
   },
   "source": [
    "#### RNN - Non Robust"
   ]
  },
  {
   "cell_type": "markdown",
   "id": "eb606fe4-dd4c-4174-927a-676c6e06d001",
   "metadata": {},
   "source": [
    "**<span style='color:Orange'>  The results of the RNN simulation using the default networks (Civaux and St Laurent) is availaible in</span>** [SensAnalysisP0100_RNN](../Pickle_files/simulationResults/SensAnalysisP0100_RNN.pkl). "
   ]
  },
  {
   "cell_type": "markdown",
   "id": "d09ec9ce-c34e-4c5d-88a2-e0ebaad4adc6",
   "metadata": {
    "tags": []
   },
   "source": [
    "##### Create a function to rename Columns the RNNprediction dataframe name \n",
    "\n",
    "\n",
    "    Ex: from ==> ['P0013_RNN', 'P0018_RNN', 'P0100_RNN'] ==> to ['P0013', 'P0018', 'P0100']"
   ]
  },
  {
   "cell_type": "code",
   "execution_count": 38,
   "id": "14c9425c-25f9-4cfd-bb9a-30f9dfbd7a99",
   "metadata": {},
   "outputs": [],
   "source": [
    "rename_cols = lambda name_list : [name.split('_R')[0] for name in name_list]"
   ]
  },
  {
   "cell_type": "markdown",
   "id": "36c09d4b-e589-408a-9715-20a98183893d",
   "metadata": {},
   "source": [
    "##### Rename prediction Dataframe"
   ]
  },
  {
   "cell_type": "code",
   "execution_count": 39,
   "id": "722ad554-f18f-41b2-a760-15ad749f6cd9",
   "metadata": {},
   "outputs": [],
   "source": [
    "rnnPred_df.rename(columns={cur_name : new_name \n",
    "                           for cur_name, new_name in zip(rnnPred_df.columns,rename_cols(rnnPred_df)) }, \n",
    "                  inplace=True)"
   ]
  },
  {
   "cell_type": "markdown",
   "id": "72b994f4-b337-4714-a92a-fb0c3c02931b",
   "metadata": {},
   "source": [
    "##### Run Simulations"
   ]
  },
  {
   "cell_type": "code",
   "execution_count": 63,
   "id": "6856b696-b5d1-4a9f-912a-42e854d67d38",
   "metadata": {
    "scrolled": true,
    "tags": []
   },
   "outputs": [
    {
     "name": "stdout",
     "output_type": "stream",
     "text": [
      "***************************       Simulation 2/21      ****************\n",
      "                           ------- Bloc PF/OPF ---------         \n",
      "importing numpy on engine(s)\n",
      "importing pandapower on engine(s)\n",
      "importing pandas on engine(s)\n",
      "importing sys on engine(s)\n",
      "importing oriFunctions on engine(s)\n"
     ]
    },
    {
     "data": {
      "application/vnd.jupyter.widget-view+json": {
       "model_id": "64051bbce525441e8581aad5352f6f03",
       "version_major": 2,
       "version_minor": 0
      },
      "text/plain": [
       "%px:   0%|          | 0/7 [00:00<?, ?tasks/s]"
      ]
     },
     "metadata": {},
     "output_type": "display_data"
    },
    {
     "name": "stdout",
     "output_type": "stream",
     "text": [
      "                          -------   Bloc PF    ---------         \n"
     ]
    },
    {
     "data": {
      "application/vnd.jupyter.widget-view+json": {
       "model_id": "67dc54903be0498a823a94d1a7709c6b",
       "version_major": 2,
       "version_minor": 0
      },
      "text/plain": [
       "%px:   0%|          | 0/7 [00:00<?, ?tasks/s]"
      ]
     },
     "metadata": {},
     "output_type": "display_data"
    }
   ],
   "source": [
    "sim_res_Dict_rnn = {}  # Dictionnary to save variables\n",
    "\n",
    "for cur_index in range(len(ctrld_hvProd_max_range)): \n",
    "\n",
    "    # Define the upsacaled output of the controlled HV prod based on the current index\n",
    "    upscaled_ctrld_hvProd_max = ctrld_hvProd_max_range[cur_index]  \n",
    "\n",
    "    # Initialize variables for parallel engines\n",
    "    dict_df_sgenLoad = oriFc.createDict_prodHtBt_Load(rnnPred_df,\n",
    "                                                      networks, \n",
    "                                                      cur_hvProd_max = upscaled_ctrld_hvProd_max )\n",
    "\n",
    "    print(f'***************************       Simulation {cur_index+1}/{len(ctrld_hvProd_max_range)}      ****************')\n",
    "    print(\"                           ------- Bloc PF/OPF ---------         \")\n",
    "    ##          ---------------------------  BLOCK PF/OPF  ------------------------         ##\n",
    "    # Initialize the parallel engine parameters i.e. send variable into each local space\n",
    "    opf_status = 'Both'\n",
    "    df_prodHT_index = dict_df_sgenLoad['df_prodHT'].index # Extract  index of periods.\n",
    "    \n",
    "    # Send all the created variables into local spaces of each engine.\n",
    "    parEngines.sendVar_to_localSpace(df_prodHT_index, \n",
    "                                     opf_status, \n",
    "                                     dict_df_sgenLoad, \n",
    "                                     parameters_dict, \n",
    "                                     clean=True )\n",
    "    # cALL Block pf/op\n",
    "    ctrld_HvProd_opt = oriPar.par_block_pfOpf(parEngines)    \n",
    "    \n",
    "    ##           ---------------------------  BLOCK PROD  ------------------------         ##\n",
    "    oriFc.block_prod(ctrld_HvProd_opt, \n",
    "                     df_final[[ctrld_HvProd_name]], \n",
    "                     cur_hvProd_max = upscaled_ctrld_hvProd_max )\n",
    "    #------------------------------------------------------------------------------\n",
    "    \n",
    "    # Create mask\n",
    "    mask_per2work = ctrld_HvProd_opt.index[day_tot_per:]\n",
    "\n",
    "    # ------  Update Values of the dataframe to use for final power flow bloc with Interest variables \n",
    "    # (Real load, real Prod of LV Prod, and Non-COntroled HV Prod, Injected power of Ctrl Prod\n",
    "    df_final2 =pd.concat([df_final.loc[mask_per2work].iloc[:,[0,1]],\n",
    "                          df_final.loc[mask_per2work, non_ctrld_HvProd_names_list],\n",
    "                          ctrld_HvProd_opt.loc[mask_per2work, [ctrld_HvProd_name]],\n",
    "                         ], axis='columns')\n",
    "    \n",
    "    checker.check_networkDataDf_columnsOrder(df_final2)    # Check df_final2 columns order\n",
    "    \n",
    "    # Creat dict to send to par Engines based\n",
    "    dict_df_sgenLoad = oriFc.createDict_prodHtBt_Load(df_final2,\n",
    "                                                      networks )\n",
    "    ##             ---------------------------  BLOCK PF  ------------------------         ##\n",
    "    print(\"                          -------   Bloc PF    ---------         \")    \n",
    "    opf_status = False\n",
    "    df_prodHT_index = dict_df_sgenLoad['df_prodHT'].index # Extract  index of periods.\n",
    "    \n",
    "    # Send all the created variables into local spaces of each engine.\n",
    "    parEngines.sendVar_to_localSpace(df_prodHT_index, \n",
    "                                     opf_status, \n",
    "                                     dict_df_sgenLoad, \n",
    "                                     parameters_dict, \n",
    "                                     clean=False )\n",
    "    # cALL Block pf\n",
    "    max_vm_pu_rnn_df = oriPar.par_block_pfOpf(parEngines) \n",
    "\n",
    "#  #####   Saving Results  --------------------------------------------------------------------------------------\n",
    "    ctrld_HvProd_df = df_final.loc[df_final2.index, [ctrld_HvProd_name]]\n",
    "    \n",
    "    ctrld_HvProd_rnn_df = ctrld_HvProd_opt.loc[mask_per2work, [ctrld_HvProd_name]]\n",
    "    ctrld_HvProd_rnn_df.rename(columns={ctrld_HvProd_name:'RNN Sim'+str(cur_index+1)}, \n",
    "                                 inplace=True)\n",
    "    # Concat\n",
    "    ctrld_HvProd_concat_df = pd.concat([ctrld_hvProd_max_range[cur_index]*ctrld_HvProd_df/default_ctrld_hvProd_max,\n",
    "                                        ctrld_HvProd_rnn_df],\n",
    "                                       axis='columns')\n",
    "    # Rename\n",
    "    ctrld_HvProd_concat_df.rename(columns=({ctrld_HvProd_name:'No_Control'}), inplace=True);\n",
    "\n",
    "    int_sim_res = {'maxV_rise_df':max_vm_pu_rnn_df,            # Intermediate results\n",
    "                   'Power Sgen': ctrld_HvProd_concat_df}         \n",
    "    sim_res_Dict.update([('Sim'+str(cur_index+1),int_sim_res)])# Final results\n"
   ]
  },
  {
   "cell_type": "markdown",
   "id": "ea5791ec-154f-47f5-97a6-9ccce0de0279",
   "metadata": {},
   "source": [
    "##### Save results of the previous simulation"
   ]
  },
  {
   "cell_type": "code",
   "execution_count": null,
   "id": "3c7ec021-ab28-4fff-9745-5301e4c2ffc2",
   "metadata": {},
   "outputs": [],
   "source": [
    "joblib.dump(sim_res_Dict,f'{simResult_folder}SensAnalysis{ctrld_HvProd_name}_RNN.pkl')"
   ]
  },
  {
   "cell_type": "markdown",
   "id": "79682259-de23-4a95-9acb-1162ba5ca58d",
   "metadata": {
    "tags": []
   },
   "source": [
    "#### ROBUST Combined RNN "
   ]
  },
  {
   "cell_type": "markdown",
   "id": "db426644-d649-4482-a4db-139ade89b038",
   "metadata": {},
   "source": [
    "**<span style='color:Orange'>  The results of the robust RNN simulation using the default networks (Civaux and St Laurent) are availaible for </span> [P0100_RNN_Robust_Model1](../Pickle_files/simulationResults/SensAnalysisP0100_RNN_Robust_Model1.pkl) <span style='color:orange'> and  </span> [P0100_RNN_Robust_Model3](../Pickle_files/simulationResults/SensAnalysisP0100_RNN_Robust_Model3.pkl)** "
   ]
  },
  {
   "cell_type": "markdown",
   "id": "81e476bf-384b-490d-962f-57793c161f27",
   "metadata": {},
   "source": [
    "##### Load predicted variables based on both models"
   ]
  },
  {
   "cell_type": "code",
   "execution_count": 65,
   "id": "4b8e7e86-6f10-4141-a19b-59a317119bdc",
   "metadata": {},
   "outputs": [],
   "source": [
    "pred_num_vRise = joblib.load(f'{simResult_folder}Numerical_Voltage_Rise_Predicted.pkl')\n",
    "pred_bin_vRise = joblib.load(f'{simResult_folder}Binary_Voltage_Rise_Predicted.pkl')\n",
    "\n",
    "mask_per2work = pred_bin_vRise[pred_bin_vRise.index>=valSet_start_M1].index # We select valSet_start_M2 + 1 day  of testing set "
   ]
  },
  {
   "cell_type": "markdown",
   "id": "6b7f3247-29df-469b-a959-e96e05e1daf7",
   "metadata": {},
   "source": [
    "##### Define the Model to use for the combined Robust Prediction\n",
    "The user might choose here, the combination of models to use. We have worked with `\"Model1\"` and `\"Model3\"`. See the Documentation of [`oriFunctions.combineRnnPred()`](https://ori-srd.readthedocs.io/en/stable/orifunctions/descriptionOfFunctions.html#combinernnpred) for the possible choices."
   ]
  },
  {
   "cell_type": "code",
   "execution_count": 67,
   "id": "3d62c5b9-8f8f-4478-bff9-acd3fbc5dfae",
   "metadata": {},
   "outputs": [],
   "source": [
    "paramUser = 'Model3' # Choose model to use for combined Prediction"
   ]
  },
  {
   "cell_type": "markdown",
   "id": "b536ba1a-f4af-4b09-9864-b0310cdc23ca",
   "metadata": {},
   "source": [
    "##### Run Simulations"
   ]
  },
  {
   "cell_type": "code",
   "execution_count": 69,
   "id": "f45d2594-731a-475d-b13e-c8bdd20bc1ec",
   "metadata": {
    "scrolled": true,
    "tags": []
   },
   "outputs": [
    {
     "name": "stdout",
     "output_type": "stream",
     "text": [
      "***************************       Simulation 2/21      ****************\n",
      "                           ------- Bloc PF/OPF ---------         \n",
      "importing numpy on engine(s)\n",
      "importing pandapower on engine(s)\n",
      "importing pandas on engine(s)\n",
      "importing sys on engine(s)\n",
      "importing oriFunctions on engine(s)\n"
     ]
    },
    {
     "data": {
      "application/vnd.jupyter.widget-view+json": {
       "model_id": "636ad9de5fd141f3989201a8aba2f5cc",
       "version_major": 2,
       "version_minor": 0
      },
      "text/plain": [
       "%px:   0%|          | 0/7 [00:00<?, ?tasks/s]"
      ]
     },
     "metadata": {},
     "output_type": "display_data"
    },
    {
     "name": "stdout",
     "output_type": "stream",
     "text": [
      "                            ------- Bloc PF/OPF ---------         \n"
     ]
    },
    {
     "data": {
      "application/vnd.jupyter.widget-view+json": {
       "model_id": "ab4a1db3d33249248680dd028c15254c",
       "version_major": 2,
       "version_minor": 0
      },
      "text/plain": [
       "%px:   0%|          | 0/7 [00:00<?, ?tasks/s]"
      ]
     },
     "metadata": {},
     "output_type": "display_data"
    }
   ],
   "source": [
    "sim_res_Dict_rnn_rob = {}  # Dictionnary to save variables\n",
    "\n",
    "# for cur_index in range(len(ctrld_hvProd_max_range)): \n",
    "for cur_index in [1]:\n",
    "\n",
    "    # Define the upsacaled output of the controlled HV prod based on the current index\n",
    "    upscaled_ctrld_hvProd_max = ctrld_hvProd_max_range[cur_index]  \n",
    "\n",
    "    # Initialize variables for parallel engines\n",
    "    dict_df_sgenLoad = oriFc.createDict_prodHtBt_Load(rnnPred_df,\n",
    "                                                      networks, \n",
    "                                                      cur_hvProd_max = upscaled_ctrld_hvProd_max )\n",
    "\n",
    "    print(f'***************************       Simulation {cur_index+1}/{len(ctrld_hvProd_max_range)}      ****************')\n",
    "    print(\"                           ------- Bloc PF/OPF ---------         \")\n",
    "    ##          ---------------------------  BLOCK PF/OPF  ------------------------         ##\n",
    "    # Initialize the parallel engine parameters i.e. send variable into each local space\n",
    "    opf_status = 'Both'\n",
    "    df_prodHT_index = dict_df_sgenLoad['df_prodHT'].index # Extract  index of periods.\n",
    "    \n",
    "    # Send all the created variables into local spaces of each engine.\n",
    "    parEngines.sendVar_to_localSpace(df_prodHT_index, \n",
    "                                     opf_status, \n",
    "                                     dict_df_sgenLoad, \n",
    "                                     parameters_dict, \n",
    "                                     clean=True )\n",
    "    # cALL Block pf/op\n",
    "    model1_pred_res = oriPar.par_block_pfOpf(parEngines)   \n",
    "    \n",
    "    ##  Associate each model to its data\n",
    "    model1_Vrise, model2_Vrise, model3_Vrise = (model1_pred_res.loc[mask_per2work, ['max_vm_pu_pf']],  \n",
    "                                                pred_bin_vRise.loc[mask_per2work], \n",
    "                                                pred_num_vRise.loc[mask_per2work])\n",
    "    \n",
    "    # create a dictionnary to save modelVrise\n",
    "    v_rise_dict = {name: model for name, model in zip(['Model'+str(i) for i in range(1,4)],\n",
    "                                                      [model1_Vrise, model2_Vrise, model3_Vrise] ) }\n",
    "    \n",
    "    # Extract P0100 based on robust prediction of threshold\n",
    "    ctrld_HvProd_opt, binThresh_df = oriFc.combineRnnPred(v_rise_dict, \n",
    "                                                          model1_pred_res[[ctrld_HvProd_name]], \n",
    "                                                          auth_max_VriseHvBus=vm_mu_max,\n",
    "                                                          n_models=paramUser)\n",
    "    # Implement robustness -------------------------------------\n",
    "    oriFc.robustness(ctrld_HvProd_opt, \n",
    "                     df_final[[ctrld_HvProd_name]], \n",
    "                     cur_hvProd_max = upscaled_ctrld_hvProd_max,\n",
    "                     combRnn_param = (binThresh_df,paramUser)\n",
    "                    )\n",
    "    ##             ---------------------------  BLOCK PROD  ------------------------         ##\n",
    "    oriFc.block_prod(ctrld_HvProd_opt, \n",
    "                     df_final[[ctrld_HvProd_name]], \n",
    "                     cur_hvProd_max = upscaled_ctrld_hvProd_max )\n",
    "    #-------------------------------------------------------------------------------------------\n",
    "    \n",
    "    # ------  Update Values of the dataframe to use for final power flow bloc with Interest variables \n",
    "    # (Real load, real Prod of LV Prod, and Non-COntroled HV Prod, Injected power of Ctrl Prod\n",
    "    df_final2 =pd.concat([df_final.loc[mask_per2work].iloc[:,[0,1]],\n",
    "                          df_final.loc[mask_per2work, non_ctrld_HvProd_names_list],\n",
    "                          ctrld_HvProd_opt.loc[mask_per2work, [ctrld_HvProd_name]],\n",
    "                         ], axis='columns')\n",
    "    \n",
    "    # Check df_final2 columns order\n",
    "    checker.check_networkDataDf_columnsOrder(df_final2)    \n",
    "    \n",
    "    # Creat dict to send to par Engines based\n",
    "    dict_df_sgenLoad = oriFc.createDict_prodHtBt_Load(df_final2, networks )\n",
    "    \n",
    "    #             ---------------------------  BLOCK PF  ------------------------         ##\n",
    "    print(\"                            ------- Bloc PF/OPF ---------         \")\n",
    "    opf_status = False\n",
    "    df_prodHT_index = dict_df_sgenLoad['df_prodHT'].index # Extract  index of periods.\n",
    "    \n",
    "    # Send all the created variables into local spaces of each engine.\n",
    "    parEngines.sendVar_to_localSpace(df_prodHT_index, \n",
    "                                     opf_status, \n",
    "                                     dict_df_sgenLoad, \n",
    "                                     parameters_dict, \n",
    "                                     clean=False )\n",
    "    # cALL Block pf\n",
    "    max_vm_pu_rnn_df = oriPar.par_block_pfOpf(parEngines)  \n",
    "\n",
    "    #####   Saving Results ----------------------------------------------------------------------\n",
    "    ctrld_HvProd_df = df_final.loc[df_final2.index, [ctrld_HvProd_name]]\n",
    "    ctrld_HvProd_rnn_df = ctrld_HvProd_opt.loc[mask_per2work, [ctrld_HvProd_name]]\n",
    "    ctrld_HvProd_rnn_df.rename(columns={ctrld_HvProd_name:'RNN Sim'+str(cur_index+1)}, \n",
    "                               inplace=True)\n",
    "   # Concat\n",
    "    ctrld_HvProd_concat_df = pd.concat([ctrld_hvProd_max_range[cur_index]*ctrld_HvProd_df/default_ctrld_hvProd_max,\n",
    "                                        ctrld_HvProd_rnn_df], \n",
    "                                       axis='columns')\n",
    "    # Rename\n",
    "    ctrld_HvProd_concat_df.rename(columns=({ctrld_HvProd_name:'No_Control'}), inplace=True);\n",
    "\n",
    "\n",
    "    int_sim_res = {'maxV_rise_df':max_vm_pu_rnn_df,              # Intermediate results\n",
    "                   'Power Sgen': ctrld_HvProd_concat_df}         \n",
    "    sim_res_Dict_rnn_rob.update([('Sim'+str(cur_index+1),int_sim_res)])   # Final results\n"
   ]
  },
  {
   "cell_type": "markdown",
   "id": "40bc0957-fc31-49a6-ae75-8d2371e39a05",
   "metadata": {},
   "source": [
    "##### Save results of the previous simulation"
   ]
  },
  {
   "cell_type": "code",
   "execution_count": null,
   "id": "a47a3c57-7af0-420d-bc03-6a2966884c4c",
   "metadata": {},
   "outputs": [],
   "source": [
    "joblib.dump(sim_res_Dict_rnn_rob,f'{simResult_folder}SensAnalysis{ctrld_HvProd_name}_RNN_Robust_{paramUser}.pkl')"
   ]
  }
 ],
 "metadata": {
  "kernelspec": {
   "display_name": "Python 3 (ipykernel)",
   "language": "python",
   "name": "python3"
  },
  "language_info": {
   "codemirror_mode": {
    "name": "ipython",
    "version": 3
   },
   "file_extension": ".py",
   "mimetype": "text/x-python",
   "name": "python",
   "nbconvert_exporter": "python",
   "pygments_lexer": "ipython3",
   "version": "3.7.15"
  },
  "widgets": {
   "application/vnd.jupyter.widget-state+json": {
    "state": {
     "004b41881f2d40a68de42d74a19f8001": {
      "model_module": "@jupyter-widgets/controls",
      "model_module_version": "2.0.0",
      "model_name": "HTMLStyleModel",
      "state": {
       "description_width": "",
       "font_size": null,
       "text_color": null
      }
     },
     "00c3a15666c3469390ff0acc475e8e59": {
      "model_module": "@jupyter-widgets/controls",
      "model_module_version": "2.0.0",
      "model_name": "HTMLModel",
      "state": {
       "layout": "IPY_MODEL_93ce557dfdd4424db5cd9adddef893f7",
       "style": "IPY_MODEL_98f033fe78cf4e19b62f603386129645",
       "value": " 7/7 [01:44&lt;00:00,  3.91tasks/s]"
      }
     },
     "028a27507a324a12a7524dbd9b3d4976": {
      "model_module": "@jupyter-widgets/controls",
      "model_module_version": "2.0.0",
      "model_name": "HTMLStyleModel",
      "state": {
       "description_width": "",
       "font_size": null,
       "text_color": null
      }
     },
     "071bca19d10942c6ac4f1cfe44fe0015": {
      "model_module": "@jupyter-widgets/controls",
      "model_module_version": "2.0.0",
      "model_name": "ProgressStyleModel",
      "state": {
       "description_width": ""
      }
     },
     "0941023f00394ced96636a6fd3b71e17": {
      "model_module": "@jupyter-widgets/base",
      "model_module_version": "2.0.0",
      "model_name": "LayoutModel",
      "state": {}
     },
     "096f64129d2347ad8a7240a01c9bdeb0": {
      "model_module": "@jupyter-widgets/controls",
      "model_module_version": "2.0.0",
      "model_name": "HTMLStyleModel",
      "state": {
       "description_width": "",
       "font_size": null,
       "text_color": null
      }
     },
     "0a33a9a50354434ea65d589d1212f823": {
      "model_module": "@jupyter-widgets/base",
      "model_module_version": "2.0.0",
      "model_name": "LayoutModel",
      "state": {}
     },
     "0cb467aea3e54a5ab20ca231b0b253dd": {
      "model_module": "@jupyter-widgets/controls",
      "model_module_version": "2.0.0",
      "model_name": "ProgressStyleModel",
      "state": {
       "description_width": ""
      }
     },
     "0e9c167b3a284fffa2b95d96dfdcd8a4": {
      "model_module": "@jupyter-widgets/base",
      "model_module_version": "2.0.0",
      "model_name": "LayoutModel",
      "state": {}
     },
     "0fa4cacb57974785b75dda8a57e2b1a5": {
      "model_module": "@jupyter-widgets/controls",
      "model_module_version": "2.0.0",
      "model_name": "ProgressStyleModel",
      "state": {
       "description_width": ""
      }
     },
     "1078359dc2bf40259e3d5494a7aa9e9d": {
      "model_module": "@jupyter-widgets/base",
      "model_module_version": "2.0.0",
      "model_name": "LayoutModel",
      "state": {}
     },
     "10aa2da3d5154392894adccf0df8ff88": {
      "model_module": "@jupyter-widgets/controls",
      "model_module_version": "2.0.0",
      "model_name": "HTMLStyleModel",
      "state": {
       "description_width": "",
       "font_size": null,
       "text_color": null
      }
     },
     "1349eb1afe8a4a20b8c27df585c0488b": {
      "model_module": "@jupyter-widgets/base",
      "model_module_version": "2.0.0",
      "model_name": "LayoutModel",
      "state": {}
     },
     "13f093dc1a49498da7c652a28df0e48c": {
      "model_module": "@jupyter-widgets/controls",
      "model_module_version": "2.0.0",
      "model_name": "HBoxModel",
      "state": {
       "children": [
        "IPY_MODEL_c85b770757344e7092cdd80165bc9e25",
        "IPY_MODEL_b437ddd48f304e658ebf981d9b8508ee",
        "IPY_MODEL_3b2810fd870740d297348f5a198da641"
       ],
       "layout": "IPY_MODEL_8a7c6b0b6aeb4d8fb21170adcb1be52e"
      }
     },
     "15c8ecbc1a59487b9c44fe8d4ea17a30": {
      "model_module": "@jupyter-widgets/base",
      "model_module_version": "2.0.0",
      "model_name": "LayoutModel",
      "state": {}
     },
     "1726a35dc38a4b7b8543db13ed2b6b5c": {
      "model_module": "@jupyter-widgets/base",
      "model_module_version": "2.0.0",
      "model_name": "LayoutModel",
      "state": {}
     },
     "18ff53b11a534dccb89c58de5c43139f": {
      "model_module": "@jupyter-widgets/controls",
      "model_module_version": "2.0.0",
      "model_name": "ProgressStyleModel",
      "state": {
       "description_width": ""
      }
     },
     "1c21380ed0b349b3b8380473c02da9d9": {
      "model_module": "@jupyter-widgets/base",
      "model_module_version": "2.0.0",
      "model_name": "LayoutModel",
      "state": {}
     },
     "1eddb2877e234e8c94eee1d9d47544d5": {
      "model_module": "@jupyter-widgets/controls",
      "model_module_version": "2.0.0",
      "model_name": "HTMLModel",
      "state": {
       "layout": "IPY_MODEL_8937ccf964604302ac5581b7e4002c03",
       "style": "IPY_MODEL_fac54a68799944108569343d70ca566b",
       "value": " 7/7 [01:59&lt;00:00,  5.59tasks/s]"
      }
     },
     "1eee4cd079eb420294b9e8e4be6c6f74": {
      "model_module": "@jupyter-widgets/controls",
      "model_module_version": "2.0.0",
      "model_name": "FloatProgressModel",
      "state": {
       "bar_style": "success",
       "layout": "IPY_MODEL_33b83435f7c74cb89b7cfd49e4191545",
       "max": 7,
       "style": "IPY_MODEL_27ed707ff79e41b08470b0f6d7142db2",
       "value": 7
      }
     },
     "1efb6061d0284be384446a91d35ef1fb": {
      "model_module": "@jupyter-widgets/base",
      "model_module_version": "2.0.0",
      "model_name": "LayoutModel",
      "state": {}
     },
     "20e0c1866fb147eeaa47f897bc130b2d": {
      "model_module": "@jupyter-widgets/base",
      "model_module_version": "2.0.0",
      "model_name": "LayoutModel",
      "state": {}
     },
     "27ed707ff79e41b08470b0f6d7142db2": {
      "model_module": "@jupyter-widgets/controls",
      "model_module_version": "2.0.0",
      "model_name": "ProgressStyleModel",
      "state": {
       "description_width": ""
      }
     },
     "2d8ceb19a7954f519ed7810a8187615b": {
      "model_module": "@jupyter-widgets/base",
      "model_module_version": "2.0.0",
      "model_name": "LayoutModel",
      "state": {}
     },
     "33b83435f7c74cb89b7cfd49e4191545": {
      "model_module": "@jupyter-widgets/base",
      "model_module_version": "2.0.0",
      "model_name": "LayoutModel",
      "state": {}
     },
     "35fc65a43b034074a8b4d1656b0c9384": {
      "model_module": "@jupyter-widgets/controls",
      "model_module_version": "2.0.0",
      "model_name": "HBoxModel",
      "state": {
       "children": [
        "IPY_MODEL_8fed8a1e6dca447690b949f2ef5af86b",
        "IPY_MODEL_9ff3e6c2a4e5490687b6093a04f829d6",
        "IPY_MODEL_1eddb2877e234e8c94eee1d9d47544d5"
       ],
       "layout": "IPY_MODEL_c84c97374998448e979017919b1e4669"
      }
     },
     "370e83d22c7a436a8adc01cb22da1e9f": {
      "model_module": "@jupyter-widgets/controls",
      "model_module_version": "2.0.0",
      "model_name": "HBoxModel",
      "state": {
       "children": [
        "IPY_MODEL_8fb7b476f82e45bd8a02af0195581147",
        "IPY_MODEL_52207be8122a4bdfa698386563c4132d",
        "IPY_MODEL_9b6900bb39b04b9c91fb027fbec2796d"
       ],
       "layout": "IPY_MODEL_87b76037f61f498d92348bf344d9f8ca"
      }
     },
     "37f2c82c601d44f785f632a7eaa85a86": {
      "model_module": "@jupyter-widgets/controls",
      "model_module_version": "2.0.0",
      "model_name": "FloatProgressModel",
      "state": {
       "bar_style": "success",
       "layout": "IPY_MODEL_c2bce669468a431a8df8a5e2103a5a3f",
       "max": 7,
       "style": "IPY_MODEL_18ff53b11a534dccb89c58de5c43139f",
       "value": 7
      }
     },
     "3b2810fd870740d297348f5a198da641": {
      "model_module": "@jupyter-widgets/controls",
      "model_module_version": "2.0.0",
      "model_name": "HTMLModel",
      "state": {
       "layout": "IPY_MODEL_e741868d00bb45cbacbeffe9e17f4b06",
       "style": "IPY_MODEL_004b41881f2d40a68de42d74a19f8001",
       "value": " 7/7 [02:13&lt;00:00,  8.50tasks/s]"
      }
     },
     "3c19ef3b53054a3796b189da5198656b": {
      "model_module": "@jupyter-widgets/base",
      "model_module_version": "2.0.0",
      "model_name": "LayoutModel",
      "state": {}
     },
     "40169c9bf2dd4b9aab6b20931ad49bb6": {
      "model_module": "@jupyter-widgets/controls",
      "model_module_version": "2.0.0",
      "model_name": "HTMLStyleModel",
      "state": {
       "description_width": "",
       "font_size": null,
       "text_color": null
      }
     },
     "407fa463f0b345f69cdbf59197a32ff0": {
      "model_module": "@jupyter-widgets/controls",
      "model_module_version": "2.0.0",
      "model_name": "HTMLModel",
      "state": {
       "layout": "IPY_MODEL_5766b255477a483f9c0d77f181e53ba9",
       "style": "IPY_MODEL_f33cef5e65c4470abc9ff97d99bf38a6",
       "value": " 7/7 [01:55&lt;00:00,  7.68tasks/s]"
      }
     },
     "409af39f41a042f493c81e5918e748f5": {
      "model_module": "@jupyter-widgets/base",
      "model_module_version": "2.0.0",
      "model_name": "LayoutModel",
      "state": {}
     },
     "4165285da6a14c0c8b35b8e74812bd41": {
      "model_module": "@jupyter-widgets/base",
      "model_module_version": "2.0.0",
      "model_name": "LayoutModel",
      "state": {}
     },
     "46273e26a0b94218a2e0b477cede54d5": {
      "model_module": "@jupyter-widgets/base",
      "model_module_version": "2.0.0",
      "model_name": "LayoutModel",
      "state": {}
     },
     "49fe83932278483596cece8b0ff06f71": {
      "model_module": "@jupyter-widgets/base",
      "model_module_version": "2.0.0",
      "model_name": "LayoutModel",
      "state": {}
     },
     "4c0b1939321c4012af5ea56ac804eeb6": {
      "model_module": "@jupyter-widgets/controls",
      "model_module_version": "2.0.0",
      "model_name": "HBoxModel",
      "state": {
       "children": [
        "IPY_MODEL_71e8a22d4ded414abde397246514b9a2",
        "IPY_MODEL_ff23ee357ae640fe81e15c1841c66e43",
        "IPY_MODEL_feedded103c542399e17d7e926d9be11"
       ],
       "layout": "IPY_MODEL_72f72812d40448a994f025fed203e5db"
      }
     },
     "4db22b555b1345caaf2170ed515ff08f": {
      "model_module": "@jupyter-widgets/controls",
      "model_module_version": "2.0.0",
      "model_name": "HTMLStyleModel",
      "state": {
       "description_width": "",
       "font_size": null,
       "text_color": null
      }
     },
     "4dea7279d91d4f88b47088f811302fd3": {
      "model_module": "@jupyter-widgets/controls",
      "model_module_version": "2.0.0",
      "model_name": "HTMLModel",
      "state": {
       "layout": "IPY_MODEL_5b0396e1ecd443dcb0e0027af2efe47d",
       "style": "IPY_MODEL_67a626558d4845b2b694b32fd27209a9",
       "value": " 7/7 [00:06&lt;00:00,  6.33s/engine]"
      }
     },
     "4ea53659f4574707809d870d0860621a": {
      "model_module": "@jupyter-widgets/controls",
      "model_module_version": "2.0.0",
      "model_name": "HTMLStyleModel",
      "state": {
       "description_width": "",
       "font_size": null,
       "text_color": null
      }
     },
     "501df8dec663423a821b920edfe2f394": {
      "model_module": "@jupyter-widgets/base",
      "model_module_version": "2.0.0",
      "model_name": "LayoutModel",
      "state": {}
     },
     "50367623c3ad4a01b9263ece66524a67": {
      "model_module": "@jupyter-widgets/base",
      "model_module_version": "2.0.0",
      "model_name": "LayoutModel",
      "state": {}
     },
     "52207be8122a4bdfa698386563c4132d": {
      "model_module": "@jupyter-widgets/controls",
      "model_module_version": "2.0.0",
      "model_name": "FloatProgressModel",
      "state": {
       "bar_style": "success",
       "layout": "IPY_MODEL_b81a66dc785f4cc4b44dfb86946b6d22",
       "max": 7,
       "style": "IPY_MODEL_ee0771f10301475a8964aefd4cdf4822",
       "value": 7
      }
     },
     "54b8184ab438499c9b273fb970f23a23": {
      "model_module": "@jupyter-widgets/controls",
      "model_module_version": "2.0.0",
      "model_name": "HTMLStyleModel",
      "state": {
       "description_width": "",
       "font_size": null,
       "text_color": null
      }
     },
     "55e85a6d4fab4d8495f1e9e751f75a00": {
      "model_module": "@jupyter-widgets/base",
      "model_module_version": "2.0.0",
      "model_name": "LayoutModel",
      "state": {}
     },
     "5766b255477a483f9c0d77f181e53ba9": {
      "model_module": "@jupyter-widgets/base",
      "model_module_version": "2.0.0",
      "model_name": "LayoutModel",
      "state": {}
     },
     "5a066e202d9e4b6ca83c22a54dcff936": {
      "model_module": "@jupyter-widgets/controls",
      "model_module_version": "2.0.0",
      "model_name": "HBoxModel",
      "state": {
       "children": [
        "IPY_MODEL_df16d688b22449609a3662cee1fb9a89",
        "IPY_MODEL_82351e95344c4dc3962dd230a969b056",
        "IPY_MODEL_5fa64b0f88fb42a5bc806e989865bcf9"
       ],
       "layout": "IPY_MODEL_1726a35dc38a4b7b8543db13ed2b6b5c"
      }
     },
     "5b0396e1ecd443dcb0e0027af2efe47d": {
      "model_module": "@jupyter-widgets/base",
      "model_module_version": "2.0.0",
      "model_name": "LayoutModel",
      "state": {}
     },
     "5e325724f86a49768bf362b85a6ac6b1": {
      "model_module": "@jupyter-widgets/base",
      "model_module_version": "2.0.0",
      "model_name": "LayoutModel",
      "state": {}
     },
     "5fa64b0f88fb42a5bc806e989865bcf9": {
      "model_module": "@jupyter-widgets/controls",
      "model_module_version": "2.0.0",
      "model_name": "HTMLModel",
      "state": {
       "layout": "IPY_MODEL_20e0c1866fb147eeaa47f897bc130b2d",
       "style": "IPY_MODEL_028a27507a324a12a7524dbd9b3d4976",
       "value": " 7/7 [02:09&lt;00:00,  8.77tasks/s]"
      }
     },
     "61422eb9082f486a999f261b7b653633": {
      "model_module": "@jupyter-widgets/base",
      "model_module_version": "2.0.0",
      "model_name": "LayoutModel",
      "state": {}
     },
     "6300b8e45d7a4d9aaa769b6a8aa78930": {
      "model_module": "@jupyter-widgets/controls",
      "model_module_version": "2.0.0",
      "model_name": "HTMLStyleModel",
      "state": {
       "description_width": "",
       "font_size": null,
       "text_color": null
      }
     },
     "636ad9de5fd141f3989201a8aba2f5cc": {
      "model_module": "@jupyter-widgets/controls",
      "model_module_version": "2.0.0",
      "model_name": "HBoxModel",
      "state": {
       "children": [
        "IPY_MODEL_cadf482e94874177968afc8d2d7e9771",
        "IPY_MODEL_c7db6485cc5d4a77b6bedb4e23b0444c",
        "IPY_MODEL_7578f97387f549fa8c94b570c896aea0"
       ],
       "layout": "IPY_MODEL_0a33a9a50354434ea65d589d1212f823"
      }
     },
     "63f051a153cb4eeb8152f6260a3dbbb8": {
      "model_module": "@jupyter-widgets/controls",
      "model_module_version": "2.0.0",
      "model_name": "ProgressStyleModel",
      "state": {
       "description_width": ""
      }
     },
     "64051bbce525441e8581aad5352f6f03": {
      "model_module": "@jupyter-widgets/controls",
      "model_module_version": "2.0.0",
      "model_name": "HBoxModel",
      "state": {
       "children": [
        "IPY_MODEL_abebcfa9e37d4036b73249995e7afe09",
        "IPY_MODEL_c0013ca708e448aeaa2c9cffe729e73d",
        "IPY_MODEL_fbc48844403c47e38ab49635a9132daf"
       ],
       "layout": "IPY_MODEL_1078359dc2bf40259e3d5494a7aa9e9d"
      }
     },
     "6540b36df3ac4c5abb137c8b5d7b4beb": {
      "model_module": "@jupyter-widgets/controls",
      "model_module_version": "2.0.0",
      "model_name": "HBoxModel",
      "state": {
       "children": [
        "IPY_MODEL_7528dc19828749f5a2738ec5b339fd15",
        "IPY_MODEL_d650830da96449f1af2ac6e39551f14f",
        "IPY_MODEL_4dea7279d91d4f88b47088f811302fd3"
       ],
       "layout": "IPY_MODEL_1349eb1afe8a4a20b8c27df585c0488b"
      }
     },
     "67a626558d4845b2b694b32fd27209a9": {
      "model_module": "@jupyter-widgets/controls",
      "model_module_version": "2.0.0",
      "model_name": "HTMLStyleModel",
      "state": {
       "description_width": "",
       "font_size": null,
       "text_color": null
      }
     },
     "67c282d7ee1d493ba819caf1c4444ce7": {
      "model_module": "@jupyter-widgets/base",
      "model_module_version": "2.0.0",
      "model_name": "LayoutModel",
      "state": {}
     },
     "67dc54903be0498a823a94d1a7709c6b": {
      "model_module": "@jupyter-widgets/controls",
      "model_module_version": "2.0.0",
      "model_name": "HBoxModel",
      "state": {
       "children": [
        "IPY_MODEL_d8e71f450fde42eaa80a8528e874a7d3",
        "IPY_MODEL_37f2c82c601d44f785f632a7eaa85a86",
        "IPY_MODEL_407fa463f0b345f69cdbf59197a32ff0"
       ],
       "layout": "IPY_MODEL_e0f72d2bd63f4e12aaf6b4d5876e3303"
      }
     },
     "6b70fc668e99499abbfd1c95f6c31280": {
      "model_module": "@jupyter-widgets/controls",
      "model_module_version": "2.0.0",
      "model_name": "HTMLModel",
      "state": {
       "layout": "IPY_MODEL_2d8ceb19a7954f519ed7810a8187615b",
       "style": "IPY_MODEL_b58b877bd25f475b960ec9fe260ba09c",
       "value": " 7/7 [01:58&lt;00:00,  2.82tasks/s]"
      }
     },
     "6ebfc189abed4046ab50bdcc84f133e7": {
      "model_module": "@jupyter-widgets/base",
      "model_module_version": "2.0.0",
      "model_name": "LayoutModel",
      "state": {}
     },
     "71326ceb80a04938b277630982c95e97": {
      "model_module": "@jupyter-widgets/controls",
      "model_module_version": "2.0.0",
      "model_name": "HTMLModel",
      "state": {
       "layout": "IPY_MODEL_ae94b13693604293ab5bf91b016d90b6",
       "style": "IPY_MODEL_9e90596430754670adf48aa8b6fdcbf7",
       "value": "%px: 100%"
      }
     },
     "715740be8a5a472f98dc02173329f17f": {
      "model_module": "@jupyter-widgets/controls",
      "model_module_version": "2.0.0",
      "model_name": "HTMLStyleModel",
      "state": {
       "description_width": "",
       "font_size": null,
       "text_color": null
      }
     },
     "71e8a22d4ded414abde397246514b9a2": {
      "model_module": "@jupyter-widgets/controls",
      "model_module_version": "2.0.0",
      "model_name": "HTMLModel",
      "state": {
       "layout": "IPY_MODEL_49fe83932278483596cece8b0ff06f71",
       "style": "IPY_MODEL_096f64129d2347ad8a7240a01c9bdeb0",
       "value": "%px: 100%"
      }
     },
     "72f72812d40448a994f025fed203e5db": {
      "model_module": "@jupyter-widgets/base",
      "model_module_version": "2.0.0",
      "model_name": "LayoutModel",
      "state": {}
     },
     "742b3a66f48b447783540940fd24833f": {
      "model_module": "@jupyter-widgets/controls",
      "model_module_version": "2.0.0",
      "model_name": "ProgressStyleModel",
      "state": {
       "description_width": ""
      }
     },
     "746163f63bd54d30adc7f541546b9c9e": {
      "model_module": "@jupyter-widgets/controls",
      "model_module_version": "2.0.0",
      "model_name": "HTMLModel",
      "state": {
       "layout": "IPY_MODEL_409af39f41a042f493c81e5918e748f5",
       "style": "IPY_MODEL_e8f559d629e249a78a7797013201d5b0",
       "value": "%px: 100%"
      }
     },
     "7528dc19828749f5a2738ec5b339fd15": {
      "model_module": "@jupyter-widgets/controls",
      "model_module_version": "2.0.0",
      "model_name": "HTMLModel",
      "state": {
       "layout": "IPY_MODEL_0e9c167b3a284fffa2b95d96dfdcd8a4",
       "style": "IPY_MODEL_b13d520ba0d1498b9b4929f32b2a5408",
       "value": "100%"
      }
     },
     "7578f97387f549fa8c94b570c896aea0": {
      "model_module": "@jupyter-widgets/controls",
      "model_module_version": "2.0.0",
      "model_name": "HTMLModel",
      "state": {
       "layout": "IPY_MODEL_0941023f00394ced96636a6fd3b71e17",
       "style": "IPY_MODEL_4ea53659f4574707809d870d0860621a",
       "value": " 7/7 [01:51&lt;00:00,  3.29tasks/s]"
      }
     },
     "7b18a6f525d045c795ecca58b025a2f8": {
      "model_module": "@jupyter-widgets/base",
      "model_module_version": "2.0.0",
      "model_name": "LayoutModel",
      "state": {}
     },
     "7d54b3b0cd72440587511d924c97830e": {
      "model_module": "@jupyter-widgets/base",
      "model_module_version": "2.0.0",
      "model_name": "LayoutModel",
      "state": {}
     },
     "800b172d89404f75b44bc9e1fe070af8": {
      "model_module": "@jupyter-widgets/controls",
      "model_module_version": "2.0.0",
      "model_name": "HBoxModel",
      "state": {
       "children": [
        "IPY_MODEL_71326ceb80a04938b277630982c95e97",
        "IPY_MODEL_e1a3ad14d0f94701b4e4800b8ee782d1",
        "IPY_MODEL_880e50383bea42249d23986ea743fc67"
       ],
       "layout": "IPY_MODEL_ed45582a99414133a341214cae239de1"
      }
     },
     "82351e95344c4dc3962dd230a969b056": {
      "model_module": "@jupyter-widgets/controls",
      "model_module_version": "2.0.0",
      "model_name": "FloatProgressModel",
      "state": {
       "bar_style": "success",
       "layout": "IPY_MODEL_5e325724f86a49768bf362b85a6ac6b1",
       "max": 7,
       "style": "IPY_MODEL_071bca19d10942c6ac4f1cfe44fe0015",
       "value": 7
      }
     },
     "87b76037f61f498d92348bf344d9f8ca": {
      "model_module": "@jupyter-widgets/base",
      "model_module_version": "2.0.0",
      "model_name": "LayoutModel",
      "state": {}
     },
     "87f11cbe782b4bd2a718150b3243ded9": {
      "model_module": "@jupyter-widgets/controls",
      "model_module_version": "2.0.0",
      "model_name": "HTMLStyleModel",
      "state": {
       "description_width": "",
       "font_size": null,
       "text_color": null
      }
     },
     "880e50383bea42249d23986ea743fc67": {
      "model_module": "@jupyter-widgets/controls",
      "model_module_version": "2.0.0",
      "model_name": "HTMLModel",
      "state": {
       "layout": "IPY_MODEL_ceb8220b3b5344328cbe5d9731c98342",
       "style": "IPY_MODEL_a57bab462ced4091844b4f1b3474725d",
       "value": " 7/7 [01:50&lt;00:00,  4.84tasks/s]"
      }
     },
     "8937ccf964604302ac5581b7e4002c03": {
      "model_module": "@jupyter-widgets/base",
      "model_module_version": "2.0.0",
      "model_name": "LayoutModel",
      "state": {}
     },
     "8a7c6b0b6aeb4d8fb21170adcb1be52e": {
      "model_module": "@jupyter-widgets/base",
      "model_module_version": "2.0.0",
      "model_name": "LayoutModel",
      "state": {}
     },
     "8b18e2e7eb1141279a14f2982595af5c": {
      "model_module": "@jupyter-widgets/base",
      "model_module_version": "2.0.0",
      "model_name": "LayoutModel",
      "state": {}
     },
     "8bdc425a2a7443e9bdb062e1b267a0e4": {
      "model_module": "@jupyter-widgets/controls",
      "model_module_version": "2.0.0",
      "model_name": "HBoxModel",
      "state": {
       "children": [
        "IPY_MODEL_cc0e240201c94451829089a103c73b7d",
        "IPY_MODEL_1eee4cd079eb420294b9e8e4be6c6f74",
        "IPY_MODEL_6b70fc668e99499abbfd1c95f6c31280"
       ],
       "layout": "IPY_MODEL_1efb6061d0284be384446a91d35ef1fb"
      }
     },
     "8dd83d21832e4078a3643091401d57eb": {
      "model_module": "@jupyter-widgets/controls",
      "model_module_version": "2.0.0",
      "model_name": "ProgressStyleModel",
      "state": {
       "description_width": ""
      }
     },
     "8fb7b476f82e45bd8a02af0195581147": {
      "model_module": "@jupyter-widgets/controls",
      "model_module_version": "2.0.0",
      "model_name": "HTMLModel",
      "state": {
       "layout": "IPY_MODEL_a6d90ae7d632427d8e46c8f241a1df5a",
       "style": "IPY_MODEL_fbb047deffd74fc3a5d8b0c2dc2ca634",
       "value": "%px: 100%"
      }
     },
     "8fd2f81b5dbb49459cd6949beef3d5ae": {
      "model_module": "@jupyter-widgets/base",
      "model_module_version": "2.0.0",
      "model_name": "LayoutModel",
      "state": {}
     },
     "8fed8a1e6dca447690b949f2ef5af86b": {
      "model_module": "@jupyter-widgets/controls",
      "model_module_version": "2.0.0",
      "model_name": "HTMLModel",
      "state": {
       "layout": "IPY_MODEL_3c19ef3b53054a3796b189da5198656b",
       "style": "IPY_MODEL_d802aec992a346d99875e82f7138b7a2",
       "value": "%px: 100%"
      }
     },
     "93ce557dfdd4424db5cd9adddef893f7": {
      "model_module": "@jupyter-widgets/base",
      "model_module_version": "2.0.0",
      "model_name": "LayoutModel",
      "state": {}
     },
     "953ecac9557c4d3cb204de62efa45a8a": {
      "model_module": "@jupyter-widgets/controls",
      "model_module_version": "2.0.0",
      "model_name": "HTMLStyleModel",
      "state": {
       "description_width": "",
       "font_size": null,
       "text_color": null
      }
     },
     "95dab00e5cb24789a6d45e57d2edca86": {
      "model_module": "@jupyter-widgets/base",
      "model_module_version": "2.0.0",
      "model_name": "LayoutModel",
      "state": {}
     },
     "98f033fe78cf4e19b62f603386129645": {
      "model_module": "@jupyter-widgets/controls",
      "model_module_version": "2.0.0",
      "model_name": "HTMLStyleModel",
      "state": {
       "description_width": "",
       "font_size": null,
       "text_color": null
      }
     },
     "9b6900bb39b04b9c91fb027fbec2796d": {
      "model_module": "@jupyter-widgets/controls",
      "model_module_version": "2.0.0",
      "model_name": "HTMLModel",
      "state": {
       "layout": "IPY_MODEL_8b18e2e7eb1141279a14f2982595af5c",
       "style": "IPY_MODEL_87f11cbe782b4bd2a718150b3243ded9",
       "value": " 7/7 [01:47&lt;00:00,  6.52tasks/s]"
      }
     },
     "9e90596430754670adf48aa8b6fdcbf7": {
      "model_module": "@jupyter-widgets/controls",
      "model_module_version": "2.0.0",
      "model_name": "HTMLStyleModel",
      "state": {
       "description_width": "",
       "font_size": null,
       "text_color": null
      }
     },
     "9ff3e6c2a4e5490687b6093a04f829d6": {
      "model_module": "@jupyter-widgets/controls",
      "model_module_version": "2.0.0",
      "model_name": "FloatProgressModel",
      "state": {
       "bar_style": "success",
       "layout": "IPY_MODEL_61422eb9082f486a999f261b7b653633",
       "max": 7,
       "style": "IPY_MODEL_d50175bf3c8741c8b8f6bcca2b62dbcb",
       "value": 7
      }
     },
     "a3cb6937f91f49498bdfab65d68818d5": {
      "model_module": "@jupyter-widgets/base",
      "model_module_version": "2.0.0",
      "model_name": "LayoutModel",
      "state": {}
     },
     "a4f98d6bbd564ef197e60613166d3eae": {
      "model_module": "@jupyter-widgets/base",
      "model_module_version": "2.0.0",
      "model_name": "LayoutModel",
      "state": {}
     },
     "a57bab462ced4091844b4f1b3474725d": {
      "model_module": "@jupyter-widgets/controls",
      "model_module_version": "2.0.0",
      "model_name": "HTMLStyleModel",
      "state": {
       "description_width": "",
       "font_size": null,
       "text_color": null
      }
     },
     "a6d90ae7d632427d8e46c8f241a1df5a": {
      "model_module": "@jupyter-widgets/base",
      "model_module_version": "2.0.0",
      "model_name": "LayoutModel",
      "state": {}
     },
     "ab4a1db3d33249248680dd028c15254c": {
      "model_module": "@jupyter-widgets/controls",
      "model_module_version": "2.0.0",
      "model_name": "HBoxModel",
      "state": {
       "children": [
        "IPY_MODEL_746163f63bd54d30adc7f541546b9c9e",
        "IPY_MODEL_bbb608c7617f4129912434ba97db9c98",
        "IPY_MODEL_00c3a15666c3469390ff0acc475e8e59"
       ],
       "layout": "IPY_MODEL_55e85a6d4fab4d8495f1e9e751f75a00"
      }
     },
     "abebcfa9e37d4036b73249995e7afe09": {
      "model_module": "@jupyter-widgets/controls",
      "model_module_version": "2.0.0",
      "model_name": "HTMLModel",
      "state": {
       "layout": "IPY_MODEL_4165285da6a14c0c8b35b8e74812bd41",
       "style": "IPY_MODEL_cfc15bbc7ade436390c01994becc766b",
       "value": "%px: 100%"
      }
     },
     "ae94b13693604293ab5bf91b016d90b6": {
      "model_module": "@jupyter-widgets/base",
      "model_module_version": "2.0.0",
      "model_name": "LayoutModel",
      "state": {}
     },
     "b13d520ba0d1498b9b4929f32b2a5408": {
      "model_module": "@jupyter-widgets/controls",
      "model_module_version": "2.0.0",
      "model_name": "HTMLStyleModel",
      "state": {
       "description_width": "",
       "font_size": null,
       "text_color": null
      }
     },
     "b437ddd48f304e658ebf981d9b8508ee": {
      "model_module": "@jupyter-widgets/controls",
      "model_module_version": "2.0.0",
      "model_name": "FloatProgressModel",
      "state": {
       "bar_style": "success",
       "layout": "IPY_MODEL_501df8dec663423a821b920edfe2f394",
       "max": 7,
       "style": "IPY_MODEL_0cb467aea3e54a5ab20ca231b0b253dd",
       "value": 7
      }
     },
     "b58b877bd25f475b960ec9fe260ba09c": {
      "model_module": "@jupyter-widgets/controls",
      "model_module_version": "2.0.0",
      "model_name": "HTMLStyleModel",
      "state": {
       "description_width": "",
       "font_size": null,
       "text_color": null
      }
     },
     "b81a66dc785f4cc4b44dfb86946b6d22": {
      "model_module": "@jupyter-widgets/base",
      "model_module_version": "2.0.0",
      "model_name": "LayoutModel",
      "state": {}
     },
     "bbb608c7617f4129912434ba97db9c98": {
      "model_module": "@jupyter-widgets/controls",
      "model_module_version": "2.0.0",
      "model_name": "FloatProgressModel",
      "state": {
       "bar_style": "success",
       "layout": "IPY_MODEL_95dab00e5cb24789a6d45e57d2edca86",
       "max": 7,
       "style": "IPY_MODEL_63f051a153cb4eeb8152f6260a3dbbb8",
       "value": 7
      }
     },
     "c0013ca708e448aeaa2c9cffe729e73d": {
      "model_module": "@jupyter-widgets/controls",
      "model_module_version": "2.0.0",
      "model_name": "FloatProgressModel",
      "state": {
       "bar_style": "success",
       "layout": "IPY_MODEL_15c8ecbc1a59487b9c44fe8d4ea17a30",
       "max": 7,
       "style": "IPY_MODEL_0fa4cacb57974785b75dda8a57e2b1a5",
       "value": 7
      }
     },
     "c2bce669468a431a8df8a5e2103a5a3f": {
      "model_module": "@jupyter-widgets/base",
      "model_module_version": "2.0.0",
      "model_name": "LayoutModel",
      "state": {}
     },
     "c7db6485cc5d4a77b6bedb4e23b0444c": {
      "model_module": "@jupyter-widgets/controls",
      "model_module_version": "2.0.0",
      "model_name": "FloatProgressModel",
      "state": {
       "bar_style": "success",
       "layout": "IPY_MODEL_6ebfc189abed4046ab50bdcc84f133e7",
       "max": 7,
       "style": "IPY_MODEL_742b3a66f48b447783540940fd24833f",
       "value": 7
      }
     },
     "c84c97374998448e979017919b1e4669": {
      "model_module": "@jupyter-widgets/base",
      "model_module_version": "2.0.0",
      "model_name": "LayoutModel",
      "state": {}
     },
     "c85b770757344e7092cdd80165bc9e25": {
      "model_module": "@jupyter-widgets/controls",
      "model_module_version": "2.0.0",
      "model_name": "HTMLModel",
      "state": {
       "layout": "IPY_MODEL_50367623c3ad4a01b9263ece66524a67",
       "style": "IPY_MODEL_953ecac9557c4d3cb204de62efa45a8a",
       "value": "%px: 100%"
      }
     },
     "cadf482e94874177968afc8d2d7e9771": {
      "model_module": "@jupyter-widgets/controls",
      "model_module_version": "2.0.0",
      "model_name": "HTMLModel",
      "state": {
       "layout": "IPY_MODEL_e92116c750f847ab877caa17860f5950",
       "style": "IPY_MODEL_6300b8e45d7a4d9aaa769b6a8aa78930",
       "value": "%px: 100%"
      }
     },
     "cc0e240201c94451829089a103c73b7d": {
      "model_module": "@jupyter-widgets/controls",
      "model_module_version": "2.0.0",
      "model_name": "HTMLModel",
      "state": {
       "layout": "IPY_MODEL_7d54b3b0cd72440587511d924c97830e",
       "style": "IPY_MODEL_715740be8a5a472f98dc02173329f17f",
       "value": "%px: 100%"
      }
     },
     "ce2c2b86387a4376af7c1bc81816cbe3": {
      "model_module": "@jupyter-widgets/controls",
      "model_module_version": "2.0.0",
      "model_name": "ProgressStyleModel",
      "state": {
       "description_width": ""
      }
     },
     "ceb8220b3b5344328cbe5d9731c98342": {
      "model_module": "@jupyter-widgets/base",
      "model_module_version": "2.0.0",
      "model_name": "LayoutModel",
      "state": {}
     },
     "cfc15bbc7ade436390c01994becc766b": {
      "model_module": "@jupyter-widgets/controls",
      "model_module_version": "2.0.0",
      "model_name": "HTMLStyleModel",
      "state": {
       "description_width": "",
       "font_size": null,
       "text_color": null
      }
     },
     "d50175bf3c8741c8b8f6bcca2b62dbcb": {
      "model_module": "@jupyter-widgets/controls",
      "model_module_version": "2.0.0",
      "model_name": "ProgressStyleModel",
      "state": {
       "description_width": ""
      }
     },
     "d650830da96449f1af2ac6e39551f14f": {
      "model_module": "@jupyter-widgets/controls",
      "model_module_version": "2.0.0",
      "model_name": "FloatProgressModel",
      "state": {
       "bar_style": "success",
       "layout": "IPY_MODEL_a3cb6937f91f49498bdfab65d68818d5",
       "max": 7,
       "style": "IPY_MODEL_ce2c2b86387a4376af7c1bc81816cbe3",
       "value": 7
      }
     },
     "d802aec992a346d99875e82f7138b7a2": {
      "model_module": "@jupyter-widgets/controls",
      "model_module_version": "2.0.0",
      "model_name": "HTMLStyleModel",
      "state": {
       "description_width": "",
       "font_size": null,
       "text_color": null
      }
     },
     "d8e71f450fde42eaa80a8528e874a7d3": {
      "model_module": "@jupyter-widgets/controls",
      "model_module_version": "2.0.0",
      "model_name": "HTMLModel",
      "state": {
       "layout": "IPY_MODEL_a4f98d6bbd564ef197e60613166d3eae",
       "style": "IPY_MODEL_10aa2da3d5154392894adccf0df8ff88",
       "value": "%px: 100%"
      }
     },
     "df16d688b22449609a3662cee1fb9a89": {
      "model_module": "@jupyter-widgets/controls",
      "model_module_version": "2.0.0",
      "model_name": "HTMLModel",
      "state": {
       "layout": "IPY_MODEL_7b18a6f525d045c795ecca58b025a2f8",
       "style": "IPY_MODEL_4db22b555b1345caaf2170ed515ff08f",
       "value": "%px: 100%"
      }
     },
     "e0f72d2bd63f4e12aaf6b4d5876e3303": {
      "model_module": "@jupyter-widgets/base",
      "model_module_version": "2.0.0",
      "model_name": "LayoutModel",
      "state": {}
     },
     "e1a3ad14d0f94701b4e4800b8ee782d1": {
      "model_module": "@jupyter-widgets/controls",
      "model_module_version": "2.0.0",
      "model_name": "FloatProgressModel",
      "state": {
       "bar_style": "success",
       "layout": "IPY_MODEL_8fd2f81b5dbb49459cd6949beef3d5ae",
       "max": 7,
       "style": "IPY_MODEL_f2452436acb34e37b8dfd5cd8e62a9ee",
       "value": 7
      }
     },
     "e741868d00bb45cbacbeffe9e17f4b06": {
      "model_module": "@jupyter-widgets/base",
      "model_module_version": "2.0.0",
      "model_name": "LayoutModel",
      "state": {}
     },
     "e8f559d629e249a78a7797013201d5b0": {
      "model_module": "@jupyter-widgets/controls",
      "model_module_version": "2.0.0",
      "model_name": "HTMLStyleModel",
      "state": {
       "description_width": "",
       "font_size": null,
       "text_color": null
      }
     },
     "e92116c750f847ab877caa17860f5950": {
      "model_module": "@jupyter-widgets/base",
      "model_module_version": "2.0.0",
      "model_name": "LayoutModel",
      "state": {}
     },
     "ed45582a99414133a341214cae239de1": {
      "model_module": "@jupyter-widgets/base",
      "model_module_version": "2.0.0",
      "model_name": "LayoutModel",
      "state": {}
     },
     "ee0771f10301475a8964aefd4cdf4822": {
      "model_module": "@jupyter-widgets/controls",
      "model_module_version": "2.0.0",
      "model_name": "ProgressStyleModel",
      "state": {
       "description_width": ""
      }
     },
     "f2452436acb34e37b8dfd5cd8e62a9ee": {
      "model_module": "@jupyter-widgets/controls",
      "model_module_version": "2.0.0",
      "model_name": "ProgressStyleModel",
      "state": {
       "description_width": ""
      }
     },
     "f33cef5e65c4470abc9ff97d99bf38a6": {
      "model_module": "@jupyter-widgets/controls",
      "model_module_version": "2.0.0",
      "model_name": "HTMLStyleModel",
      "state": {
       "description_width": "",
       "font_size": null,
       "text_color": null
      }
     },
     "fac54a68799944108569343d70ca566b": {
      "model_module": "@jupyter-widgets/controls",
      "model_module_version": "2.0.0",
      "model_name": "HTMLStyleModel",
      "state": {
       "description_width": "",
       "font_size": null,
       "text_color": null
      }
     },
     "fbb047deffd74fc3a5d8b0c2dc2ca634": {
      "model_module": "@jupyter-widgets/controls",
      "model_module_version": "2.0.0",
      "model_name": "HTMLStyleModel",
      "state": {
       "description_width": "",
       "font_size": null,
       "text_color": null
      }
     },
     "fbc48844403c47e38ab49635a9132daf": {
      "model_module": "@jupyter-widgets/controls",
      "model_module_version": "2.0.0",
      "model_name": "HTMLModel",
      "state": {
       "layout": "IPY_MODEL_1c21380ed0b349b3b8380473c02da9d9",
       "style": "IPY_MODEL_54b8184ab438499c9b273fb970f23a23",
       "value": " 7/7 [01:49&lt;00:00,  7.24tasks/s]"
      }
     },
     "feedded103c542399e17d7e926d9be11": {
      "model_module": "@jupyter-widgets/controls",
      "model_module_version": "2.0.0",
      "model_name": "HTMLModel",
      "state": {
       "layout": "IPY_MODEL_67c282d7ee1d493ba819caf1c4444ce7",
       "style": "IPY_MODEL_40169c9bf2dd4b9aab6b20931ad49bb6",
       "value": " 7/7 [01:49&lt;00:00,  4.28tasks/s]"
      }
     },
     "ff23ee357ae640fe81e15c1841c66e43": {
      "model_module": "@jupyter-widgets/controls",
      "model_module_version": "2.0.0",
      "model_name": "FloatProgressModel",
      "state": {
       "bar_style": "success",
       "layout": "IPY_MODEL_46273e26a0b94218a2e0b477cede54d5",
       "max": 7,
       "style": "IPY_MODEL_8dd83d21832e4078a3643091401d57eb",
       "value": 7
      }
     }
    },
    "version_major": 2,
    "version_minor": 0
   }
  }
 },
 "nbformat": 4,
 "nbformat_minor": 5
}
