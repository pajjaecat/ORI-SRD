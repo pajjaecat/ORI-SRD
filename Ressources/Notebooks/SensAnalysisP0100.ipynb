{
 "cells": [
  {
   "cell_type": "markdown",
   "id": "20b19448-c448-4130-a879-ec0455818ae2",
   "metadata": {},
   "source": [
    "#### Sensitivity Analysis \n",
    "Simulation of the effect of Energy Producer Maximum outPut on the Voltage Rise Detected "
   ]
  },
  {
   "cell_type": "markdown",
   "id": "fc065a87-7dbd-47b1-babf-3e39a2cb365d",
   "metadata": {
    "tags": []
   },
   "source": [
    "Simulation based on  : \n",
    "* Prediction block RNN trained in [RNN_Train_StLaurentDeJourdes](RNN_Train_StLaurentDeJourdes.ipynb) \n",
    "    * To predict $X(k)$ and $Y(k)$  as respectively  $\\tilde{X(k)}$ an  $\\tilde{Y(k)}$ (Predictions on testing set are done in [RNN_Sim_StLaurentDeJourdes](RNN_Sim_StLaurentDeJourdes.ipynb))\n",
    "* Robust Combined RNN To predict $X(k)$ and $Y(k)$  as respectively  $\\tilde{X(k)}$ an  $\\tilde{Y(k)}$ based on robust Model1 and Model 3 [2021_2022_RNN_Robust_All_Models](2021_2022_RNN_Robust_All_Models.ipynb))\n",
    "* Prediction Block Future Known [2021_2022_KnownFuture](2021_2022_KnownFuture.ipynb)\n",
    "* Persistence Model [2021_2022_Persistence](2021_2022_Persistence.ipynb)\n",
    "\n",
    "\n",
    "Maximum voltage rise $vm_{pu}^{max} = 1.0250 $"
   ]
  },
  {
   "cell_type": "markdown",
   "id": "96c067fd-725f-4694-a4e0-d0f55adcae39",
   "metadata": {},
   "source": [
    "---"
   ]
  },
  {
   "cell_type": "markdown",
   "id": "1c558622-b368-41de-8e6d-7df7f2c1dcf6",
   "metadata": {
    "tags": []
   },
   "source": [
    "#### Define the parallel block PF/OPF"
   ]
  },
  {
   "cell_type": "markdown",
   "id": "16cf0dd9-6d42-4120-b539-b29c337fbdef",
   "metadata": {
    "tags": []
   },
   "source": [
    "#### Import Modules \n"
   ]
  },
  {
   "cell_type": "code",
   "execution_count": 3,
   "id": "2346d4b8-6911-477a-84a3-c8eb55f5e446",
   "metadata": {},
   "outputs": [],
   "source": [
    "import pandas as pd\n",
    "import pandapower as pp\n",
    "import matplotlib.pyplot as plt\n",
    "import numpy as np\n",
    "from tqdm import tqdm # Profiling \n",
    "import seaborn as sbn\n",
    "import pickle, sys, importlib,  time\n",
    "import os\n",
    "from pickle import load\n",
    "import joblib"
   ]
  },
  {
   "cell_type": "code",
   "execution_count": 6,
   "id": "221fcb98-4ddc-4d75-b03d-379c3778d93d",
   "metadata": {},
   "outputs": [],
   "source": [
    "# import psutil\n",
    "function_folder = '../Modules/' \n",
    "# Add modules folder to path if it is not present\n",
    "if function_folder not in sys.path: sys.path.append(function_folder)\n",
    "\n",
    "import oriFunctions as oriFc\n",
    "import checker\n",
    "import oriClass as oriCs\n",
    "from oriVariables import (network_folder,\n",
    "                          simResult_folder, \n",
    "                          defAuth_hvBus_vRiseMax,\n",
    "                          default_hv_voltage,\n",
    "                          default_lv_voltage,\n",
    "                          defAuth_hvBus_vRiseMin, \n",
    "                          excel_folder, \n",
    "                          hp10_start_end,\n",
    "                          h_start_end,\n",
    "                          testSet_end,\n",
    "                          valSet_start_M2, \n",
    "                          default_ctrld_hvProd_max,\n",
    "                          Δt, \n",
    "                          pd_Δt\n",
    "                          )\n",
    "from fnfrnb import NotebookLoader"
   ]
  },
  {
   "cell_type": "code",
   "execution_count": 5,
   "id": "9ef0b048-85b9-4e94-9308-8c63dd451e95",
   "metadata": {},
   "outputs": [
    {
     "name": "stdout",
     "output_type": "stream",
     "text": [
      "importing Jupyter notebook from parFn.ipynb\n"
     ]
    }
   ],
   "source": [
    "oriPar = NotebookLoader().load_module('parFn')"
   ]
  },
  {
   "cell_type": "markdown",
   "id": "9a5cdb31-5597-496a-af2b-b5b40a2b3b4a",
   "metadata": {
    "tags": []
   },
   "source": [
    "#### Import Cleaned data files for component of the network"
   ]
  },
  {
   "cell_type": "code",
   "execution_count": 5,
   "id": "a11df2ae-0072-4bb0-b339-c695f0eac786",
   "metadata": {},
   "outputs": [],
   "source": [
    "df_data = joblib.load(f'{simResult_folder}StLaurent_cleanedData.pkl')\n",
    "\n",
    "# create daylight periods\n",
    "per_index = df_data.index\n",
    "per_daylight = ( pd.Series(index=per_index.to_timestamp(), dtype=object)\n",
    "                .between_time(*h_start_end) ).index.to_period(pd_Δt)\n",
    "\n",
    "# From the daylight periods extract for the first element the firsts year, month and day.\n",
    "starting_year = per_daylight[0].year \n",
    "starting_month = per_daylight[0].month \n",
    "starting_day = per_daylight[0].day \n",
    "\n",
    "# Extract the total number of period during daylight time of a day \n",
    "day_tot_per = len(per_daylight[(per_daylight.year == starting_year)\n",
    "                               &(per_daylight.month == starting_month)\n",
    "                               &(per_daylight.day == starting_day) ] )\n",
    "\n",
    "# Extract daylight periods\n",
    "df_data = df_data.loc[per_daylight]\n",
    "\n",
    "\n",
    "# # Extract only the relavant testing set\n",
    "df_final = df_data[(df_data.index>= valSet_start_M2) & (df_data.index<= testSet_end)]\n",
    "\n",
    "# Create period index 1 and 2 \n",
    "per_index = df_final.index\n",
    "per_index2 = ( pd.Series(index=per_index.to_timestamp(), dtype=object\n",
    "                        ).between_time(*hp10_start_end) ).index.to_period(pd_Δt)"
   ]
  },
  {
   "cell_type": "markdown",
   "id": "90343bf0-685f-4db0-a4e7-3f80ae833358",
   "metadata": {
    "tags": []
   },
   "source": [
    "#### Define Controlled HV's name and extract Non controlled HV names"
   ]
  },
  {
   "cell_type": "code",
   "execution_count": 6,
   "id": "4cf827b8-e6c9-42be-8933-91a7aba4b935",
   "metadata": {},
   "outputs": [],
   "source": [
    "# Extract all the HV producer and get the name of Non - controlled HV Prod\n",
    "hvProdNames = {elm for elm in df_final.columns if elm[-4:].isdecimal()}\n",
    "non_ctrld_HvProd_names_list = list(hvProdNames.difference({ctrld_HvProd_name}))"
   ]
  },
  {
   "cell_type": "markdown",
   "id": "410d560a-61c5-4e88-bd4e-60209ee8ea96",
   "metadata": {
    "tags": []
   },
   "source": [
    "#### Load prediction file of model1 \n",
    "i.e. $\\tilde{X(k)}$ an  $\\tilde{Y(k)}$ predicted in [RNN_Sim_StLaurentDeJourdes](RNN_Sim_StLaurentDeJourdes.ipynb)"
   ]
  },
  {
   "cell_type": "code",
   "execution_count": 7,
   "id": "cabc433d-d018-4e84-907d-0246a827ae79",
   "metadata": {},
   "outputs": [],
   "source": [
    "rnnPred_df = joblib.load(f'{network_folder}simulationResults/RNN_pred.pkl')"
   ]
  },
  {
   "cell_type": "markdown",
   "id": "0a84e1b4-8451-4b5d-bc00-8cbff8d082db",
   "metadata": {
    "tags": []
   },
   "source": [
    "#### Start Parallel engines"
   ]
  },
  {
   "cell_type": "code",
   "execution_count": 8,
   "id": "353f9f8a-e1f7-4389-8c90-734e2b70ec80",
   "metadata": {},
   "outputs": [
    {
     "name": "stdout",
     "output_type": "stream",
     "text": [
      "Starting 7 engines with <class 'ipyparallel.cluster.launcher.LocalEngineSetLauncher'>\n"
     ]
    },
    {
     "data": {
      "application/vnd.jupyter.widget-view+json": {
       "model_id": "13378c54439749dfb56583d7fa7e3129",
       "version_major": 2,
       "version_minor": 0
      },
      "text/plain": [
       "  0%|          | 0/7 [00:00<?, ?engine/s]"
      ]
     },
     "metadata": {},
     "output_type": "display_data"
    }
   ],
   "source": [
    "n_engines = os.cpu_count()-1         # Total number of engines\n",
    "parEngines = oriCs.CreateParEngines(n_engines)"
   ]
  },
  {
   "cell_type": "markdown",
   "id": "b3759163-838d-4976-90ee-df2d91ff523f",
   "metadata": {
    "tags": []
   },
   "source": [
    "### Import Networks\n"
   ]
  },
  {
   "cell_type": "code",
   "execution_count": 9,
   "id": "984342d1-0910-4cc7-b4a1-9d7070995f0c",
   "metadata": {},
   "outputs": [],
   "source": [
    "lowerNet=pp.from_pickle(f'{network_folder}CIVAUX.p')\n",
    "upperNet=pp.from_pickle(f'{network_folder}ST LAURENT.p')\n",
    "\n",
    "# Init an object of InitNetworks\n",
    "networks = oriCs.InitNetworks(upperNet, lowerNet)"
   ]
  },
  {
   "cell_type": "markdown",
   "id": "96ec1a4c-eeaa-44ec-bd2a-855a5755527a",
   "metadata": {
    "tags": []
   },
   "source": [
    "### Operation on network parameters"
   ]
  },
  {
   "cell_type": "code",
   "execution_count": 10,
   "id": "c7373bd0-5270-4aa3-a7a8-4d2e9ae974b8",
   "metadata": {},
   "outputs": [],
   "source": [
    "# Defined Voltage rise threshold\n",
    "vm_mu_max, vm_mu_min = defAuth_hvBus_vRiseMax, defAuth_hvBus_vRiseMin  \n",
    "\n",
    "# Inititialize the controllable hv prod in the network\n",
    "networks.init_controlled_hvProd(ctrld_HvProd_name)\n",
    "\n",
    "# Extract the HV bus from the list of activated bus \n",
    "lowerNet_hv_activated_bus = networks.get_lowerNet_hvActivatedBuses(lowerNet\n",
    "                                                                   .bus\n",
    "                                                                   .query('vn_kv==@default_hv_voltage').index)\n",
    "# Add maximum voltage constraints on the Hv Buses in the network \n",
    "networks.lowerNet_set_vrise_threshold(lowerNet_hv_activated_bus, vm_mu_min, vm_mu_max)"
   ]
  },
  {
   "cell_type": "markdown",
   "id": "12427a71-748c-419a-bb52-9ce644ff49e2",
   "metadata": {
    "tags": []
   },
   "source": [
    "### Controllable Generators costs"
   ]
  },
  {
   "cell_type": "code",
   "execution_count": 11,
   "id": "b60831a5-e50f-43f9-b0d4-bd8966315b39",
   "metadata": {},
   "outputs": [
    {
     "data": {
      "text/html": [
       "<div>\n",
       "<style scoped>\n",
       "    .dataframe tbody tr th:only-of-type {\n",
       "        vertical-align: middle;\n",
       "    }\n",
       "\n",
       "    .dataframe tbody tr th {\n",
       "        vertical-align: top;\n",
       "    }\n",
       "\n",
       "    .dataframe thead th {\n",
       "        text-align: right;\n",
       "    }\n",
       "</style>\n",
       "<table border=\"1\" class=\"dataframe\">\n",
       "  <thead>\n",
       "    <tr style=\"text-align: right;\">\n",
       "      <th></th>\n",
       "      <th>element</th>\n",
       "      <th>et</th>\n",
       "      <th>cp0_eur</th>\n",
       "      <th>cp1_eur_per_mw</th>\n",
       "      <th>cp2_eur_per_mw2</th>\n",
       "      <th>cq0_eur</th>\n",
       "      <th>cq1_eur_per_mvar</th>\n",
       "      <th>cq2_eur_per_mvar2</th>\n",
       "    </tr>\n",
       "  </thead>\n",
       "  <tbody>\n",
       "    <tr>\n",
       "      <th>0</th>\n",
       "      <td>23</td>\n",
       "      <td>sgen</td>\n",
       "      <td>0.0</td>\n",
       "      <td>-1.0</td>\n",
       "      <td>0.0</td>\n",
       "      <td>0.0</td>\n",
       "      <td>0.0</td>\n",
       "      <td>0.0</td>\n",
       "    </tr>\n",
       "  </tbody>\n",
       "</table>\n",
       "</div>"
      ],
      "text/plain": [
       "   element    et  cp0_eur  cp1_eur_per_mw  cp2_eur_per_mw2  cq0_eur  \\\n",
       "0       23  sgen      0.0            -1.0              0.0      0.0   \n",
       "\n",
       "   cq1_eur_per_mvar  cq2_eur_per_mvar2  \n",
       "0               0.0                0.0  "
      ]
     },
     "execution_count": 11,
     "metadata": {},
     "output_type": "execute_result"
    }
   ],
   "source": [
    "# get the index of the controlled HV prod in SGEN table\n",
    "ctrld_hvProd_index = lowerNet.sgen.query('name==@ctrld_HvProd_name').index\n",
    "\n",
    "# Add negative cost to usability of sgen P0100 so its usage can be maximised while respecting the constraints on the network\n",
    "pp.create_poly_cost(lowerNet, ctrld_hvProd_index,'sgen', cp1_eur_per_mw=-1)\n",
    "\n",
    "lowerNet.poly_cost"
   ]
  },
  {
   "cell_type": "markdown",
   "id": "90626953-634c-4b59-b932-9025f34cd27f",
   "metadata": {
    "tags": []
   },
   "source": [
    "### Simulations"
   ]
  },
  {
   "cell_type": "markdown",
   "id": "022ebed3-4751-45f9-82f6-3d892a9e7a34",
   "metadata": {
    "tags": []
   },
   "source": [
    "#### Define Data to use in local space of engines"
   ]
  },
  {
   "cell_type": "code",
   "execution_count": 12,
   "id": "24dd7871-f29a-48cf-a321-eb529d07bd4c",
   "metadata": {
    "tags": []
   },
   "outputs": [],
   "source": [
    "pred_model = 'Pers'   # Define the prediction Model \n",
    "\n",
    "# Create a dictionnary containing all the variable that will be used by each client or engine\n",
    "parameters_dict = dict({'lowerNet':lowerNet, \n",
    "                        'lowerNet_hv_activated_bus':lowerNet_hv_activated_bus, \n",
    "                        'sum_max_main_network':networks.get_upperNet_sum_max_lvProdLoad(), \n",
    "                        'vm_mu_max':vm_mu_max,\n",
    "                        'pred_model':pred_model\n",
    "                         })"
   ]
  },
  {
   "cell_type": "markdown",
   "id": "f8b242e9-1267-43bc-9a9e-61b263278f08",
   "metadata": {},
   "source": [
    "---"
   ]
  },
  {
   "cell_type": "markdown",
   "id": "6a9702a9-b848-4830-9c4d-20770f42a7be",
   "metadata": {
    "tags": []
   },
   "source": [
    "#### Robust Persistence"
   ]
  },
  {
   "cell_type": "markdown",
   "id": "c91c3560-9364-42ac-901f-d33e1037c3f2",
   "metadata": {},
   "source": [
    "**<span style='color:Orange'>  The results of the Robust Persistence simulation using the default networks (Civaux and St Laurent) is availaible in</span>** [SensAnalysisP0100_PersRob](../Pickle_files/simulationResults/SensAnalysisP0100_PersRob.pkl). "
   ]
  },
  {
   "cell_type": "markdown",
   "id": "80150c44-85b1-43dd-9eb1-343785d4e254",
   "metadata": {},
   "source": [
    "##### Define Range of variation for the maximum power output of the controlled HV Prod i.e. P0100 "
   ]
  },
  {
   "cell_type": "code",
   "execution_count": 13,
   "id": "ab1ce734-c724-4dc7-b259-f43603b819d8",
   "metadata": {},
   "outputs": [],
   "source": [
    "ctrldHvProd_output_var_step = 0.2   # (MW) Controlled HV Prod output variation step \n",
    "ctrld_hvProd_max_range = np.arange(0, default_ctrld_hvProd_max+0.1 ,ctrldHvProd_output_var_step)"
   ]
  },
  {
   "cell_type": "markdown",
   "id": "f83c9609-1b9c-48d2-9b95-d15a93bc6820",
   "metadata": {},
   "source": [
    "##### For each element in ctrld_hvProd_max_range, run a simulation and save the results "
   ]
  },
  {
   "cell_type": "code",
   "execution_count": 14,
   "id": "35917903-ace9-4988-8c17-7448b6f2c9bc",
   "metadata": {
    "scrolled": true,
    "tags": []
   },
   "outputs": [
    {
     "name": "stdout",
     "output_type": "stream",
     "text": [
      "***************************       Simulation 2/21      ****************\n",
      "                           ------- Bloc PF/OPF ---------         \n",
      "importing numpy on engine(s)\n",
      "importing pandapower on engine(s)\n",
      "importing pandas on engine(s)\n",
      "importing sys on engine(s)\n",
      "importing oriFunctions on engine(s)\n"
     ]
    },
    {
     "data": {
      "application/vnd.jupyter.widget-view+json": {
       "model_id": "e02320d3dc214c6780c41c7e6ea9a220",
       "version_major": 2,
       "version_minor": 0
      },
      "text/plain": [
       "%px:   0%|          | 0/7 [00:00<?, ?tasks/s]"
      ]
     },
     "metadata": {},
     "output_type": "display_data"
    },
    {
     "name": "stdout",
     "output_type": "stream",
     "text": [
      "                            ------- Bloc PF/OPF ---------         \n"
     ]
    },
    {
     "ename": "NameError",
     "evalue": "name 'par_block_pfOpf' is not defined",
     "output_type": "error",
     "traceback": [
      "\u001b[1;31m---------------------------------------------------------------------------\u001b[0m",
      "\u001b[1;31mNameError\u001b[0m                                 Traceback (most recent call last)",
      "\u001b[1;32m~\\AppData\\Local\\Temp\\ipykernel_5224\\1940203031.py\u001b[0m in \u001b[0;36m<module>\u001b[1;34m\u001b[0m\n\u001b[0;32m     67\u001b[0m                                      clean=False )\n\u001b[0;32m     68\u001b[0m     \u001b[1;31m# Call block pf. It\u001b[0m\u001b[1;33m\u001b[0m\u001b[1;33m\u001b[0m\u001b[1;33m\u001b[0m\u001b[0m\n\u001b[1;32m---> 69\u001b[1;33m     \u001b[0mmax_vm_pu_pers_df\u001b[0m \u001b[1;33m=\u001b[0m \u001b[0mpar_block_pfOpf\u001b[0m\u001b[1;33m(\u001b[0m\u001b[0mparEngines\u001b[0m\u001b[1;33m)\u001b[0m\u001b[1;33m\u001b[0m\u001b[1;33m\u001b[0m\u001b[0m\n\u001b[0m\u001b[0;32m     70\u001b[0m \u001b[1;33m\u001b[0m\u001b[0m\n\u001b[0;32m     71\u001b[0m     \u001b[1;31m# TODO : Write a func to save results\u001b[0m\u001b[1;33m\u001b[0m\u001b[1;33m\u001b[0m\u001b[1;33m\u001b[0m\u001b[0m\n",
      "\u001b[1;31mNameError\u001b[0m: name 'par_block_pfOpf' is not defined"
     ]
    }
   ],
   "source": [
    "sim_res_Dict = {}  # Dictionnary to save variables\n",
    "\n",
    "# for cur_index in range(len(ctrld_hvProd_max_range)):\n",
    "for cur_index in [1]:\n",
    "    \n",
    "    # Define the upsacaled output of the controlled HV prod based on the current index\n",
    "    upscaled_ctrld_hvProd_max = ctrld_hvProd_max_range[cur_index]  \n",
    "\n",
    "    # Initialize variables for parallel engines\n",
    "    dict_df_sgenLoad = oriFc.createDict_prodHtBt_Load(df_final,\n",
    "                                                      networks, \n",
    "                                                      cur_hvProd_max = upscaled_ctrld_hvProd_max )\n",
    "\n",
    "    print(f'***************************       Simulation {cur_index+1}/{len(ctrld_hvProd_max_range)}      ****************')\n",
    "    print(\"                           ------- Bloc PF/OPF ---------         \")\n",
    "    ##          ---------------------------  BLOCK PF/OPF  ------------------------         ##\n",
    "    # Initialize the parallel engine parameters i.e. send variable into each local space\n",
    "    opf_status = 'Both'\n",
    "    df_prodHT_index = dict_df_sgenLoad['df_prodHT'].index # Extract  index of periods.\n",
    "    \n",
    "    # Send all the created variables into local spaces of each engine.\n",
    "    parEngines.sendVar_to_localSpace(df_prodHT_index, \n",
    "                                     opf_status, \n",
    "                                     dict_df_sgenLoad, \n",
    "                                     parameters_dict, \n",
    "                                     clean=True )\n",
    "    # cALL Block pf/op\n",
    "    ctrld_HvProd_opt = oriPar.par_block_pfOpf(parEngines, pred_model)    \n",
    "\n",
    "    # ---------------------- Implement Robust Persistence ------------------------------------\n",
    "    oriFc.robustness(ctrld_HvProd_opt, \n",
    "                     df_final[[ctrld_HvProd_name]], \n",
    "                     cur_hvProd_max = upscaled_ctrld_hvProd_max )\n",
    "    \n",
    "    ##           ---------------------------  BLOCK PROD  ------------------------         ##\n",
    "    oriFc.block_prod(ctrld_HvProd_opt, \n",
    "                     df_final[[ctrld_HvProd_name]], \n",
    "                     cur_hvProd_max = upscaled_ctrld_hvProd_max )\n",
    "    #            ------------------------------------------------------------------------  ##\n",
    "    \n",
    "    # Create mask\n",
    "    mask_per2work = per_index2[day_tot_per:]\n",
    "\n",
    "    # Update Values of the dataframe to use for final power flow bloc with Interest variables \n",
    "    # (Real load, real Prod of LV Prod, and Non-COntroled HV Prod, Injected power of Ctrl Prod\n",
    "    df_final2 =pd.concat([df_final.loc[mask_per2work].iloc[:,[0,1]],\n",
    "                          df_final.loc[mask_per2work, non_ctrld_HvProd_names_list],\n",
    "                          ctrld_HvProd_opt.loc[mask_per2work, [ctrld_HvProd_name]],\n",
    "                         ], axis='columns')\n",
    "\n",
    "    checker.check_networkDataDf_columnsOrder(df_final2)    # Check df_final2 columns order\n",
    "    \n",
    "    # Creat dict to send to par Engines based\n",
    "    dict_df_sgenLoad = oriFc.createDict_prodHtBt_Load(df_final2,\n",
    "                                                      networks )\n",
    "    ##             ---------------------------  BLOCK PF  ------------------------         ##\n",
    "    print(\"                            ------- Bloc PF/OPF ---------         \")    \n",
    "\n",
    "    opf_status = False\n",
    "    df_prodHT_index = dict_df_sgenLoad['df_prodHT'].index # Extract  index of periods.\n",
    "    \n",
    "    # Send all the created variables into local spaces of each engine.\n",
    "    parEngines.sendVar_to_localSpace(df_prodHT_index, \n",
    "                                     opf_status, \n",
    "                                     dict_df_sgenLoad, \n",
    "                                     parameters_dict, \n",
    "                                     clean=False )\n",
    "    # Call block pf. It \n",
    "    max_vm_pu_pers_df = par_block_pfOpf(parEngines)    \n",
    "\n",
    "    # TODO : Write a func to save results \n",
    "#  #####   Saving Results  --------------------------------------------------------------------------------------\n",
    "    ctrld_HvProd_df = df_final.loc[df_final2.index, [ctrld_HvProd_name]]\n",
    "    ctrld_HvProd_pers_df = pd.DataFrame(data=ctrld_HvProd_opt.loc[df_final2.index, ctrld_HvProd_name].values, \n",
    "                                        index=ctrld_HvProd_opt.loc[df_final2.index].index, \n",
    "                                        columns=['Pers_Rob Sim'+str(cur_index+1)] )\n",
    "    # Concat\n",
    "    ctrld_HvProd_concat_df = pd.concat([ctrld_hvProd_max_range[cur_index]*ctrld_HvProd_df/default_ctrld_hvProd_max,\n",
    "                                        ctrld_HvProd_pers_df], \n",
    "                                       axis='columns')\n",
    "    # Rename\n",
    "    ctrld_HvProd_concat_df.rename(columns=({ctrld_HvProd_name:'No_Control'}), inplace=True);\n",
    "\n",
    "    int_sim_res = {'maxV_rise_df':max_vm_pu_pers_df,            # Intermediate results\n",
    "                   'Power Sgen': ctrld_HvProd_concat_df}         \n",
    "    sim_res_Dict.update([('Sim'+str(cur_index+1),int_sim_res)]) # Final results"
   ]
  },
  {
   "cell_type": "markdown",
   "id": "19051890-856f-4ff1-93d7-520f2e2a8b6f",
   "metadata": {},
   "source": [
    "##### Save results of the previous simulation"
   ]
  },
  {
   "cell_type": "code",
   "execution_count": null,
   "id": "f6202fd1-b6b0-4b00-b3a4-e007901e275a",
   "metadata": {},
   "outputs": [],
   "source": [
    "joblib.dump(sim_res_Dict,f'{network_folder}simulationResults/SensAnalysis{ctrld_HvProd_name}_PersRob.pkl')"
   ]
  },
  {
   "cell_type": "markdown",
   "id": "05e8d887-7460-4ac9-9a03-6781fa2dfd17",
   "metadata": {},
   "source": [
    "-----"
   ]
  },
  {
   "cell_type": "markdown",
   "id": "e9e9f1af-78f6-4a21-b006-df0132942238",
   "metadata": {
    "tags": []
   },
   "source": [
    "#### FUTURE KNOWN"
   ]
  },
  {
   "cell_type": "markdown",
   "id": "442c23f0-238d-47e5-b5dd-6a300dcfc2e9",
   "metadata": {},
   "source": [
    "**<span style='color:Orange'>  The results of the Future Known simulation using the default networks (Civaux and St Laurent) is availaible in</span>** [SensAnalysisP0100_FutureKnown](../Pickle_files/simulationResults/SensAnalysisP0100_FutureKnown.pkl). "
   ]
  },
  {
   "cell_type": "code",
   "execution_count": null,
   "id": "5aedf556-1d7e-4d37-b6b8-08e4b8373aaf",
   "metadata": {
    "scrolled": true,
    "tags": []
   },
   "outputs": [],
   "source": [
    "sim_res_Dict = {}  # Dictionnary to save variables\n",
    "\n",
    "for cur_index in range(len(ctrld_hvProd_max_range)):\n",
    "\n",
    "    # Define the upsacaled output of the controlled HV prodf\n",
    "    upscaled_ctrld_hvProd_max = ctrld_hvProd_max_range[cur_index]  \n",
    "    \n",
    "    # Initialize variables for parallel engines\n",
    "    dict_df_sgenLoad = oriFc.createDict_prodHtBt_Load(df_final,\n",
    "                                                      networks, \n",
    "                                                      cur_hvProd_max = upscaled_ctrld_hvProd_max )\n",
    "    \n",
    "    print(f'***************************       Simulation {cur_index+1}/{len(ctrld_hvProd_max_range)}      ****************')\n",
    "    print(\"                           ------- Bloc PF/OPF ---------         \")\n",
    "    ##          ---------------------------  BLOCK PF/OPF  ------------------------         ##\n",
    "    # Initialize the parallel engine parameters i.e. send variable into each local space\n",
    "    opf_status = 'Both'\n",
    "    df_prodHT_index = dict_df_sgenLoad['df_prodHT'].index # Extract  index of periods.\n",
    "    \n",
    "    # Send all the created variables into local spaces of each engine.\n",
    "    parEngines.sendVar_to_localSpace(df_prodHT_index, \n",
    "                                     opf_status, \n",
    "                                     dict_df_sgenLoad, \n",
    "                                     parameters_dict, \n",
    "                                     clean=True )\n",
    "    # cALL Block pf/op\n",
    "    ctrld_HvProd_opt = par_block_pfOpf(parEngines)    \n",
    "    \n",
    "    # Get maximum voltage over the network \n",
    "    max_vm_pu_df_known = ctrld_HvProd_opt[['max_vm_pu']]\n",
    "    max_vm_pu_df_known.rename(columns={'max_vm_pu':'Fut_Known'}, inplace=True)\n",
    "    max_vm_pu_pf_df = ctrld_HvProd_opt[['max_vm_pu_pf']] \n",
    "    \n",
    "    \n",
    "#  #####   Saving Results  --------------------------------------------------------------------------------------\n",
    "    mask = per_index2[day_tot_per:]\n",
    "    # Rename simulation result according to the simulation number.\n",
    "    ctrld_HvProd_known_df = ctrld_HvProd_opt.loc[mask, [ctrld_HvProd_name]]\n",
    "    ctrld_HvProd_known_df.rename(columns={ctrld_HvProd_name:'Fut_Known Sim'+str(cur_index+1)}, \n",
    "                                 inplace=True)\n",
    "    # Concat\n",
    "    ctrld_HvProd_df = df_final.loc[mask, [ctrld_HvProd_name]]\n",
    "    ctrld_HvProd_concat_df = pd.concat([ctrld_hvProd_max_range[cur_index]*ctrld_HvProd_df/default_ctrld_hvProd_max, \n",
    "                                        ctrld_HvProd_known_df], \n",
    "                                       axis='columns')\n",
    "    # Rename\n",
    "    ctrld_HvProd_concat_df.rename(columns=({ctrld_HvProd_name:'No_Control'}), inplace=True);\n",
    "\n",
    "\n",
    "    int_sim_res = {'maxV_rise_df':max_vm_pu_df_known,            # Intermediate results\n",
    "                   'Power Sgen': ctrld_HvProd_concat_df,\n",
    "                   'maxV_rise_pf_df':max_vm_pu_pf_df}         \n",
    "    sim_res_Dict.update([('Sim'+str(cur_index+1),int_sim_res)])   # Final results\n"
   ]
  },
  {
   "cell_type": "markdown",
   "id": "e77e2a45-1bb9-4143-85c4-41935abb284d",
   "metadata": {},
   "source": [
    "##### Save results of the previous simulation"
   ]
  },
  {
   "cell_type": "code",
   "execution_count": null,
   "id": "f3e64df8-9e97-4f3a-90d4-79699ce8fce1",
   "metadata": {},
   "outputs": [],
   "source": [
    "joblib.dump(sim_res_Dict,f'{network_folder}simulationResults/SensAnalysisP0100_FutureKnown.pkl')"
   ]
  },
  {
   "cell_type": "markdown",
   "id": "41a908e5-7e68-4fd0-bb4a-69343f586da6",
   "metadata": {},
   "source": [
    "---"
   ]
  },
  {
   "cell_type": "markdown",
   "id": "d56e04fa-aa83-4661-a203-7a25d34f3791",
   "metadata": {
    "tags": []
   },
   "source": [
    "#### RNN - Non Robust"
   ]
  },
  {
   "cell_type": "markdown",
   "id": "eb606fe4-dd4c-4174-927a-676c6e06d001",
   "metadata": {},
   "source": [
    "**<span style='color:Orange'>  The results of the RNN simulation using the default networks (Civaux and St Laurent) is availaible in</span>** [SensAnalysisP0100_RNN](../Pickle_files/simulationResults/SensAnalysisP0100_RNN.pkl). "
   ]
  },
  {
   "cell_type": "markdown",
   "id": "d09ec9ce-c34e-4c5d-88a2-e0ebaad4adc6",
   "metadata": {
    "tags": []
   },
   "source": [
    "##### Create a function to rename Columns the RNNprediction dataframe name \n",
    "\n",
    "\n",
    "    Ex: from ==> ['P0013_RNN', 'P0018_RNN', 'P0100_RNN'] ==> to ['P0013', 'P0018', 'P0100']"
   ]
  },
  {
   "cell_type": "code",
   "execution_count": 15,
   "id": "14c9425c-25f9-4cfd-bb9a-30f9dfbd7a99",
   "metadata": {},
   "outputs": [],
   "source": [
    "rename_cols = lambda name_list : [name.split('_R')[0] for name in name_list]"
   ]
  },
  {
   "cell_type": "markdown",
   "id": "36c09d4b-e589-408a-9715-20a98183893d",
   "metadata": {},
   "source": [
    "##### Rename prediction Dataframe"
   ]
  },
  {
   "cell_type": "code",
   "execution_count": 16,
   "id": "722ad554-f18f-41b2-a760-15ad749f6cd9",
   "metadata": {},
   "outputs": [],
   "source": [
    "rnnPred_df.rename(columns={cur_name : new_name \n",
    "                           for cur_name, new_name in zip(rnnPred_df.columns,rename_cols(rnnPred_df)) }, \n",
    "                  inplace=True)"
   ]
  },
  {
   "cell_type": "markdown",
   "id": "72b994f4-b337-4714-a92a-fb0c3c02931b",
   "metadata": {},
   "source": [
    "##### Run Simulations"
   ]
  },
  {
   "cell_type": "code",
   "execution_count": null,
   "id": "6856b696-b5d1-4a9f-912a-42e854d67d38",
   "metadata": {
    "scrolled": true,
    "tags": []
   },
   "outputs": [],
   "source": [
    "sim_res_Dict_rnn = {}  # Dictionnary to save variables\n",
    "\n",
    "for cur_index in range(len(ctrld_hvProd_max_range)): \n",
    "    \n",
    "    # Define the upsacaled output of the controlled HV prod based on the current index\n",
    "    upscaled_ctrld_hvProd_max = ctrld_hvProd_max_range[cur_index]  \n",
    "\n",
    "    # Initialize variables for parallel engines\n",
    "    dict_df_sgenLoad = oriFc.createDict_prodHtBt_Load(rnnPred_df,\n",
    "                                                      networks, \n",
    "                                                      cur_hvProd_max = upscaled_ctrld_hvProd_max )\n",
    "\n",
    "    print(f'***************************       Simulation {cur_index+1}/{len(ctrld_hvProd_max_range)}      ****************')\n",
    "    print(\"                           ------- Bloc PF/OPF ---------         \")\n",
    "    ##          ---------------------------  BLOCK PF/OPF  ------------------------         ##\n",
    "    # Initialize the parallel engine parameters i.e. send variable into each local space\n",
    "    opf_status = 'Both'\n",
    "    df_prodHT_index = dict_df_sgenLoad['df_prodHT'].index # Extract  index of periods.\n",
    "    \n",
    "    # Send all the created variables into local spaces of each engine.\n",
    "    parEngines.sendVar_to_localSpace(df_prodHT_index, \n",
    "                                     opf_status, \n",
    "                                     dict_df_sgenLoad, \n",
    "                                     parameters_dict, \n",
    "                                     clean=True )\n",
    "    # cALL Block pf/op\n",
    "    ctrld_HvProd_opt = par_block_pfOpf(parEngines)    \n",
    "    \n",
    "    ##           ---------------------------  BLOCK PROD  ------------------------         ##\n",
    "    oriFc.block_prod(ctrld_HvProd_opt, \n",
    "                     df_final[[ctrld_HvProd_name]], \n",
    "                     cur_hvProd_max = upscaled_ctrld_hvProd_max )\n",
    "    #------------------------------------------------------------------------------\n",
    "    \n",
    "    # Create mask\n",
    "    mask_per2work = per_index2[day_tot_per:]\n",
    "\n",
    "    # ------  Update Values of the dataframe to use for final power flow bloc with Interest variables \n",
    "    # (Real load, real Prod of LV Prod, and Non-COntroled HV Prod, Injected power of Ctrl Prod\n",
    "    df_final2 =pd.concat([df_final.loc[mask_per2work].iloc[:,[0,1]],\n",
    "                          df_final.loc[mask_per2work, non_ctrld_HvProd_names_list],\n",
    "                          ctrld_HvProd_opt.loc[mask_per2work, [ctrld_HvProd_name]],\n",
    "                         ], axis='columns')\n",
    "    \n",
    "    checker.check_networkDataDf_columnsOrder(df_final2)    # Check df_final2 columns order\n",
    "    \n",
    "    # Creat dict to send to par Engines based\n",
    "    dict_df_sgenLoad = oriFc.createDict_prodHtBt_Load(df_final2,\n",
    "                                                      networks )\n",
    "    ##             ---------------------------  BLOCK PF  ------------------------         ##\n",
    "    print(\"                            ------- Bloc PF/OPF ---------         \")    \n",
    "    opf_status = False\n",
    "    df_prodHT_index = dict_df_sgenLoad['df_prodHT'].index # Extract  index of periods.\n",
    "    \n",
    "    # Send all the created variables into local spaces of each engine.\n",
    "    parEngines.sendVar_to_localSpace(df_prodHT_index, \n",
    "                                     opf_status, \n",
    "                                     dict_df_sgenLoad, \n",
    "                                     parameters_dict, \n",
    "                                     clean=False )\n",
    "    # cALL Block pf\n",
    "    max_vm_pu_rnn_df = par_block_pfOpf(parEngines) \n",
    "\n",
    "#  #####   Saving Results  --------------------------------------------------------------------------------------\n",
    "    ctrld_HvProd_df = df_final.loc[df_final2.index, [ctrld_HvProd_name]]\n",
    "    \n",
    "    ctrld_HvProd_rnn_df = ctrld_HvProd_opt.loc[mask, [ctrld_HvProd_name]]\n",
    "    ctrld_HvProd_rnn_df.rename(columns={ctrld_HvProd_name:'RNN Sim'+str(cur_index+1)}, \n",
    "                                 inplace=True)\n",
    "    # Concat\n",
    "    ctrld_HvProd_concat_df = pd.concat([ctrld_hvProd_max_range[cur_index]*ctrld_HvProd_df/default_ctrld_hvProd_max,\n",
    "                                        ctrld_HvProd_rnn_df],\n",
    "                                       axis='columns')\n",
    "    # Rename\n",
    "    ctrld_HvProd_concat_df.rename(columns=({ctrld_HvProd_name:'No_Control'}), inplace=True);\n",
    "\n",
    "    int_sim_res = {'maxV_rise_df':max_vm_pu_rnn_df,            # Intermediate results\n",
    "                   'Power Sgen': ctrld_HvProd_concat_df}         \n",
    "    sim_res_Dict.update([('Sim'+str(cur_index+1),int_sim_res)])# Final results\n"
   ]
  },
  {
   "cell_type": "markdown",
   "id": "ea5791ec-154f-47f5-97a6-9ccce0de0279",
   "metadata": {},
   "source": [
    "##### Save results of the previous simulation"
   ]
  },
  {
   "cell_type": "code",
   "execution_count": null,
   "id": "3c7ec021-ab28-4fff-9745-5301e4c2ffc2",
   "metadata": {},
   "outputs": [],
   "source": [
    "joblib.dump(sim_res_Dict,f'{network_folder}simulationResults/SensAnalysisP0100_RNN.pkl')"
   ]
  },
  {
   "cell_type": "markdown",
   "id": "79682259-de23-4a95-9acb-1162ba5ca58d",
   "metadata": {
    "tags": []
   },
   "source": [
    "#### ROBUST Combined RNN "
   ]
  },
  {
   "cell_type": "markdown",
   "id": "db426644-d649-4482-a4db-139ade89b038",
   "metadata": {},
   "source": [
    "**<span style='color:Orange'>  The results of the robust RNN simulation using the default networks (Civaux and St Laurent) are availaible for </span> [P0100_RNN_Robust_Model1](../Pickle_files/simulationResults/SensAnalysisP0100_RNN_Robust_Model1.pkl) <span style='color:orange'> and  </span> [P0100_RNN_Robust_Model3](../Pickle_files/simulationResults/SensAnalysisP0100_RNN_Robust_Model3.pkl)** "
   ]
  },
  {
   "cell_type": "markdown",
   "id": "81e476bf-384b-490d-962f-57793c161f27",
   "metadata": {},
   "source": [
    "##### Load predicted variables based on both models"
   ]
  },
  {
   "cell_type": "code",
   "execution_count": 18,
   "id": "4b8e7e86-6f10-4141-a19b-59a317119bdc",
   "metadata": {},
   "outputs": [],
   "source": [
    "pred_num_vRise = joblib.load(f'{network_folder}simulationResults/Numerical_Voltage_Rise_Predicted.pkl')\n",
    "pred_bin_vRise = joblib.load(f'{network_folder}simulationResults/Binary_Voltage_Rise_Predicted.pkl')\n",
    "\n",
    "mask_per2work = pred_bin_vRise[pred_bin_vRise.index>='2021 06 02'].index # We select valSet_start_M2 + 1 day  of testing set "
   ]
  },
  {
   "cell_type": "markdown",
   "id": "6b7f3247-29df-469b-a959-e96e05e1daf7",
   "metadata": {},
   "source": [
    "##### Define the Model to use for the combined Robust Prediction\n",
    "The user might choose here, the combination of models to use. We have worked with `\"Model1\"` and `\"Model3\"`. See the Documentation of [`oriFunctions.combineRnnPred()`](https://ori-srd.readthedocs.io/en/stable/orifunctions/descriptionOfFunctions.html#combinernnpred) for the possible choices."
   ]
  },
  {
   "cell_type": "code",
   "execution_count": 19,
   "id": "3d62c5b9-8f8f-4478-bff9-acd3fbc5dfae",
   "metadata": {},
   "outputs": [],
   "source": [
    "paramUser = 'Model3' # Choose model to use for combined Prediction"
   ]
  },
  {
   "cell_type": "markdown",
   "id": "b536ba1a-f4af-4b09-9864-b0310cdc23ca",
   "metadata": {},
   "source": [
    "##### Run Simulations"
   ]
  },
  {
   "cell_type": "code",
   "execution_count": null,
   "id": "f45d2594-731a-475d-b13e-c8bdd20bc1ec",
   "metadata": {
    "scrolled": true,
    "tags": []
   },
   "outputs": [],
   "source": [
    "sim_res_Dict_rnn_rob = {}  # Dictionnary to save variables\n",
    "\n",
    "for cur_index in range(len(ctrld_hvProd_max_range)): \n",
    "    \n",
    "    # Define the upsacaled output of the controlled HV prod based on the current index\n",
    "    upscaled_ctrld_hvProd_max = ctrld_hvProd_max_range[cur_index]  \n",
    "\n",
    "    # Initialize variables for parallel engines\n",
    "    dict_df_sgenLoad = oriFc.createDict_prodHtBt_Load(rnnPred_df,\n",
    "                                                      networks, \n",
    "                                                      cur_hvProd_max = upscaled_ctrld_hvProd_max )\n",
    "\n",
    "    print(f'***************************       Simulation {cur_index+1}/{len(ctrld_hvProd_max_range)}      ****************')\n",
    "    print(\"                           ------- Bloc PF/OPF ---------         \")\n",
    "    ##          ---------------------------  BLOCK PF/OPF  ------------------------         ##\n",
    "    # Initialize the parallel engine parameters i.e. send variable into each local space\n",
    "    opf_status = 'Both'\n",
    "    df_prodHT_index = dict_df_sgenLoad['df_prodHT'].index # Extract  index of periods.\n",
    "    \n",
    "    # Send all the created variables into local spaces of each engine.\n",
    "    parEngines.sendVar_to_localSpace(df_prodHT_index, \n",
    "                                     opf_status, \n",
    "                                     dict_df_sgenLoad, \n",
    "                                     parameters_dict, \n",
    "                                     clean=True )\n",
    "    # cALL Block pf/op\n",
    "    model1_pred_res = par_block_pfOpf(parEngines)   \n",
    "    \n",
    "    ##  Associate each model to its data\n",
    "    model1_Vrise, model2_Vrise, model3_Vrise = (model1_pred_res.loc[mask_per2work, ['max_vm_pu_pf']],  \n",
    "                                                pred_bin_vRise.loc[mask_per2work], \n",
    "                                                pred_num_vRise.loc[mask_per2work])\n",
    "    \n",
    "    # create a dictionnary to save modelVrise\n",
    "    v_rise_dict = {name: model for name, model in zip(['Model'+str(i) for i in range(1,4)],\n",
    "                                                      [model1_Vrise, model2_Vrise, model3_Vrise] ) }\n",
    "    \n",
    "    # Extract P0100 based on robust prediction of threshold\n",
    "    ctrld_HvProd_opt, binThresh_df = oriFc.combineRnnPred(v_rise_dict, \n",
    "                                                          model1_pred_res[[ctrld_HvProd_name]], \n",
    "                                                          auth_max_VriseHvBus=vm_mu_max,\n",
    "                                                          n_models=paramUser)\n",
    "    # Implement robustness -------------------------------------\n",
    "    oriFc.robustness(ctrld_HvProd_opt, \n",
    "                     df_final[[ctrld_HvProd_name]], \n",
    "                     cur_hvProd_max = upscaled_ctrld_hvProd_max,\n",
    "                     combRnn_param = (binThresh_df,paramUser)\n",
    "                    )\n",
    "    ##             ---------------------------  BLOCK PROD  ------------------------         ##\n",
    "    oriFc.block_prod(ctrld_HvProd_opt, \n",
    "                     df_final[[ctrld_HvProd_name]], \n",
    "                     cur_hvProd_max = upscaled_ctrld_hvProd_max )\n",
    "    #-------------------------------------------------------------------------------------------\n",
    "    \n",
    "    # ------  Update Values of the dataframe to use for final power flow bloc with Interest variables \n",
    "    # (Real load, real Prod of LV Prod, and Non-COntroled HV Prod, Injected power of Ctrl Prod\n",
    "    df_final2 =pd.concat([df_final.loc[mask_per2work].iloc[:,[0,1]],\n",
    "                          df_final.loc[mask_per2work, non_ctrld_HvProd_names_list],\n",
    "                          ctrld_HvProd_opt.loc[mask_per2work, [ctrld_HvProd_name]],\n",
    "                         ], axis='columns')\n",
    "    \n",
    "    # Check df_final2 columns order\n",
    "    checker.check_networkDataDf_columnsOrder(df_final2)    \n",
    "    \n",
    "    # Creat dict to send to par Engines based\n",
    "    dict_df_sgenLoad = oriFc.createDict_prodHtBt_Load(df_final2,\n",
    "                                                      networks )\n",
    "    \n",
    "    #             ---------------------------  BLOCK PF  ------------------------         ##\n",
    "    print(\"                            ------- Bloc PF/OPF ---------         \")\n",
    "    opf_status = False\n",
    "    df_prodHT_index = dict_df_sgenLoad['df_prodHT'].index # Extract  index of periods.\n",
    "    \n",
    "    # Send all the created variables into local spaces of each engine.\n",
    "    parEngines.sendVar_to_localSpace(df_prodHT_index, \n",
    "                                     opf_status, \n",
    "                                     dict_df_sgenLoad, \n",
    "                                     parameters_dict, \n",
    "                                     clean=False )\n",
    "    # cALL Block pf\n",
    "    max_vm_pu_rnn_df = par_block_pfOpf(parEngines)  \n",
    "\n",
    "    #####   Saving Results ----------------------------------------------------------------------\n",
    "    ctrld_HvProd_df = df_final.loc[df_final2.index, [ctrld_HvProd_name]]\n",
    "    ctrld_HvProd_rnn_df = ctrld_HvProd_opt.loc[mask_per2work, [ctrld_HvProd_name]]\n",
    "    ctrld_HvProd_rnn_df.rename(columns={ctrld_HvProd_name:'RNN Sim'+str(cur_index+1)}, \n",
    "                               inplace=True)\n",
    "   # Concat\n",
    "    ctrld_HvProd_concat_df = pd.concat([ctrld_hvProd_max_range[cur_index]*ctrld_HvProd_df/default_ctrld_hvProd_max,\n",
    "                                        ctrld_HvProd_rnn_df], \n",
    "                                       axis='columns')\n",
    "    # Rename\n",
    "    ctrld_HvProd_concat_df.rename(columns=({ctrld_HvProd_name:'No_Control'}), inplace=True);\n",
    "\n",
    "\n",
    "    int_sim_res = {'maxV_rise_df':max_vm_pu_rnn_df,              # Intermediate results\n",
    "                   'Power Sgen': ctrld_HvProd_concat_df}         \n",
    "    sim_res_Dict_rnn_rob.update([('Sim'+str(cur_index+1),int_sim_res)])   # Final results\n"
   ]
  },
  {
   "cell_type": "markdown",
   "id": "40bc0957-fc31-49a6-ae75-8d2371e39a05",
   "metadata": {},
   "source": [
    "##### Save results of the previous simulation"
   ]
  },
  {
   "cell_type": "code",
   "execution_count": null,
   "id": "a47a3c57-7af0-420d-bc03-6a2966884c4c",
   "metadata": {},
   "outputs": [],
   "source": [
    "joblib.dump(sim_res_Dict_rnn_rob,f'{network_folder}simulationResults/SensAnalysisP0100_RNN_Robust_{paramUser}.pkl')"
   ]
  }
 ],
 "metadata": {
  "kernelspec": {
   "display_name": "Python 3 (ipykernel)",
   "language": "python",
   "name": "python3"
  },
  "language_info": {
   "codemirror_mode": {
    "name": "ipython",
    "version": 3
   },
   "file_extension": ".py",
   "mimetype": "text/x-python",
   "name": "python",
   "nbconvert_exporter": "python",
   "pygments_lexer": "ipython3",
   "version": "3.7.15"
  },
  "widgets": {
   "application/vnd.jupyter.widget-state+json": {
    "state": {},
    "version_major": 2,
    "version_minor": 0
   }
  }
 },
 "nbformat": 4,
 "nbformat_minor": 5
}
